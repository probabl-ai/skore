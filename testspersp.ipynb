{
 "cells": [
  {
   "cell_type": "code",
   "execution_count": null,
   "id": "07d00be9",
   "metadata": {},
   "outputs": [],

   "source": [
    "from skore import ComparisonReport, CrossValidationReport\n",
    "from sklearn.linear_model import LogisticRegression\n",
    "from sklearn.datasets import make_classification\n",
    "\n",
    "X, y = make_classification(n_samples=100, n_features=20, random_state=42)\n",
    "model = LogisticRegression()\n",
    "report = CrossValidationReport(estimator=model, X=X, y=y)\n"
   ]
  },
  {
   "cell_type": "code",
   "execution_count": null,
   "id": "e728661d",
   "metadata": {},
   "outputs": [],

   "source": [
    "report.get_predictions(data_source=\"test\", response_method=\"predict\")\n",
    "report.get_predictions(data_source=\"test\")"
   ]
  }
 ],
 "metadata": {
  "kernelspec": {
   "display_name": "skore",
   "language": "python",
   "name": "python3"
  },
  "language_info": {
   "codemirror_mode": {
    "name": "ipython",
    "version": 3
   },
   "file_extension": ".py",
   "mimetype": "text/x-python",
   "name": "python",
   "nbconvert_exporter": "python",
   "pygments_lexer": "ipython3",
   "version": "3.10.6"
  }
 },
 "nbformat": 4,
 "nbformat_minor": 5
}
