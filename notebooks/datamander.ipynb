{
 "cells": [
  {
   "cell_type": "code",
   "execution_count": 1,
   "id": "1fe92645-92ee-40bd-b15e-0ba2c4d1118a",
   "metadata": {},
   "outputs": [],
   "source": [
    "%load_ext autoreload\n",
    "%autoreload 2"
   ]
  },
  {
   "cell_type": "code",
   "execution_count": 2,
   "id": "7c076046-6296-4f8a-b7e0-521a1f9f4343",
   "metadata": {},
   "outputs": [],
   "source": [
    "from bundl import InfoMander\n",
    "from bundl.templates import TemplateRenderer\n",
    "import matplotlib.pyplot as plt\n",
    "import numpy as np\n",
    "from sklearn.datasets import make_classification\n",
    "from sklearn.metrics import confusion_matrix, ConfusionMatrixDisplay\n",
    "from sklearn.model_selection import train_test_split\n",
    "from sklearn.linear_model import LogisticRegression\n",
    "from sklearn.model_selection import GridSearchCV\n",
    "import time\n",
    "from bundl.templates import TemplateRenderer\n",
    "import watermark\n",
    "import io\n",
    "import base64\n",
    "\n",
    "\n",
    "def train_model():\n",
    "    X, y = make_classification(random_state=0)\n",
    "    X_train, X_test, y_train, y_test = train_test_split(X, y, random_state=0)\n",
    "    \n",
    "    tic = time.time()\n",
    "    clf = LogisticRegression(random_state=0)\n",
    "    grid = GridSearchCV(clf, param_grid={'C': np.logspace(0.0001, 1, 10), 'random_state': range(10)})\n",
    "    grid.fit(X_train, y_train)\n",
    "    toc = time.time()\n",
    "    return grid, tic, toc"
   ]
  },
  {
   "cell_type": "code",
   "execution_count": 13,
   "id": "47f83258-e02b-41be-8096-da2ab9bb4e0e",
   "metadata": {},
   "outputs": [
    {
     "name": "stdout",
     "output_type": "stream",
     "text": [
      "InfoMander(.datamander/probabl-ai/demo-usecase/training/0)\n",
      "dict_keys(['X_shape', 'artifacts', 'cv_results', 'logs', 'n_classes', 'templates', 'train_time', 'updated_at', 'views'])\n",
      "0\n",
      "InfoMander(.datamander/probabl-ai/demo-usecase/training/1)\n",
      "dict_keys(['X_shape', 'artifacts', 'cv_results', 'logs', 'n_classes', 'templates', 'train_time', 'updated_at', 'views'])\n",
      "1\n",
      "InfoMander(.datamander/probabl-ai/demo-usecase/training/2)\n",
      "dict_keys(['X_shape', 'artifacts', 'cv_results', 'logs', 'n_classes', 'templates', 'train_time', 'updated_at', 'views'])\n",
      "2\n",
      "InfoMander(.datamander/probabl-ai/demo-usecase/training/3)\n",
      "dict_keys(['X_shape', 'artifacts', 'cv_results', 'logs', 'n_classes', 'templates', 'train_time', 'updated_at', 'views'])\n",
      "3\n",
      "InfoMander(.datamander/probabl-ai/demo-usecase/training/4)\n",
      "dict_keys(['X_shape', 'artifacts', 'cv_results', 'logs', 'n_classes', 'templates', 'train_time', 'updated_at', 'views'])\n",
      "4\n"
     ]
    },
    {
     "data": {
      "text/plain": [
       "<Figure size 640x480 with 0 Axes>"
      ]
     },
     "metadata": {},
     "output_type": "display_data"
    }
   ],
   "source": [
    "for i in range(5):\n",
    "    X, y = make_classification(random_state=i)\n",
    "    X_train, X_test, y_train, y_test = train_test_split(X, y, random_state=0)\n",
    "    mander = InfoMander(f'probabl-ai/demo-usecase/training/{i}')\n",
    "    \n",
    "    grid, tic, toc = train_model()\n",
    "    \n",
    "    template = \"\"\"\n",
    "    This dataset has {{n_classes}} classes.\n",
    "    \n",
    "    <scatter-chart title='Chart' data='cv_results' x='mean_test_score' y='std_test_score'/>\n",
    "    \"\"\"\n",
    "    \n",
    "    cm = confusion_matrix(y_test, grid.predict(X_test), labels=grid.classes_)\n",
    "    disp = ConfusionMatrixDisplay(confusion_matrix=cm,\n",
    "                                  display_labels=grid.classes_)\n",
    "    # disp.plot()\n",
    "    \n",
    "    myio = io.BytesIO()\n",
    "    plt.savefig(myio, format='jpg')\n",
    "    myio.seek(0)\n",
    "    base64_img = base64.b64encode(myio.read()).decode()\n",
    "    \n",
    "    mander.add_logs('watermark', watermark.watermark().replace('\\n','<br>'))\n",
    "    mander.add_view('confusion_matrix', f'<img src=\"data:image/png;base64, {base64_img}\">')\n",
    "    mander.add_artifact('model', grid)\n",
    "    mander.add_info('train_time', toc - tic)\n",
    "    mander.add_info('cv_results', grid.cv_results_)\n",
    "    mander.add_info('X_shape', list(X.shape))\n",
    "    mander.add_info('n_classes', len(set(y)))\n",
    "    mander.add_view('index', TemplateRenderer(mander).render(template))\n",
    "    mander.add_logs('watermark', watermark.watermark().replace('\\n','<br>'))\n",
    "    print(mander)\n",
    "    print(mander.fetch().keys())\n",
    "    print(i)"
   ]
  },
  {
   "cell_type": "code",
   "execution_count": 19,
   "id": "64dbded6-d8d7-4796-b9db-0972e1aaf771",
   "metadata": {},
   "outputs": [
    {
     "data": {
      "text/plain": [
       "dict_keys(['X_shape', 'artifacts', 'cv_results', 'logs', 'n_classes', 'templates', 'train_time', 'updated_at', 'views'])"
      ]
     },
     "execution_count": 19,
     "metadata": {},
     "output_type": "execute_result"
    }
   ],
   "source": [
    "highmander = InfoMander('probabl-ai/demo-usecase/training/0')\n",
    "highmander.fetch().keys()"
   ]
  },
  {
   "cell_type": "code",
   "execution_count": null,
   "id": "6b864692",
   "metadata": {},
   "outputs": [],
   "source": []
  },
  {
   "cell_type": "code",
   "execution_count": 20,
   "id": "972a42c5",
   "metadata": {},
   "outputs": [
    {
     "name": "stdout",
     "output_type": "stream",
     "text": [
      "\u001b[2;36m[16:18:47]\u001b[0m\u001b[2;36m \u001b[0m\u001b[1m[\u001b[0m\u001b[32m'*'\u001b[0m, \u001b[32m'last_updated'\u001b[0m\u001b[1m]\u001b[0m                                \u001b]8;id=293661;file:///Users/vincent/Development/datamander/bundl/infomander.py\u001b\\\u001b[2minfomander.py\u001b[0m\u001b]8;;\u001b\\\u001b[2m:\u001b[0m\u001b]8;id=185344;file:///Users/vincent/Development/datamander/bundl/infomander.py#90\u001b\\\u001b[2m90\u001b[0m\u001b]8;;\u001b\\\n",
      "\u001b[2;36m          \u001b[0m\u001b[2;36m \u001b[0m\u001b[1m[\u001b[0m                                                   \u001b]8;id=760853;file:///Users/vincent/Development/datamander/bundl/infomander.py\u001b\\\u001b[2minfomander.py\u001b[0m\u001b]8;;\u001b\\\u001b[2m:\u001b[0m\u001b]8;id=464104;file:///Users/vincent/Development/datamander/bundl/infomander.py#114\u001b\\\u001b[2m114\u001b[0m\u001b]8;;\u001b\\\n",
      "\u001b[2;36m           \u001b[0m    \u001b[32m'probabl-ai/demo-usecase/training/0/.stats'\u001b[0m,    \u001b[2m                 \u001b[0m\n",
      "\u001b[2;36m           \u001b[0m    \u001b[32m'probabl-ai/demo-usecase/training/0/.artifacts'\u001b[0m \u001b[2m                 \u001b[0m\n",
      "\u001b[2;36m           \u001b[0m\u001b[1m]\u001b[0m                                                   \u001b[2m                 \u001b[0m\n"
     ]
    },
    {
     "data": {
      "text/plain": [
       "[]"
      ]
     },
     "execution_count": 20,
     "metadata": {},
     "output_type": "execute_result"
    }
   ],
   "source": [
    "highmander.get('@mander/*.last_updated')\n"
   ]
  },
  {
   "cell_type": "code",
   "execution_count": null,
   "id": "6fc7f7d3",
   "metadata": {},
   "outputs": [],
   "source": []
  },
  {
   "cell_type": "code",
   "execution_count": null,
   "id": "c385a013",
   "metadata": {},
   "outputs": [],
   "source": []
  }
 ],
 "metadata": {
  "kernelspec": {
   "display_name": "Python 3 (ipykernel)",
   "language": "python",
   "name": "python3"
  },
  "language_info": {
   "codemirror_mode": {
    "name": "ipython",
    "version": 3
   },
   "file_extension": ".py",
   "mimetype": "text/x-python",
   "name": "python",
   "nbconvert_exporter": "python",
   "pygments_lexer": "ipython3",
   "version": "3.11.6"
  }
 },
 "nbformat": 4,
 "nbformat_minor": 5
}
