{
 "cells": [
  {
   "cell_type": "markdown",
   "metadata": {},
   "source": [
    "# Getting started with `skore`"
   ]
  },
  {
   "cell_type": "markdown",
   "metadata": {},
   "source": [
    "# Introduction\n",
    "\n",
    "The purpose of this guide is to illustrate some of the main features that `skore` provides. Please refer to our installation instructions for installing `skore`. \n",
    "\n",
    "Given to you by [:probabl.](https://probabl.ai/), `skore` is a powerful tool that allows data scientists to create tracking and clear reports from their Python code, typically a notebook. For example, this notebook generated a skore dashboard that was then exported into [this HTML file](https://drive.google.com/file/d/1wPUTWBov6lWVivnbkLyhzUis3aQJsSjV/view?usp=share_link)."
   ]
  },
  {
   "cell_type": "markdown",
   "metadata": {},
   "source": [
    "## Imports"
   ]
  },
  {
   "cell_type": "code",
   "execution_count": null,
   "metadata": {},
   "outputs": [],
   "source": [
    "import pandas as pd\n",
    "import numpy as np\n",
    "import altair as alt\n",
    "\n",
    "from sklearn.datasets import load_diabetes\n",
    "from sklearn.linear_model import Lasso\n",
    "from sklearn.pipeline import Pipeline\n",
    "from sklearn.preprocessing import StandardScaler\n",
    "\n",
    "from skore import Store"
   ]
  },
  {
   "cell_type": "markdown",
   "metadata": {},
   "source": [
    "# Initialize and use a Store\n",
    "\n",
    "To initialize a Store, we need to give it a root path, which amounts to giving it a name:"
   ]
  },
  {
   "cell_type": "code",
   "execution_count": null,
   "metadata": {},
   "outputs": [],
   "source": [
    "root_store = Store(\"root\")"
   ]
  },
  {
   "cell_type": "code",
   "execution_count": null,
   "metadata": {},
   "outputs": [],
   "source": [
    "store = Store(\"root/basic_usage\")"
   ]
  },
  {
   "cell_type": "markdown",
   "metadata": {},
   "source": [
    "Here, the name is `basic_usage`.\n",
    "\n",
    "This abstract path lets you express a hierarchy between Stores (so a Store can contain Stores).\n",
    "\n",
    "A Store also needs some physical storage to get and put items from/into.\n",
    "By default, this storage will be in a `.datamander` directory in the current working directory.\n",
    "\n",
    "Now that you have created the `.datamander` folder (even though nothing has yet been stored), you can run the dashboard (in your project root i.e. where `.datamander` is):\n",
    "```python3\n",
    "$ python -m skore launch .datamander\n",
    "```\n",
    "\n",
    ">*Note*: If you already had some data in your `.datamander` directory from a previous run -- you can check for that by using:\n",
    ">```python3\n",
    ">$ ls -a\n",
    ">```\n",
    ">and if you no longer need its objects, we recommend deleting this folder by running:\n",
    ">```python3\n",
    ">$ rm -rf .datamander\n",
    ">```\n",
    ">This deletion needs to be done before the cells above: before initializing the store and before launching the dashboard!"
   ]
  },
  {
   "cell_type": "markdown",
   "metadata": {},
   "source": [
    "## Storing an integer"
   ]
  },
  {
   "cell_type": "markdown",
   "metadata": {},
   "source": [
    "Now, let us store our first object, for example an integer:"
   ]
  },
  {
   "cell_type": "code",
   "execution_count": null,
   "metadata": {},
   "outputs": [],
   "source": [
    "store.insert(\"my_int\", 3)"
   ]
  },
  {
   "cell_type": "markdown",
   "metadata": {},
   "source": [
    "Here, the name of my object is `my_int` and the integer value is 3.\n",
    "\n",
    "You can read it from the Store:"
   ]
  },
  {
   "cell_type": "code",
   "execution_count": null,
   "metadata": {},
   "outputs": [],
   "source": [
    "store.read(\"my_int\")"
   ]
  },
  {
   "cell_type": "markdown",
   "metadata": {},
   "source": [
    "The `insert` method will raise an error if the object already exists in order to prevent accidentally overwriting data in the Store. If you wish to change the value of this object, you must update its value:"
   ]
  },
  {
   "cell_type": "code",
   "execution_count": null,
   "metadata": {},
   "outputs": [],
   "source": [
    "store.update(\"my_int\", 4)"
   ]
  },
  {
   "cell_type": "markdown",
   "metadata": {},
   "source": [
    "Let us check the updated value:"
   ]
  },
  {
   "cell_type": "code",
   "execution_count": null,
   "metadata": {},
   "outputs": [],
   "source": [
    "store.read(\"my_int\")"
   ]
  },
  {
   "cell_type": "markdown",
   "metadata": {},
   "source": [
    "By using the `delete` method, you can also delete an object so that your `skore` dashboard does not become cluttered:"
   ]
  },
  {
   "cell_type": "code",
   "execution_count": null,
   "metadata": {},
   "outputs": [],
   "source": [
    "store.insert(\"my_int_2\", 10)"
   ]
  },
  {
   "cell_type": "code",
   "execution_count": null,
   "metadata": {},
   "outputs": [],
   "source": [
    "store.delete(\"my_int_2\")"
   ]
  },
  {
   "cell_type": "markdown",
   "metadata": {},
   "source": [
    "You can also display all the objects in your store directly from Python:"
   ]
  },
  {
   "cell_type": "code",
   "execution_count": null,
   "metadata": {},
   "outputs": [],
   "source": [
    "for key, value in store.items():\n",
    "    print(f\"Key {key} corresponds to value {value}\")"
   ]
  },
  {
   "cell_type": "markdown",
   "metadata": {},
   "source": [
    "## Storing a string"
   ]
  },
  {
   "cell_type": "markdown",
   "metadata": {},
   "source": [
    "We just stored a integer, now let us store some text using strings!"
   ]
  },
  {
   "cell_type": "code",
   "execution_count": null,
   "metadata": {},
   "outputs": [],
   "source": [
    "store.insert(\"my_string\", \"Hello world!\")"
   ]
  },
  {
   "cell_type": "code",
   "execution_count": null,
   "metadata": {},
   "outputs": [],
   "source": [
    "store.read(\"my_string\")"
   ]
  },
  {
   "cell_type": "markdown",
   "metadata": {},
   "source": [
    "The Store infers the type of the inserted object by default. For example, strings are assumed to be in Markdown format. Hence, you can customize the display of your text:"
   ]
  },
  {
   "cell_type": "code",
   "execution_count": null,
   "metadata": {},
   "outputs": [],
   "source": [
    "store.insert(\n",
    "    \"my_string_2\",\n",
    "    (\n",
    "\"\"\"Hello world!, **bold**, *italic*, `code`  \n",
    "\n",
    "```python\n",
    "def my_func(x):\n",
    "    return x+2\n",
    "```\n",
    "\"\"\"\n",
    "    )\n",
    ")"
   ]
  },
  {
   "cell_type": "markdown",
   "metadata": {},
   "source": [
    "Moreover, you can also explicitly set the type, for example in HTML:"
   ]
  },
  {
   "cell_type": "code",
   "execution_count": null,
   "metadata": {},
   "outputs": [],
   "source": [
    "store.insert(\"my_string_3\", \"<p><h1>Title</h1> <b>bold</b>, <i>italic</i>, etc.</p>\", display_type=\"html\")"
   ]
  },
  {
   "cell_type": "markdown",
   "metadata": {},
   "source": [
    "Note that the display type is only used for the dashboard, and not in this notebook at hand:"
   ]
  },
  {
   "cell_type": "code",
   "execution_count": null,
   "metadata": {},
   "outputs": [],
   "source": [
    "store.read(\"my_string_3\")"
   ]
  },
  {
   "cell_type": "markdown",
   "metadata": {},
   "source": [
    "You can also conveniently use Python f-strings:"
   ]
  },
  {
   "cell_type": "code",
   "execution_count": null,
   "metadata": {},
   "outputs": [],
   "source": [
    "x = 2\n",
    "y = [1, 2, 3, 4]\n",
    "store.insert(\n",
    "    \"my_string_4\",\n",
    "    f\"The value of `x` is {x} and the value of `y` is {y}.\"\n",
    ")"
   ]
  },
  {
   "cell_type": "markdown",
   "metadata": {},
   "source": [
    "## Storing many kinds of data"
   ]
  },
  {
   "cell_type": "markdown",
   "metadata": {},
   "source": [
    "Python list:"
   ]
  },
  {
   "cell_type": "code",
   "execution_count": null,
   "metadata": {},
   "outputs": [],
   "source": [
    "my_list = [1, 2, 3, 4]\n",
    "store.insert(\"my_list\", my_list)"
   ]
  },
  {
   "cell_type": "markdown",
   "metadata": {},
   "source": [
    "Python dictionary:"
   ]
  },
  {
   "cell_type": "code",
   "execution_count": null,
   "metadata": {},
   "outputs": [],
   "source": [
    "my_dict = {\n",
    "    \"company\": \"probabl\",\n",
    "    \"year\": 2023,\n",
    "}\n",
    "store.insert(\"my_dict\", my_dict)"
   ]
  },
  {
   "cell_type": "markdown",
   "metadata": {},
   "source": [
    "NumPy array:"
   ]
  },
  {
   "cell_type": "code",
   "execution_count": null,
   "metadata": {},
   "outputs": [],
   "source": [
    "my_arr = np.random.randn(3, 3)\n",
    "store.insert(\"my_arr\", my_arr)"
   ]
  },
  {
   "cell_type": "markdown",
   "metadata": {},
   "source": [
    "Pandas data frame:"
   ]
  },
  {
   "cell_type": "code",
   "execution_count": null,
   "metadata": {},
   "outputs": [],
   "source": [
    "my_df = pd.DataFrame(np.random.randn(5, 3))\n",
    "store.insert(\"my_df\", my_df)"
   ]
  },
  {
   "cell_type": "markdown",
   "metadata": {},
   "source": [
    "## Storing Altair plots\n",
    "\n",
    "As of today, only Altair plots are supported, but many more will follow! Feel free to contribute!"
   ]
  },
  {
   "cell_type": "code",
   "execution_count": null,
   "metadata": {},
   "outputs": [],
   "source": [
    "num_points = 100\n",
    "df_plot = pd.DataFrame(\n",
    "    {\"x\": np.random.randn(num_points), \"y\": np.random.randn(num_points)}\n",
    ")\n",
    "\n",
    "my_chart = (\n",
    "    alt.Chart(df_plot)\n",
    "    .mark_circle()\n",
    "    .encode(x=\"x\", y=\"y\", tooltip=[\"x\", \"y\"])\n",
    "    .interactive()\n",
    "    .properties(title=\"My title\")\n",
    ")\n",
    "\n",
    "store.insert(\"my_chart\", my_chart)"
   ]
  },
  {
   "cell_type": "markdown",
   "metadata": {},
   "source": [
    "## Scikit-learn model\n",
    "\n",
    "As `skore` is developed by :probabl., the spin-off of scikit-learn, `skore` can naturally handle scikit-learn models and pipelines.\n",
    "\n",
    "First of all, you can store a scikit-learn model:"
   ]
  },
  {
   "cell_type": "code",
   "execution_count": null,
   "metadata": {},
   "outputs": [],
   "source": [
    "my_model = Lasso(alpha=2)\n",
    "store.insert(\"my_model\", my_model)"
   ]
  },
  {
   "cell_type": "markdown",
   "metadata": {},
   "source": [
    "You can also store scikit-learn pipelines:"
   ]
  },
  {
   "cell_type": "code",
   "execution_count": null,
   "metadata": {},
   "outputs": [],
   "source": [
    "my_pipeline = Pipeline(\n",
    "    [\n",
    "        (\"standard_scaler\", StandardScaler()),\n",
    "        (\"lasso\", Lasso(alpha=2))\n",
    "    ]\n",
    ")\n",
    "store.insert(\"my_pipeline\", my_pipeline)"
   ]
  },
  {
   "cell_type": "markdown",
   "metadata": {},
   "source": [
    "Moreover, you can store fitted scikit-learn pipelines:"
   ]
  },
  {
   "cell_type": "code",
   "execution_count": null,
   "metadata": {},
   "outputs": [],
   "source": [
    "diabetes = load_diabetes()\n",
    "X = diabetes.data[:150]\n",
    "y = diabetes.target[:150]\n",
    "my_pipeline.fit(X, y)\n",
    "\n",
    "store.insert(\"my_fitted_pipeline\", my_pipeline)"
   ]
  },
  {
   "cell_type": "markdown",
   "metadata": {},
   "source": [
    "_Stay tuned for some new features!_"
   ]
  },
  {
   "cell_type": "markdown",
   "metadata": {},
   "source": [
    "---\n",
    "# Manipulating the skore dashboard\n",
    "\n",
    "The following is just some skore strings that we generate in order to provide more context on the obtained dashboard."
   ]
  },
  {
   "cell_type": "code",
   "execution_count": null,
   "metadata": {},
   "outputs": [],
   "source": [
    "store.insert(\n",
    "    \"my_comment_1\",\n",
    "    \"<p><h1>Welcome to skore!</h1>Given to you by :probabl., skore is a powerful tool that allows data scientists to create tracking and clear reports from their Python code, typically a notebook. This HTML document is actually a skore dashboard generated using the `basic_usage.ipynb` notebook that has been exported (into HTML)!<p>\"\n",
    ")"
   ]
  },
  {
   "cell_type": "code",
   "execution_count": null,
   "metadata": {},
   "outputs": [],
   "source": [
    "store.insert(\n",
    "    \"my_comment_2\",\n",
    "    \"<p><h2>Integers</h1></p>\"\n",
    ")"
   ]
  },
  {
   "cell_type": "code",
   "execution_count": null,
   "metadata": {},
   "outputs": [],
   "source": [
    "store.insert(\n",
    "    \"my_comment_3\",\n",
    "    \"<p><h2>Strings</h1></p>\"\n",
    ")"
   ]
  },
  {
   "cell_type": "code",
   "execution_count": null,
   "metadata": {},
   "outputs": [],
   "source": [
    "store.insert(\n",
    "    \"my_comment_4\",\n",
    "    \"<p><h2>Many kinds of data</h1></p>\"\n",
    ")"
   ]
  },
  {
   "cell_type": "code",
   "execution_count": null,
   "metadata": {},
   "outputs": [],
   "source": [
    "store.insert(\n",
    "    \"my_comment_5\",\n",
    "    \"<p><h2>Altair plots</h1></p>\"\n",
    ")"
   ]
  },
  {
   "cell_type": "code",
   "execution_count": null,
   "metadata": {},
   "outputs": [],
   "source": [
    "store.insert(\n",
    "    \"my_comment_6\",\n",
    "    \"<p><h2>Scikit-learn models and pipelines</h1></p>\"\n",
    ")"
   ]
  },
  {
   "cell_type": "code",
   "execution_count": null,
   "metadata": {},
   "outputs": [],
   "source": [
    "store.insert(\n",
    "    \"my_comment_7\",\n",
    "    \"<p><h2>Manipulating the skore dashboard</h1></p>\"\n",
    ")"
   ]
  },
  {
   "cell_type": "code",
   "execution_count": null,
   "metadata": {},
   "outputs": [],
   "source": [
    "store.insert(\n",
    "    \"my_comment_8\",\n",
    "    \"<p>Once you have created cells in your Mandr dashboard, you can place them where you want: move them up or down, delete them, for example put one to the left of a graph to comment on it.</p>\"\n",
    ")"
   ]
  },
  {
   "cell_type": "code",
   "execution_count": null,
   "metadata": {},
   "outputs": [],
   "source": [
    "store.insert(\"my_chart_2\", my_chart)"
   ]
  }
 ],
 "metadata": {
  "kernelspec": {
   "display_name": ".venv",
   "language": "python",
   "name": "python3"
  },
  "language_info": {
   "codemirror_mode": {
    "name": "ipython",
    "version": 3
   },
   "file_extension": ".py",
   "mimetype": "text/x-python",
   "name": "python",
   "nbconvert_exporter": "python",
   "pygments_lexer": "ipython3",
   "version": "3.12.4"
  }
 },
 "nbformat": 4,
 "nbformat_minor": 2
}
