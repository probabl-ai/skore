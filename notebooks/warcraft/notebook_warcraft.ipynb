{
 "cells": [
  {
   "cell_type": "markdown",
   "metadata": {},
   "source": [
    "# Introduction"
   ]
  },
  {
   "cell_type": "code",
   "execution_count": 38,
   "metadata": {},
   "outputs": [],
   "source": [
    "import pandas as pd\n",
    "import numpy as np\n",
    "import altair as alt\n",
    "from vega_datasets import data\n",
    "import matplotlib.pyplot as plt\n",
    "import seaborn as sns\n",
    "sns.set()\n",
    "\n",
    "import sklearn\n",
    "from sklearn.datasets import load_diabetes\n",
    "from sklearn.linear_model import Lasso\n",
    "from sklearn.model_selection import cross_validate\n",
    "\n",
    "from mandr import Store"
   ]
  },
  {
   "cell_type": "markdown",
   "metadata": {},
   "source": [
    "# Trying out Mandr on simple objects"
   ]
  },
  {
   "cell_type": "code",
   "execution_count": 3,
   "metadata": {},
   "outputs": [],
   "source": [
    "store = Store(\"root/getting_started\")"
   ]
  },
  {
   "cell_type": "code",
   "execution_count": 5,
   "metadata": {},
   "outputs": [],
   "source": [
    "store.insert(\"my_int\", 3)"
   ]
  },
  {
   "cell_type": "code",
   "execution_count": null,
   "metadata": {},
   "outputs": [],
   "source": [
    "store.read(\"my_int\")"
   ]
  },
  {
   "cell_type": "code",
   "execution_count": 43,
   "metadata": {},
   "outputs": [],
   "source": [
    "store.update(\n",
    "    \"my_string_1\",\n",
    "    \"<p><h1>Welcome to Mandr!</h1>Given to you by :probabl., Mandr is a powerful tool that allows data scientists to create clear reports from their Python code, typically a notebook. This document is actually a Mandr dashboard that was exported into HTML!</br>Mandr allows you to create text and customize it using simple HTML syntax, for example <b>bold</b>, <i>italic</i>, `code`, etc.</p>\"\n",
    ")"
   ]
  },
  {
   "cell_type": "code",
   "execution_count": 44,
   "metadata": {},
   "outputs": [],
   "source": [
    "x = 2\n",
    "y = [1, 2, 3, 4]\n",
    "store.update(\"my_string_2\", f\"<p>You can also conveniently use Python f-strings. For example the value of `x` is {x} and the value of `y` is {y}.</p>\")"
   ]
  },
  {
   "cell_type": "code",
   "execution_count": 29,
   "metadata": {},
   "outputs": [],
   "source": [
    "store.update(\n",
    "    \"my_string_3\",\n",
    "    \"<p>Once you have created cells in your Mandr dashboard, you can place them where you want, delete them, move them up or down, etc.</p>\"\n",
    ")"
   ]
  },
  {
   "cell_type": "code",
   "execution_count": 46,
   "metadata": {},
   "outputs": [],
   "source": [
    "store.update(\n",
    "    \"my_string_4\",\n",
    "    \"<p>Moreover, you can display pandas data frames inline. For example, the following dataframe was obtained after a scikit-learn cross-validation:</p>\"\n",
    ")"
   ]
  },
  {
   "cell_type": "code",
   "execution_count": 32,
   "metadata": {},
   "outputs": [],
   "source": [
    "# Train an sklearn estimator and evaluate it with cross-validation\n",
    "diabetes = load_diabetes()\n",
    "X = diabetes.data[:150]\n",
    "y = diabetes.target[:150]\n",
    "lasso = Lasso()\n",
    "df = pd.DataFrame(cross_validate(lasso, X, y, cv=5))\n",
    "\n",
    "\n",
    "store.insert(\"my_dataframe_1\", df)"
   ]
  },
  {
   "cell_type": "code",
   "execution_count": 48,
   "metadata": {},
   "outputs": [],
   "source": [
    "store.update(\n",
    "    \"my_string_5\",\n",
    "    \"<p>Of course, you can add some graphs. Here is a an example of graph generated using Altair:</p>\"\n",
    ")"
   ]
  },
  {
   "cell_type": "code",
   "execution_count": 35,
   "metadata": {},
   "outputs": [],
   "source": [
    "num_points = 1000\n",
    "data = pd.DataFrame(\n",
    "    {\"x\": np.random.randn(num_points), \"y\": np.random.randn(num_points)}\n",
    ")\n",
    "\n",
    "chart_1 = (\n",
    "    alt.Chart(data)\n",
    "    .mark_circle()\n",
    "    .encode(x=\"x\", y=\"y\", tooltip=[\"x\", \"y\"])\n",
    "    .interactive()\n",
    "    .properties(title=\"Number of users over time\")\n",
    ")\n",
    "\n",
    "store.insert(\"my_plot_1\", chart_1)"
   ]
  },
  {
   "cell_type": "code",
   "execution_count": 49,
   "metadata": {},
   "outputs": [],
   "source": [
    "store.update(\n",
    "    \"my_string_6\",\n",
    "    \"<p>Using the interactive dashboard, you can put a cell with some text next to a cell with a plot to comment on it for example.</p>\"\n",
    ")"
   ]
  },
  {
   "cell_type": "code",
   "execution_count": 39,
   "metadata": {},
   "outputs": [],
   "source": [
    "cars = data.cars()\n",
    "\n",
    "chart_2 = (alt.Chart(cars).mark_point().encode(\n",
    "    x='Horsepower',\n",
    "    y='Miles_per_Gallon',\n",
    "    color='Origin',\n",
    "))\n",
    "store.insert(\"my_plot_2\", chart_2)"
   ]
  },
  {
   "cell_type": "code",
   "execution_count": 41,
   "metadata": {},
   "outputs": [],
   "source": [
    "store.insert(\n",
    "    \"my_string_7\",\n",
    "    \"<p>Stay tuned for some new great features!</p>\"\n",
    ")"
   ]
  },
  {
   "cell_type": "markdown",
   "metadata": {},
   "source": [
    "# Warcraft"
   ]
  },
  {
   "cell_type": "code",
   "execution_count": null,
   "metadata": {},
   "outputs": [],
   "source": [
    "df_all = pd.read_parquet(\"wow-full.parquet\")\n",
    "# https://calmcode.io/datasets/wow-full"
   ]
  },
  {
   "cell_type": "code",
   "execution_count": null,
   "metadata": {},
   "outputs": [],
   "source": [
    "df_all.shape"
   ]
  },
  {
   "cell_type": "code",
   "execution_count": null,
   "metadata": {},
   "outputs": [],
   "source": [
    "df = df_all.sample(1_000)"
   ]
  },
  {
   "cell_type": "code",
   "execution_count": null,
   "metadata": {},
   "outputs": [],
   "source": [
    "df.head()"
   ]
  },
  {
   "cell_type": "code",
   "execution_count": null,
   "metadata": {},
   "outputs": [],
   "source": [
    "df.dtypes"
   ]
  },
  {
   "cell_type": "code",
   "execution_count": null,
   "metadata": {},
   "outputs": [],
   "source": [
    "feat = \"level\"\n",
    "df[feat].hist();"
   ]
  },
  {
   "cell_type": "code",
   "execution_count": null,
   "metadata": {},
   "outputs": [],
   "source": [
    "feat = \"where\"\n",
    "df[feat].unique()"
   ]
  },
  {
   "cell_type": "code",
   "execution_count": null,
   "metadata": {},
   "outputs": [],
   "source": [
    "years = df[\"datetime\"].dt.year\n",
    "print(years.min())\n",
    "print(years.max())"
   ]
  },
  {
   "cell_type": "code",
   "execution_count": null,
   "metadata": {},
   "outputs": [],
   "source": [
    "df[\"datetime\"].max() # the data set ends"
   ]
  },
  {
   "cell_type": "code",
   "execution_count": null,
   "metadata": {},
   "outputs": [],
   "source": [
    "df.isna().sum() / df.shape[0] * 100"
   ]
  },
  {
   "cell_type": "code",
   "execution_count": null,
   "metadata": {},
   "outputs": [],
   "source": [
    "store.insert(\"level_header\", df[\"level\"].head().tolist())"
   ]
  },
  {
   "cell_type": "code",
   "execution_count": null,
   "metadata": {},
   "outputs": [],
   "source": [
    "store.insert(\"level_tail\", df[\"level\"].tail().tolist())"
   ]
  },
  {
   "cell_type": "code",
   "execution_count": null,
   "metadata": {},
   "outputs": [],
   "source": [
    "df.player_id.value_counts()"
   ]
  },
  {
   "cell_type": "code",
   "execution_count": null,
   "metadata": {},
   "outputs": [],
   "source": [
    "df.query(\"player_id == 32358\").sort_values(by=\"datetime\")"
   ]
  },
  {
   "cell_type": "code",
   "execution_count": null,
   "metadata": {},
   "outputs": [],
   "source": [
    "df_all[[\"player_id\", \"level\"]].drop_duplicates()"
   ]
  },
  {
   "cell_type": "code",
   "execution_count": null,
   "metadata": {},
   "outputs": [],
   "source": [
    "df_all[\"player_id\"].nunique()"
   ]
  },
  {
   "cell_type": "code",
   "execution_count": null,
   "metadata": {},
   "outputs": [],
   "source": [
    "unique_levels_per_player = df_all.groupby('player_id')['level'].unique().reset_index()\n",
    "unique_levels_per_player['num_levels'] = unique_levels_per_player['level'].apply(len)"
   ]
  },
  {
   "cell_type": "code",
   "execution_count": null,
   "metadata": {},
   "outputs": [],
   "source": [
    "unique_levels_per_player.sort_values(by=\"num_levels\").tail(20)"
   ]
  },
  {
   "cell_type": "code",
   "execution_count": null,
   "metadata": {},
   "outputs": [],
   "source": [
    "df_all.query(\"player_id == 48432\").sort_values(by=\"datetime\")"
   ]
  },
  {
   "cell_type": "code",
   "execution_count": null,
   "metadata": {},
   "outputs": [],
   "source": [
    "# Sort by player_id and datetime to ensure correct order\n",
    "df = df_all.copy() # going back to the full data set\n",
    "df = df.sort_values(by=['player_id', 'datetime'])\n",
    "\n",
    "# Group by player_id to calculate the required metrics\n",
    "player_stats = df.groupby('player_id').agg(\n",
    "    first_time=('datetime', 'min'),        # First play session\n",
    "    last_time=('datetime', 'max'),         # Last play session\n",
    "    first_level=('level', 'first'),        # First level recorded\n",
    "    last_level=('level', 'last')           # Last level recorded\n",
    ").reset_index()\n",
    "\n",
    "# Calculate total hours played\n",
    "player_stats['hours_played'] = (player_stats['last_time'] - player_stats['first_time']).dt.total_seconds() / 3600\n",
    "\n",
    "# Calculate the difference in levels\n",
    "player_stats['level_diff'] = player_stats['last_level'] - player_stats['first_level']\n",
    "\n",
    "# Select the relevant columns\n",
    "player_stats = player_stats[['player_id', 'hours_played', 'level_diff']]\n",
    "\n",
    "print(player_stats)"
   ]
  },
  {
   "cell_type": "code",
   "execution_count": null,
   "metadata": {},
   "outputs": [],
   "source": [
    "player_stats = player_stats.query(\"level_diff > 0\")"
   ]
  },
  {
   "cell_type": "code",
   "execution_count": null,
   "metadata": {},
   "outputs": [],
   "source": [
    "df_plot = player_stats.query(\"0 < hours_played < 5_000\").copy()\n",
    "x = \"hours_played\"\n",
    "y = \"level_diff\"\n",
    "plt.figure()\n",
    "plt.plot(df_plot[x], df_plot[y], \"o\", markersize=0.7, alpha=0.3)\n",
    "plt.xlabel(x)\n",
    "plt.ylabel(y)\n",
    "plt.show()"
   ]
  },
  {
   "cell_type": "code",
   "execution_count": null,
   "metadata": {},
   "outputs": [],
   "source": [
    "chart_2 = (\n",
    "    alt.Chart(df_plot.sample(4000))\n",
    "    .mark_circle()\n",
    "    .encode(x=x, y=x, tooltip=[x, y])\n",
    "    .interactive()\n",
    "    .properties(title=\"Why do players stop playing??\")\n",
    ")\n",
    "\n",
    "store.update(\"demo_my_plot_2\", chart_2)"
   ]
  },
  {
   "cell_type": "code",
   "execution_count": null,
   "metadata": {},
   "outputs": [],
   "source": []
  },
  {
   "cell_type": "code",
   "execution_count": null,
   "metadata": {},
   "outputs": [],
   "source": []
  }
 ],
 "metadata": {
  "kernelspec": {
   "display_name": ".venv",
   "language": "python",
   "name": "python3"
  },
  "language_info": {
   "codemirror_mode": {
    "name": "ipython",
    "version": 3
   },
   "file_extension": ".py",
   "mimetype": "text/x-python",
   "name": "python",
   "nbconvert_exporter": "python",
   "pygments_lexer": "ipython3",
   "version": "3.12.4"
  }
 },
 "nbformat": 4,
 "nbformat_minor": 2
}
