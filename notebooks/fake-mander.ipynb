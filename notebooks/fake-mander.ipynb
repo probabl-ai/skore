{
 "cells": [
  {
   "cell_type": "code",
   "execution_count": 1,
   "metadata": {},
   "outputs": [],
   "source": [
    "import time\n",
    "\n",
    "import numpy as np\n",
    "from sklearn.datasets import make_classification\n",
    "from sklearn.linear_model import LogisticRegression\n",
    "from sklearn.model_selection import GridSearchCV, train_test_split\n",
    "\n",
    "\n",
    "def train_model():\n",
    "    \"\"\"Train model helper function.\"\"\"\n",
    "    X, y = make_classification(random_state=0)\n",
    "    X_train, X_test, y_train, y_test = train_test_split(X, y, random_state=0)\n",
    "\n",
    "    tic = time.time()\n",
    "    clf = LogisticRegression(random_state=0)\n",
    "    grid = GridSearchCV(\n",
    "        clf, param_grid={\"C\": np.logspace(0.0001, 1, 10), \"random_state\": range(10)}\n",
    "    )\n",
    "    grid.fit(X_train, y_train)\n",
    "    toc = time.time()\n",
    "    return grid, tic, toc"
   ]
  },
  {
   "cell_type": "code",
   "execution_count": 2,
   "metadata": {},
   "outputs": [
    {
     "data": {
      "text/plain": [
       "<Figure size 640x480 with 0 Axes>"
      ]
     },
     "metadata": {},
     "output_type": "display_data"
    }
   ],
   "source": [
    "import base64\n",
    "import io\n",
    "\n",
    "import matplotlib.pyplot as plt\n",
    "from mandr.infomander import InfoMander\n",
    "from sklearn.metrics import ConfusionMatrixDisplay, confusion_matrix\n",
    "\n",
    "for i in range(5):\n",
    "    X, y = make_classification(random_state=i)\n",
    "    X_train, X_test, y_train, y_test = train_test_split(X, y, random_state=0)\n",
    "    mander = InfoMander(f\"probabl-ai/demo-usecase/training/{i}\")\n",
    "\n",
    "    grid, tic, toc = train_model()\n",
    "\n",
    "    cm = confusion_matrix(y_test, grid.predict(X_test), labels=grid.classes_)\n",
    "    disp = ConfusionMatrixDisplay(confusion_matrix=cm, display_labels=grid.classes_)\n",
    "    # disp.plot()\n",
    "\n",
    "    myio = io.BytesIO()\n",
    "    plt.savefig(myio, format=\"jpg\")\n",
    "    myio.seek(0)\n",
    "    base64_img = base64.b64encode(myio.read()).decode()\n",
    "\n",
    "    mander.add_view(\n",
    "        \"confusion_matrix\", f'<img src=\"data:image/png;base64, {base64_img}\">'\n",
    "    )\n",
    "    mander.add_artifact(\"model\", grid)\n",
    "    mander.add_info(\"train_time\", toc - tic)\n",
    "    mander.add_info(\"cv_results\", grid.cv_results_)\n",
    "    mander.add_info(\"X_shape\", list(X.shape))\n",
    "    mander.add_info(\"n_classes\", len(set(y)))"
   ]
  }
 ],
 "metadata": {
  "kernelspec": {
   "display_name": "venv",
   "language": "python",
   "name": "python3"
  },
  "language_info": {
   "codemirror_mode": {
    "name": "ipython",
    "version": 3
   },
   "file_extension": ".py",
   "mimetype": "text/x-python",
   "name": "python",
   "nbconvert_exporter": "python",
   "pygments_lexer": "ipython3",
   "version": "3.12.4"
  }
 },
 "nbformat": 4,
 "nbformat_minor": 2
}
