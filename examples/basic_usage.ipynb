{
 "cells": [
  {
   "cell_type": "markdown",
   "id": "31f5797e",
   "metadata": {},
   "source": [
    "# Getting started with `skore`"
   ]
  },
  {
   "cell_type": "markdown",
   "id": "5eaf0f80",
   "metadata": {},
   "source": [
    "# Introduction\n",
    "\n",
    "The purpose of this guide is to illustrate some of the main features that `skore` provides. Please refer to our instructions for installing `skore`.\n",
    "\n",
    "Given to you by [:probabl.](https://probabl.ai/), `skore` is a powerful tool that allows data scientists to create tracking and clear reports from their Python code, typically a notebook. For example, see [this HTML file](https://gist.github.com/augustebaum/6b21dbd7f7d5a584fbf2c1956692574e): download it and open it in your browser to visualize it."
   ]
  },
  {
   "cell_type": "markdown",
   "id": "817609d9",
   "metadata": {},
   "source": [
    "## Imports"
   ]
  },
  {
   "cell_type": "code",
   "execution_count": null,
   "id": "d6f56c15",
   "metadata": {},
   "outputs": [],
   "source": [
    "# ruff: noqa\n",
    "\n",
    "import altair as alt\n",
    "import io\n",
    "import matplotlib.pyplot as plt\n",
    "import numpy as np\n",
    "import pandas as pd\n",
    "import PIL\n",
    "\n",
    "from sklearn.datasets import load_diabetes\n",
    "from sklearn.linear_model import Lasso\n",
    "from sklearn.pipeline import Pipeline\n",
    "from sklearn.preprocessing import StandardScaler\n",
    "\n",
    "from skore import load\n",
    "from skore.item import MediaItem"
   ]
  },
  {
   "cell_type": "markdown",
   "id": "b68aa7de",
   "metadata": {},
   "source": [
    "# Initialize and use a Project\n",
    "\n",
    "To initialize a Project, we need to give it a name, or equivalently a file path:"
   ]
  },
  {
   "cell_type": "code",
   "execution_count": null,
   "id": "23f035b6",
   "metadata": {},
   "outputs": [],
   "source": [
    "# Create a project at path './project.skore'\n",
    "!python -m skore create 'project.skore'"
   ]
  },
  {
   "cell_type": "markdown",
   "id": "1fbcfbbf",
   "metadata": {},
   "source": [
    "This will create a Skore project directory named \"project.skore\" in the current directory."
   ]
  },
  {
   "cell_type": "markdown",
   "id": "964267f0",
   "metadata": {},
   "source": [
    "Now that you have created the `project.skore` folder (even though nothing has yet been stored), you can run the UI (in your project root i.e. where `project.skore` is):\n",
    "```python3\n",
    "$ python -m skore launch project.skore\n",
    "```\n",
    "\n",
    ">*Note*: If you already had some data in your `project.skore` directory from a previous run -- you can check for that in your shell by using:\n",
    ">```python3\n",
    ">$ ls\n",
    ">```\n",
    ">and if you no longer need its objects, we recommend deleting this folder by running `rm` in your shell:\n",
    ">```python3\n",
    ">$ rm -r project.skore\n",
    ">```\n",
    ">This deletion needs to be done before the cells above: before initializing the store and before launching the UI!"
   ]
  },
  {
   "cell_type": "markdown",
   "id": "1d7a45e5",
   "metadata": {},
   "source": [
    "Now that the project file exists, we can load it in our script so that we can read from and write to it:"
   ]
  },
  {
   "cell_type": "code",
   "execution_count": null,
   "id": "6e4d51c7",
   "metadata": {},
   "outputs": [],
   "source": [
    "project = load(\"project.skore\")"
   ]
  },
  {
   "cell_type": "markdown",
   "id": "0419195c",
   "metadata": {},
   "source": [
    "## Storing an integer"
   ]
  },
  {
   "cell_type": "markdown",
   "id": "05f7f17f",
   "metadata": {},
   "source": [
    "Now, let us store our first object, for example an integer:"
   ]
  },
  {
   "cell_type": "code",
   "execution_count": null,
   "id": "31fc4cc8",
   "metadata": {},
   "outputs": [],
   "source": [
    "project.put(\"my_int\", 3)"
   ]
  },
  {
   "cell_type": "markdown",
   "id": "dc643253",
   "metadata": {},
   "source": [
    "Here, the name of my object is `my_int` and the integer value is 3.\n",
    "\n",
    "You can read it from the Project:"
   ]
  },
  {
   "cell_type": "code",
   "execution_count": null,
   "id": "19053a47",
   "metadata": {},
   "outputs": [],
   "source": [
    "project.get(\"my_int\")"
   ]
  },
  {
   "cell_type": "markdown",
   "id": "8af44c95",
   "metadata": {},
   "source": [
    "Careful; like in a traditional Python dictionary, the `put` method will *overwrite* past data if you use a key which already exists!"
   ]
  },
  {
   "cell_type": "code",
   "execution_count": null,
   "id": "5f3ffd54",
   "metadata": {},
   "outputs": [],
   "source": [
    "project.put(\"my_int\", 30_000)"
   ]
  },
  {
   "cell_type": "markdown",
   "id": "72a29907",
   "metadata": {},
   "source": [
    "Let us check the updated value:"
   ]
  },
  {
   "cell_type": "code",
   "execution_count": null,
   "id": "00f983cc",
   "metadata": {},
   "outputs": [],
   "source": [
    "project.get(\"my_int\")"
   ]
  },
  {
   "cell_type": "markdown",
   "id": "11e83006",
   "metadata": {},
   "source": [
    "By using the `delete_item` method, you can also delete an object so that your `skore` UI does not become cluttered:"
   ]
  },
  {
   "cell_type": "code",
   "execution_count": null,
   "id": "97d162d2",
   "metadata": {},
   "outputs": [],
   "source": [
    "project.put(\"my_int_2\", 10)"
   ]
  },
  {
   "cell_type": "code",
   "execution_count": null,
   "id": "94f7001a",
   "metadata": {},
   "outputs": [],
   "source": [
    "project.delete_item(\"my_int_2\")"
   ]
  },
  {
   "cell_type": "markdown",
   "id": "17b5f6a0",
   "metadata": {},
   "source": [
    "You can use `project.list_item_keys` to display all the keys in your project:"
   ]
  },
  {
   "cell_type": "code",
   "execution_count": null,
   "id": "e7f30789",
   "metadata": {},
   "outputs": [],
   "source": [
    "project.list_item_keys()"
   ]
  },
  {
   "cell_type": "markdown",
   "id": "12b5a0c0",
   "metadata": {},
   "source": [
    "## Storing a string"
   ]
  },
  {
   "cell_type": "markdown",
   "id": "d38fcff8",
   "metadata": {},
   "source": [
    "We just stored a integer, now let us store some text using strings!"
   ]
  },
  {
   "cell_type": "code",
   "execution_count": null,
   "id": "90bbe0ec",
   "metadata": {},
   "outputs": [],
   "source": [
    "project.put(\"my_string\", \"Hello world!\")"
   ]
  },
  {
   "cell_type": "code",
   "execution_count": null,
   "id": "4b805bd5",
   "metadata": {},
   "outputs": [],
   "source": [
    "project.get(\"my_string\")"
   ]
  },
  {
   "cell_type": "markdown",
   "id": "6348a8dc",
   "metadata": {},
   "source": [
    "`project.get` infers the type of the inserted object by default. For example, strings are assumed to be in Markdown format. Hence, you can customize the display of your text:"
   ]
  },
  {
   "cell_type": "code",
   "execution_count": null,
   "id": "b67679af",
   "metadata": {},
   "outputs": [],
   "source": [
    "project.put(\n",
    "    \"my_string_2\",\n",
    "    (\n",
    "        \"\"\"Hello world!, **bold**, *italic*, `code`\n",
    "\n",
    "```python\n",
    "def my_func(x):\n",
    "    return x+2\n",
    "```\n",
    "\"\"\"\n",
    "    ),\n",
    ")"
   ]
  },
  {
   "cell_type": "markdown",
   "id": "8f8bc0e3",
   "metadata": {},
   "source": [
    "Moreover, you can also explicitly tell `skore` the media type of an object, for example in HTML:"
   ]
  },
  {
   "cell_type": "code",
   "execution_count": null,
   "id": "2e93653f",
   "metadata": {},
   "outputs": [],
   "source": [
    "# Note we use `put_item` instead of `put`\n",
    "project.put_item(\n",
    "    \"my_string_3\",\n",
    "    MediaItem.factory(\n",
    "        \"<p><h1>Title</h1> <b>bold</b>, <i>italic</i>, etc.</p>\", media_type=\"text/html\"\n",
    "    ),\n",
    ")"
   ]
  },
  {
   "cell_type": "markdown",
   "id": "aeac33be",
   "metadata": {},
   "source": [
    "Note that the media type is only used for the UI, and not in this notebook at hand:"
   ]
  },
  {
   "cell_type": "code",
   "execution_count": null,
   "id": "37a9c8ae",
   "metadata": {},
   "outputs": [],
   "source": [
    "project.get(\"my_string_3\")"
   ]
  },
  {
   "cell_type": "markdown",
   "id": "3c52a9dd",
   "metadata": {},
   "source": [
    "You can also conveniently use Python f-strings:"
   ]
  },
  {
   "cell_type": "code",
   "execution_count": null,
   "id": "427533bb",
   "metadata": {},
   "outputs": [],
   "source": [
    "x = 2\n",
    "y = [1, 2, 3, 4]\n",
    "project.put(\"my_string_4\", f\"The value of `x` is {x} and the value of `y` is {y}.\")"
   ]
  },
  {
   "cell_type": "markdown",
   "id": "f128b0c2",
   "metadata": {},
   "source": [
    "## Storing many kinds of data"
   ]
  },
  {
   "cell_type": "markdown",
   "id": "8059cd6b",
   "metadata": {},
   "source": [
    "Python list:"
   ]
  },
  {
   "cell_type": "code",
   "execution_count": null,
   "id": "271d5e8b",
   "metadata": {},
   "outputs": [],
   "source": [
    "my_list = [1, 2, 3, 4]\n",
    "project.put(\"my_list\", my_list)"
   ]
  },
  {
   "cell_type": "markdown",
   "id": "9ec88d84",
   "metadata": {},
   "source": [
    "Python dictionary:"
   ]
  },
  {
   "cell_type": "code",
   "execution_count": null,
   "id": "8d6cb2b3",
   "metadata": {},
   "outputs": [],
   "source": [
    "my_dict = {\n",
    "    \"company\": \"probabl\",\n",
    "    \"year\": 2023,\n",
    "}\n",
    "project.put(\"my_dict\", my_dict)"
   ]
  },
  {
   "cell_type": "markdown",
   "id": "893e2231",
   "metadata": {},
   "source": [
    "NumPy array:"
   ]
  },
  {
   "cell_type": "code",
   "execution_count": null,
   "id": "cba91e88",
   "metadata": {},
   "outputs": [],
   "source": [
    "my_arr = np.random.randn(3, 3)\n",
    "project.put(\"my_arr\", my_arr)"
   ]
  },
  {
   "cell_type": "markdown",
   "id": "7fedf721",
   "metadata": {},
   "source": [
    "Pandas data frame:"
   ]
  },
  {
   "cell_type": "code",
   "execution_count": null,
   "id": "76e90ff7",
   "metadata": {},
   "outputs": [],
   "source": [
    "my_df = pd.DataFrame(np.random.randn(3, 3))\n",
    "project.put(\"my_df\", my_df)"
   ]
  },
  {
   "cell_type": "markdown",
   "id": "efe93568",
   "metadata": {},
   "source": [
    "## Data visualization"
   ]
  },
  {
   "cell_type": "markdown",
   "id": "46cc9344",
   "metadata": {},
   "source": [
    "Matplotlib Figures:"
   ]
  },
  {
   "cell_type": "code",
   "execution_count": null,
   "id": "e5ed6a5e",
   "metadata": {},
   "outputs": [],
   "source": [
    "x = np.linspace(0, 2, 100)\n",
    "\n",
    "fig, ax = plt.subplots(figsize=(5, 2.7), layout=\"constrained\")\n",
    "ax.plot(x, x, label=\"linear\")\n",
    "ax.plot(x, x**2, label=\"quadratic\")\n",
    "ax.plot(x, x**3, label=\"cubic\")\n",
    "ax.set_xlabel(\"x label\")\n",
    "ax.set_ylabel(\"y label\")\n",
    "ax.set_title(\"Simple Plot\")\n",
    "ax.legend()\n",
    "plt.show()\n",
    "\n",
    "project.put(\"my_figure\", fig)"
   ]
  },
  {
   "cell_type": "markdown",
   "id": "727b319c",
   "metadata": {},
   "source": [
    "Altair Charts:"
   ]
  },
  {
   "cell_type": "code",
   "execution_count": null,
   "id": "b47150af",
   "metadata": {},
   "outputs": [],
   "source": [
    "num_points = 100\n",
    "df_plot = pd.DataFrame(\n",
    "    {\"x\": np.random.randn(num_points), \"y\": np.random.randn(num_points)}\n",
    ")\n",
    "\n",
    "my_chart = (\n",
    "    alt.Chart(df_plot)\n",
    "    .mark_circle()\n",
    "    .encode(x=\"x\", y=\"y\", tooltip=[\"x\", \"y\"])\n",
    "    .interactive()\n",
    "    .properties(title=\"My title\")\n",
    ")\n",
    "\n",
    "project.put(\"my_chart\", my_chart)"
   ]
  },
  {
   "cell_type": "markdown",
   "id": "9aed47d9",
   "metadata": {},
   "source": [
    "PIL images:"
   ]
  },
  {
   "cell_type": "code",
   "execution_count": null,
   "id": "183c2e51",
   "metadata": {},
   "outputs": [],
   "source": [
    "pil_image = PIL.Image.new(\"RGB\", (100, 100), color=\"red\")\n",
    "with io.BytesIO() as output:\n",
    "    pil_image.save(output, format=\"png\")\n",
    "\n",
    "project.put(\"pil_image\", pil_image)"
   ]
  },
  {
   "cell_type": "markdown",
   "id": "ac2d4024",
   "metadata": {},
   "source": [
    "## Scikit-learn models and pipelines\n",
    "\n",
    "As `skore` is developed by :probabl., the spin-off of scikit-learn, `skore` treats scikit-learn models and pipelines as first-class citizens.\n",
    "\n",
    "First of all, you can store a scikit-learn model:"
   ]
  },
  {
   "cell_type": "code",
   "execution_count": null,
   "id": "b1e071f7",
   "metadata": {},
   "outputs": [],
   "source": [
    "my_model = Lasso(alpha=2)\n",
    "project.put(\"my_model\", my_model)"
   ]
  },
  {
   "cell_type": "markdown",
   "id": "124c4690",
   "metadata": {},
   "source": [
    "You can also store scikit-learn pipelines:"
   ]
  },
  {
   "cell_type": "code",
   "execution_count": null,
   "id": "238a8fe5",
   "metadata": {},
   "outputs": [],
   "source": [
    "my_pipeline = Pipeline(\n",
    "    [(\"standard_scaler\", StandardScaler()), (\"lasso\", Lasso(alpha=2))]\n",
    ")\n",
    "project.put(\"my_pipeline\", my_pipeline)"
   ]
  },
  {
   "cell_type": "markdown",
   "id": "7235e282",
   "metadata": {},
   "source": [
    "Moreover, you can store fitted scikit-learn pipelines:"
   ]
  },
  {
   "cell_type": "code",
   "execution_count": null,
   "id": "deb9d103",
   "metadata": {},
   "outputs": [],
   "source": [
    "diabetes = load_diabetes()\n",
    "X = diabetes.data[:150]\n",
    "y = diabetes.target[:150]\n",
    "my_pipeline.fit(X, y)\n",
    "\n",
    "project.put(\"my_fitted_pipeline\", my_pipeline)"
   ]
  },
  {
   "cell_type": "markdown",
   "id": "e6b090d3",
   "metadata": {},
   "source": [
    "_Stay tuned for some new features!_"
   ]
  },
  {
   "cell_type": "markdown",
   "id": "555665f0",
   "metadata": {},
   "source": [
    "---\n",
    "# Manipulating the skore UI\n",
    "\n",
    "The following is just some `skore` strings that we generate in order to provide more context on the obtained report."
   ]
  },
  {
   "cell_type": "code",
   "execution_count": null,
   "id": "30f6f3bf",
   "metadata": {},
   "outputs": [],
   "source": [
    "project.put_item(\n",
    "    \"my_comment_1\",\n",
    "    MediaItem.factory(\n",
    "        \"<p><h1>Welcome to skore!</h1>Given to you by :probabl., skore is a powerful tool that allows data scientists to create tracking and clear reports from their Python code, typically a notebook. This HTML document is actually a skore report generated using the `basic_usage.ipynb` notebook that has been exported (into HTML)!<p>\",\n",
    "        media_type=\"text/html\",\n",
    "    ),\n",
    ")"
   ]
  },
  {
   "cell_type": "code",
   "execution_count": null,
   "id": "7e5ed756",
   "metadata": {},
   "outputs": [],
   "source": [
    "project.put_item(\n",
    "    \"my_comment_2\",\n",
    "    MediaItem.factory(\"<p><h2>Integers</h1></p>\", media_type=\"text/html\"),\n",
    ")"
   ]
  },
  {
   "cell_type": "code",
   "execution_count": null,
   "id": "2108a347",
   "metadata": {},
   "outputs": [],
   "source": [
    "project.put_item(\n",
    "    \"my_comment_3\", MediaItem.factory(\"<p><h2>Strings</h1></p>\", media_type=\"text/html\")\n",
    ")"
   ]
  },
  {
   "cell_type": "code",
   "execution_count": null,
   "id": "067e4fdd",
   "metadata": {},
   "outputs": [],
   "source": [
    "project.put_item(\n",
    "    \"my_comment_4\",\n",
    "    MediaItem.factory(\"<p><h2>Many kinds of data</h1></p>\", media_type=\"text/html\"),\n",
    ")"
   ]
  },
  {
   "cell_type": "code",
   "execution_count": null,
   "id": "da81ae66",
   "metadata": {},
   "outputs": [],
   "source": [
    "project.put_item(\n",
    "    \"my_comment_5\",\n",
    "    MediaItem.factory(\"<p><h2>Altair plots</h1></p>\", media_type=\"text/html\"),\n",
    ")"
   ]
  },
  {
   "cell_type": "code",
   "execution_count": null,
   "id": "c65be8c4",
   "metadata": {},
   "outputs": [],
   "source": [
    "project.put_item(\n",
    "    \"my_comment_6\",\n",
    "    MediaItem.factory(\n",
    "        \"<p><h2>Scikit-learn models and pipelines</h1></p>\", media_type=\"text/html\"\n",
    "    ),\n",
    ")"
   ]
  },
  {
   "cell_type": "code",
   "execution_count": null,
   "id": "e1365efe",
   "metadata": {},
   "outputs": [],
   "source": [
    "project.put_item(\n",
    "    \"my_comment_7\",\n",
    "    MediaItem.factory(\n",
    "        \"<p><h2>Manipulating the skore report</h1></p>\", media_type=\"text/html\"\n",
    "    ),\n",
    ")"
   ]
  },
  {
   "cell_type": "code",
   "execution_count": null,
   "id": "e908bcc2",
   "metadata": {},
   "outputs": [],
   "source": [
    "project.put_item(\n",
    "    \"my_comment_8\",\n",
    "    MediaItem.factory(\n",
    "        \"<p>Once you have created cells in your Skore report, you can place them where you want: move them up or down, delete them, for example put one to the left of a graph to comment on it.</p>\",\n",
    "        media_type=\"text/html\",\n",
    "    ),\n",
    ")"
   ]
  },
  {
   "cell_type": "code",
   "execution_count": null,
   "id": "b35e24c8",
   "metadata": {},
   "outputs": [],
   "source": [
    "project.put(\"my_chart_2\", my_chart)"
   ]
  }
 ],
 "metadata": {
  "jupytext": {
   "formats": "ipynb,py:percent"
  },
  "kernelspec": {
   "display_name": ".venv",
   "language": "python",
   "name": "python3"
  }
 },
 "nbformat": 4,
 "nbformat_minor": 5
}
