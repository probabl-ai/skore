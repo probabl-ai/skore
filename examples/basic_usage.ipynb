{
 "cells": [
  {
   "cell_type": "markdown",
   "id": "31f5797e",
   "metadata": {},
   "source": [
    "# Getting started with `skore`"
   ]
  },
  {
   "cell_type": "markdown",
   "id": "5eaf0f80",
   "metadata": {},
   "source": [
    "# Introduction\n",
    "\n",
    "The purpose of this guide is to illustrate some of the main features that `skore` provides. Please refer to our instructions for installing `skore`.\n",
    "\n",
    "Given to you by [:probabl.](https://probabl.ai/), `skore` is a powerful tool that allows data scientists to create tracking and clear reports from their Python code, typically a notebook. For example, see [this HTML file](https://gist.github.com/augustebaum/6b21dbd7f7d5a584fbf2c1956692574e): download it and open it in your browser to visualize it."
   ]
  },
  {
   "cell_type": "markdown",
   "id": "817609d9",
   "metadata": {},
   "source": [
    "## Imports"
   ]
  },
  {
   "cell_type": "code",
   "execution_count": 1,
   "id": "d6f56c15",
   "metadata": {},
   "outputs": [],
   "source": [
    "# ruff: noqa\n",
    "\n",
    "import altair as alt\n",
    "import io\n",
    "import matplotlib.pyplot as plt\n",
    "import numpy as np\n",
    "import pandas as pd\n",
    "import plotly.express as px\n",
    "import PIL\n",
    "\n",
    "from sklearn.datasets import load_diabetes\n",
    "from sklearn.linear_model import Lasso\n",
    "from sklearn.pipeline import Pipeline\n",
    "from sklearn.preprocessing import StandardScaler\n",
    "\n",
    "from skore import load\n",
    "from skore.item import MediaItem"
   ]
  },
  {
   "cell_type": "markdown",
   "id": "b68aa7de",
   "metadata": {},
   "source": [
    "# Initialize and use a Project\n",
    "\n",
    "To initialize a Project, we need to give it a name, or equivalently a file path. In your shell, run:\n",
    "```bash\n",
    "$ python -m skore create 'project.skore'\n",
    "```\n",
    "This will create a Skore project directory named \"project.skore\" in the current directory.\n",
    "\n",
    "Now that you have created the `project.skore` folder (even though nothing has yet been stored), you can run the UI (in your project root i.e. where `project.skore` is) from your shell:\n",
    "```python3\n",
    "$ python -m skore launch project.skore\n",
    "```\n",
    "\n",
    ">*Note*: If you already had a `project.skore` directory from a previous run -- you can check for that in your shell by using:\n",
    ">```python3\n",
    ">$ ls\n",
    ">```\n",
    ">and if you no longer need it, we recommend deleting this folder by running `rm` in your shell:\n",
    ">```python3\n",
    ">$ rm -r project.skore\n",
    ">```\n",
    ">This deletion needs to be done before the cells above: before initializing the store and before launching the UI!"
   ]
  },
  {
   "cell_type": "markdown",
   "id": "1d7a45e5",
   "metadata": {},
   "source": [
    "Now that the project file exists, we can load it in our notebook so that we can read from and write to it:"
   ]
  },
  {
   "cell_type": "code",
   "execution_count": 2,
   "id": "6e4d51c7",
   "metadata": {},
   "outputs": [],
   "source": [
    "project = load(\"project.skore\")"
   ]
  },
  {
   "cell_type": "markdown",
   "id": "0419195c",
   "metadata": {},
   "source": [
    "## Storing an integer"
   ]
  },
  {
   "cell_type": "markdown",
   "id": "05f7f17f",
   "metadata": {},
   "source": [
    "Now, let us store our first object, for example an integer:"
   ]
  },
  {
   "cell_type": "code",
   "execution_count": 3,
   "id": "31fc4cc8",
   "metadata": {},
   "outputs": [],
   "source": [
    "project.put(\"my_int\", 3)"
   ]
  },
  {
   "cell_type": "markdown",
   "id": "dc643253",
   "metadata": {},
   "source": [
    "Here, the name of my object is `my_int` and the integer value is 3.\n",
    "\n",
    "You can read it from the Project:"
   ]
  },
  {
   "cell_type": "code",
   "execution_count": 4,
   "id": "19053a47",
   "metadata": {},
   "outputs": [
    {
     "data": {
      "text/plain": [
       "3"
      ]
     },
     "execution_count": 4,
     "metadata": {},
     "output_type": "execute_result"
    }
   ],
   "source": [
    "project.get(\"my_int\")"
   ]
  },
  {
   "cell_type": "markdown",
   "id": "8af44c95",
   "metadata": {},
   "source": [
    "Careful; like in a traditional Python dictionary, the `put` method will *overwrite* past data if you use a key which already exists!"
   ]
  },
  {
   "cell_type": "code",
   "execution_count": 5,
   "id": "5f3ffd54",
   "metadata": {},
   "outputs": [],
   "source": [
    "project.put(\"my_int\", 30_000)"
   ]
  },
  {
   "cell_type": "markdown",
   "id": "72a29907",
   "metadata": {},
   "source": [
    "Let us check the updated value:"
   ]
  },
  {
   "cell_type": "code",
   "execution_count": 6,
   "id": "00f983cc",
   "metadata": {},
   "outputs": [
    {
     "data": {
      "text/plain": [
       "30000"
      ]
     },
     "execution_count": 6,
     "metadata": {},
     "output_type": "execute_result"
    }
   ],
   "source": [
    "project.get(\"my_int\")"
   ]
  },
  {
   "cell_type": "markdown",
   "id": "11e83006",
   "metadata": {},
   "source": [
    "By using the `delete_item` method, you can also delete an object so that your `skore` UI does not become cluttered:"
   ]
  },
  {
   "cell_type": "code",
   "execution_count": 7,
   "id": "97d162d2",
   "metadata": {},
   "outputs": [],
   "source": [
    "project.put(\"my_int_2\", 10)"
   ]
  },
  {
   "cell_type": "code",
   "execution_count": 8,
   "id": "94f7001a",
   "metadata": {},
   "outputs": [],
   "source": [
    "project.delete_item(\"my_int_2\")"
   ]
  },
  {
   "cell_type": "markdown",
   "id": "17b5f6a0",
   "metadata": {},
   "source": [
    "You can use `project.list_item_keys` to display all the keys in your project:"
   ]
  },
  {
   "cell_type": "code",
   "execution_count": 9,
   "id": "e7f30789",
   "metadata": {},
   "outputs": [
    {
     "data": {
      "text/plain": [
       "['my_int']"
      ]
     },
     "execution_count": 9,
     "metadata": {},
     "output_type": "execute_result"
    }
   ],
   "source": [
    "project.list_item_keys()"
   ]
  },
  {
   "cell_type": "markdown",
   "id": "12b5a0c0",
   "metadata": {},
   "source": [
    "## Storing a string"
   ]
  },
  {
   "cell_type": "markdown",
   "id": "d38fcff8",
   "metadata": {},
   "source": [
    "We just stored a integer, now let us store some text using strings!"
   ]
  },
  {
   "cell_type": "code",
   "execution_count": 10,
   "id": "90bbe0ec",
   "metadata": {},
   "outputs": [],
   "source": [
    "project.put(\"my_string\", \"Hello world!\")"
   ]
  },
  {
   "cell_type": "code",
   "execution_count": 11,
   "id": "4b805bd5",
   "metadata": {},
   "outputs": [
    {
     "data": {
      "text/plain": [
       "'Hello world!'"
      ]
     },
     "execution_count": 11,
     "metadata": {},
     "output_type": "execute_result"
    }
   ],
   "source": [
    "project.get(\"my_string\")"
   ]
  },
  {
   "cell_type": "markdown",
   "id": "6348a8dc",
   "metadata": {},
   "source": [
    "`project.get` infers the type of the inserted object by default. For example, strings are assumed to be in Markdown format. Hence, you can customize the display of your text:"
   ]
  },
  {
   "cell_type": "code",
   "execution_count": 12,
   "id": "b67679af",
   "metadata": {},
   "outputs": [],
   "source": [
    "project.put(\n",
    "    \"my_string_2\",\n",
    "    (\n",
    "        \"\"\"Hello world!, **bold**, *italic*, `code`\n",
    "\n",
    "```python\n",
    "def my_func(x):\n",
    "    return x+2\n",
    "```\n",
    "\"\"\"\n",
    "    ),\n",
    ")"
   ]
  },
  {
   "cell_type": "markdown",
   "id": "8f8bc0e3",
   "metadata": {},
   "source": [
    "Moreover, you can also explicitly tell `skore` the media type of an object, for example in HTML:"
   ]
  },
  {
   "cell_type": "code",
   "execution_count": 13,
   "id": "2e93653f",
   "metadata": {},
   "outputs": [],
   "source": [
    "# Note we use `put_item` instead of `put`\n",
    "project.put_item(\n",
    "    \"my_string_3\",\n",
    "    MediaItem.factory(\n",
    "        \"<p><h1>Title</h1> <b>bold</b>, <i>italic</i>, etc.</p>\", media_type=\"text/html\"\n",
    "    ),\n",
    ")"
   ]
  },
  {
   "cell_type": "markdown",
   "id": "aeac33be",
   "metadata": {},
   "source": [
    "Note that the media type is only used for the UI, and not in this notebook at hand:"
   ]
  },
  {
   "cell_type": "code",
   "execution_count": 14,
   "id": "37a9c8ae",
   "metadata": {},
   "outputs": [
    {
     "data": {
      "text/plain": [
       "b'<p><h1>Title</h1> <b>bold</b>, <i>italic</i>, etc.</p>'"
      ]
     },
     "execution_count": 14,
     "metadata": {},
     "output_type": "execute_result"
    }
   ],
   "source": [
    "project.get(\"my_string_3\")"
   ]
  },
  {
   "cell_type": "markdown",
   "id": "3c52a9dd",
   "metadata": {},
   "source": [
    "You can also conveniently use Python f-strings:"
   ]
  },
  {
   "cell_type": "code",
   "execution_count": 15,
   "id": "427533bb",
   "metadata": {},
   "outputs": [],
   "source": [
    "x = 2\n",
    "y = [1, 2, 3, 4]\n",
    "project.put(\"my_string_4\", f\"The value of `x` is {x} and the value of `y` is {y}.\")"
   ]
  },
  {
   "cell_type": "markdown",
   "id": "f128b0c2",
   "metadata": {},
   "source": [
    "## Storing many kinds of data"
   ]
  },
  {
   "cell_type": "markdown",
   "id": "8059cd6b",
   "metadata": {},
   "source": [
    "Python list:"
   ]
  },
  {
   "cell_type": "code",
   "execution_count": 16,
   "id": "271d5e8b",
   "metadata": {},
   "outputs": [],
   "source": [
    "my_list = [1, 2, 3, 4]\n",
    "project.put(\"my_list\", my_list)"
   ]
  },
  {
   "cell_type": "markdown",
   "id": "9ec88d84",
   "metadata": {},
   "source": [
    "Python dictionary:"
   ]
  },
  {
   "cell_type": "code",
   "execution_count": 17,
   "id": "8d6cb2b3",
   "metadata": {},
   "outputs": [],
   "source": [
    "my_dict = {\n",
    "    \"company\": \"probabl\",\n",
    "    \"year\": 2023,\n",
    "}\n",
    "project.put(\"my_dict\", my_dict)"
   ]
  },
  {
   "cell_type": "markdown",
   "id": "893e2231",
   "metadata": {},
   "source": [
    "NumPy array:"
   ]
  },
  {
   "cell_type": "code",
   "execution_count": 18,
   "id": "cba91e88",
   "metadata": {},
   "outputs": [],
   "source": [
    "my_arr = np.random.randn(3, 3)\n",
    "project.put(\"my_arr\", my_arr)"
   ]
  },
  {
   "cell_type": "markdown",
   "id": "7fedf721",
   "metadata": {},
   "source": [
    "Pandas data frame:"
   ]
  },
  {
   "cell_type": "code",
   "execution_count": 19,
   "id": "76e90ff7",
   "metadata": {},
   "outputs": [],
   "source": [
    "my_df = pd.DataFrame(np.random.randn(3, 3))\n",
    "project.put(\"my_df\", my_df)"
   ]
  },
  {
   "cell_type": "markdown",
   "id": "efe93568",
   "metadata": {},
   "source": [
    "## Data visualization\n",
    "\n",
    "Note that, in the dashboard, the interactivity of plots is supported, for example for `altair` and `plotly`."
   ]
  },
  {
   "cell_type": "markdown",
   "id": "46cc9344",
   "metadata": {},
   "source": [
    "Matplotlib figures:"
   ]
  },
  {
   "cell_type": "code",
   "execution_count": 20,
   "id": "e5ed6a5e",
   "metadata": {},
   "outputs": [
    {
     "data": {
      "image/png": "[encoded data removed]",
      "text/plain": [
       "<Figure size 500x270 with 1 Axes>"
      ]
     },
     "metadata": {},
     "output_type": "display_data"
    }
   ],
   "source": [
    "x = np.linspace(0, 2, 100)\n",
    "\n",
    "fig, ax = plt.subplots(figsize=(5, 2.7), layout=\"constrained\")\n",
    "ax.plot(x, x, label=\"linear\")\n",
    "ax.plot(x, x**2, label=\"quadratic\")\n",
    "ax.plot(x, x**3, label=\"cubic\")\n",
    "ax.set_xlabel(\"x label\")\n",
    "ax.set_ylabel(\"y label\")\n",
    "ax.set_title(\"Simple Plot\")\n",
    "ax.legend()\n",
    "plt.show()\n",
    "\n",
    "project.put(\"my_figure\", fig)"
   ]
  },
  {
   "cell_type": "markdown",
   "id": "727b319c",
   "metadata": {},
   "source": [
    "Altair charts:"
   ]
  },
  {
   "cell_type": "code",
   "execution_count": 21,
   "id": "b47150af",
   "metadata": {},
   "outputs": [
    {
     "data": {
      "text/html": [
       "\n",
       "<style>\n",
       "  #altair-viz-cc004e8d61474be992bc45c3ca171354.vega-embed {\n",
       "    width: 100%;\n",
       "    display: flex;\n",
       "  }\n",
       "\n",
       "  #altair-viz-cc004e8d61474be992bc45c3ca171354.vega-embed details,\n",
       "  #altair-viz-cc004e8d61474be992bc45c3ca171354.vega-embed details summary {\n",
       "    position: relative;\n",
       "  }\n",
       "</style>\n",
       "<div id=\"altair-viz-cc004e8d61474be992bc45c3ca171354\"></div>\n",
       "<script type=\"text/javascript\">\n",
       "  var VEGA_DEBUG = (typeof VEGA_DEBUG == \"undefined\") ? {} : VEGA_DEBUG;\n",
       "  (function(spec, embedOpt){\n",
       "    let outputDiv = document.currentScript.previousElementSibling;\n",
       "    if (outputDiv.id !== \"altair-viz-cc004e8d61474be992bc45c3ca171354\") {\n",
       "      outputDiv = document.getElementById(\"altair-viz-cc004e8d61474be992bc45c3ca171354\");\n",
       "    }\n",
       "    const paths = {\n",
       "      \"vega\": \"https://cdn.jsdelivr.net/npm/vega@5?noext\",\n",
       "      \"vega-lib\": \"https://cdn.jsdelivr.net/npm/vega-lib?noext\",\n",
       "      \"vega-lite\": \"https://cdn.jsdelivr.net/npm/vega-lite@5.20.1?noext\",\n",
       "      \"vega-embed\": \"https://cdn.jsdelivr.net/npm/vega-embed@6?noext\",\n",
       "    };\n",
       "\n",
       "    function maybeLoadScript(lib, version) {\n",
       "      var key = `${lib.replace(\"-\", \"\")}_version`;\n",
       "      return (VEGA_DEBUG[key] == version) ?\n",
       "        Promise.resolve(paths[lib]) :\n",
       "        new Promise(function(resolve, reject) {\n",
       "          var s = document.createElement('script');\n",
       "          document.getElementsByTagName(\"head\")[0].appendChild(s);\n",
       "          s.async = true;\n",
       "          s.onload = () => {\n",
       "            VEGA_DEBUG[key] = version;\n",
       "            return resolve(paths[lib]);\n",
       "          };\n",
       "          s.onerror = () => reject(`Error loading script: ${paths[lib]}`);\n",
       "          s.src = paths[lib];\n",
       "        });\n",
       "    }\n",
       "\n",
       "    function showError(err) {\n",
       "      outputDiv.innerHTML = `<div class=\"error\" style=\"color:red;\">${err}</div>`;\n",
       "      throw err;\n",
       "    }\n",
       "\n",
       "    function displayChart(vegaEmbed) {\n",
       "      vegaEmbed(outputDiv, spec, embedOpt)\n",
       "        .catch(err => showError(`Javascript Error: ${err.message}<br>This usually means there's a typo in your chart specification. See the javascript console for the full traceback.`));\n",
       "    }\n",
       "\n",
       "    if(typeof define === \"function\" && define.amd) {\n",
       "      requirejs.config({paths});\n",
       "      require([\"vega-embed\"], displayChart, err => showError(`Error loading script: ${err.message}`));\n",
       "    } else {\n",
       "      maybeLoadScript(\"vega\", \"5\")\n",
       "        .then(() => maybeLoadScript(\"vega-lite\", \"5.20.1\"))\n",
       "        .then(() => maybeLoadScript(\"vega-embed\", \"6\"))\n",
       "        .catch(showError)\n",
       "        .then(() => displayChart(vegaEmbed));\n",
       "    }\n",
       "  })({\"config\": {\"view\": {\"continuousWidth\": 300, \"continuousHeight\": 300}}, \"data\": {\"name\": \"data-149d8acf3779d97ba38175809d536e24\"}, \"mark\": {\"type\": \"circle\"}, \"encoding\": {\"tooltip\": [{\"field\": \"x\", \"type\": \"quantitative\"}, {\"field\": \"y\", \"type\": \"quantitative\"}], \"x\": {\"field\": \"x\", \"type\": \"quantitative\"}, \"y\": {\"field\": \"y\", \"type\": \"quantitative\"}}, \"params\": [{\"name\": \"param_1\", \"select\": {\"type\": \"interval\", \"encodings\": [\"x\", \"y\"]}, \"bind\": \"scales\"}], \"title\": \"My title\", \"$schema\": \"https://vega.github.io/schema/vega-lite/v5.20.1.json\", \"datasets\": {\"data-149d8acf3779d97ba38175809d536e24\": [{\"x\": -0.1999213511827464, \"y\": 0.08370788514198559}, {\"x\": 1.4000393280222345, \"y\": -1.572386936964997}, {\"x\": -1.7136599698531407, \"y\": 0.4221452517602498}, {\"x\": 1.0657839871077859, \"y\": 0.4966803247694058}, {\"x\": -0.09821159763838866, \"y\": -0.057842875401348165}, {\"x\": -0.7249079069872911, \"y\": -0.5740433461394254}, {\"x\": -0.7479020755248859, \"y\": 0.707999296919509}, {\"x\": -0.000592290489569632, \"y\": -0.36725881645854885}, {\"x\": -0.3353893009460167, \"y\": -1.2774676889105117}, {\"x\": 0.4825755879857083, \"y\": -0.8840407868577447}, {\"x\": -1.9058778918682362, \"y\": 1.4217118446088792}, {\"x\": 2.578521657593207, \"y\": 0.6527586479464926}, {\"x\": -0.9760355663705104, \"y\": 0.43248497198434854}, {\"x\": -0.033855510565492714, \"y\": 1.1520012628829515}, {\"x\": 0.078904712358723, \"y\": -0.3746211813658692}, {\"x\": 0.6482884895161769, \"y\": -1.2925547618349198}, {\"x\": -2.067514371385814, \"y\": -1.0415743873632632}, {\"x\": -0.3411858841869742, \"y\": 0.18420871666168154}, {\"x\": 0.15854745727128253, \"y\": 0.743572085411935}, {\"x\": 1.7275322761834986, \"y\": 0.6318901882806285}, {\"x\": 0.4328414166257426, \"y\": 0.8013777797760057}, {\"x\": 1.0563609846216109, \"y\": -0.8499336317163709}, {\"x\": -0.4592144465742843, \"y\": -0.00801163022889598}, {\"x\": 0.29910651050023407, \"y\": -1.2287160334821388}, {\"x\": -0.40510914801787223, \"y\": 0.596926882253247}, {\"x\": 0.11246247738882059, \"y\": -0.9499673101884847}, {\"x\": 1.913251907411844, \"y\": -2.050986095438002}, {\"x\": -1.277992862015045, \"y\": 1.5188893134625787}, {\"x\": -1.0743936447667746, \"y\": -0.5171329851153933}, {\"x\": -0.2992141296002193, \"y\": 1.144878069670747}, {\"x\": 1.0617967681820215, \"y\": -1.516277749162484}, {\"x\": -0.5728674142315647, \"y\": 0.8688722454956885}, {\"x\": -1.4707094222311907, \"y\": 0.7079312254672226}, {\"x\": 0.5739862258042902, \"y\": 0.22806759240895136}, {\"x\": -2.6419880796550728, \"y\": -0.6296376504615486}, {\"x\": 2.479937875437338, \"y\": 0.17199273562093392}, {\"x\": -0.9202702457805056, \"y\": -0.4511971651599898}, {\"x\": 1.3701383634056998, \"y\": -0.8749177299819718}, {\"x\": 0.5592868810389159, \"y\": 0.8418963880319241}, {\"x\": -0.14499597365572417, \"y\": -0.14033817233962492}, {\"x\": -1.6866118130789443, \"y\": 1.4443154157903317}, {\"x\": 0.5141017643158514, \"y\": 0.38066190994669896}, {\"x\": -0.41675464341697893, \"y\": -1.3259020907694232}, {\"x\": -0.05907783286609852, \"y\": 1.2672250060872348}, {\"x\": -0.3710602692194755, \"y\": 1.312041108161642}, {\"x\": -0.34222425984883226, \"y\": 0.6572223114177803}, {\"x\": 0.006925924959006541, \"y\": -0.20881939745188396}, {\"x\": -0.1513222220178897, \"y\": -0.4931298221223841}, {\"x\": -0.7818759465280283, \"y\": -0.9292853886463217}, {\"x\": -0.6911101379045883, \"y\": -0.06056241509218781}, {\"x\": 0.7131302954508921, \"y\": -1.522005657941338}, {\"x\": -0.5134146874921076, \"y\": 0.362062883551989}, {\"x\": 0.22331996297830092, \"y\": -0.8631300543223702}, {\"x\": -1.1223792829302213, \"y\": 0.9897192823901654}, {\"x\": -0.7424184221887468, \"y\": 1.2299071600013198}, {\"x\": 0.3454769122135616, \"y\": 0.3977973607437146}, {\"x\": -0.7203815934752107, \"y\": 0.9376266991483397}, {\"x\": 0.10206085741605646, \"y\": 1.3013529404275483}, {\"x\": -0.18557293373940262, \"y\": -0.6074149065950479}, {\"x\": 0.13134295643894625, \"y\": -0.8445223163625681}, {\"x\": 0.035131226432117336, \"y\": -0.5069023302776127}, {\"x\": 0.29318977728002926, \"y\": -1.8212114118373832}, {\"x\": 0.5116865333928514, \"y\": 0.32146905300777495}, {\"x\": 0.3967682917208052, \"y\": -0.914746288552672}, {\"x\": 0.8433480035441334, \"y\": -0.726302286434646}, {\"x\": -0.7012234658469102, \"y\": 0.021007561764332314}, {\"x\": -0.5285063100986905, \"y\": 1.2123746908838695}, {\"x\": 2.9452867645363168, \"y\": -2.3448031225185395}, {\"x\": 1.8307759161205672, \"y\": 1.7598025940244013}, {\"x\": -2.242346159578677, \"y\": -0.7703284982120183}, {\"x\": -0.6233970341773203, \"y\": -0.16937885593776264}, {\"x\": 0.13450730399885688, \"y\": 1.906215049070229}, {\"x\": -0.18521224605304368, \"y\": 0.7015917661239538}, {\"x\": -0.07101013249134891, \"y\": 0.45563471193811256}, {\"x\": -0.8728304358818827, \"y\": -0.39594590403243385}, {\"x\": 1.2565683191555592, \"y\": 1.0433539098653202}, {\"x\": -1.1432979147946365, \"y\": 0.3975049431816789}, {\"x\": 0.8557701418740807, \"y\": -1.0597589082561512}, {\"x\": -1.436610007753566, \"y\": -0.8051518179696034}, {\"x\": -0.5528946915370162, \"y\": -1.4510446474291872}, {\"x\": -1.108597503199369, \"y\": 0.3552712850554498}, {\"x\": -0.5355497150758813, \"y\": 1.3150569405289332}, {\"x\": -1.8326918945619046, \"y\": 1.1432434183718305}, {\"x\": 1.7594596702921235, \"y\": -0.3845212494273896}, {\"x\": -1.7047571826291943, \"y\": -0.18796341251704063}, {\"x\": 0.24866923618825099, \"y\": -0.8861803847249655}, {\"x\": -0.08850240669937744, \"y\": -0.4925059246124496}, {\"x\": 1.0952636662327913, \"y\": -0.660111081865829}, {\"x\": -0.014796443994017004, \"y\": -1.0246481942050782}, {\"x\": -0.5734801685353289, \"y\": -1.5135358834540362}, {\"x\": -0.41047950865970534, \"y\": 0.587969239101394}, {\"x\": 1.7203449069720094, \"y\": 0.25012893693385563}, {\"x\": 0.019163234845221908, \"y\": -0.6460504648336027}, {\"x\": -0.7792165412505018, \"y\": -0.47238127893502163}, {\"x\": -0.18633904303600793, \"y\": -0.7822729126120863}, {\"x\": 0.0762284727808617, \"y\": 0.8255721764655738}, {\"x\": 0.5536976874614047, \"y\": -1.3738992111783845}, {\"x\": 1.2343163651373452, \"y\": -0.8677393303564628}, {\"x\": -0.00981247401395372, \"y\": -1.0510416239893206}, {\"x\": 0.3739910831064188, \"y\": -0.9810807069599098}]}}, {\"mode\": \"vega-lite\"});\n",
       "</script>"
      ],
      "text/plain": [
       "alt.Chart(...)"
      ]
     },
     "metadata": {},
     "output_type": "display_data"
    }
   ],
   "source": [
    "num_points = 100\n",
    "df_plot = pd.DataFrame(\n",
    "    {\"x\": np.random.randn(num_points), \"y\": np.random.randn(num_points)}\n",
    ")\n",
    "\n",
    "my_altair_chart = (\n",
    "    alt.Chart(df_plot)\n",
    "    .mark_circle()\n",
    "    .encode(x=\"x\", y=\"y\", tooltip=[\"x\", \"y\"])\n",
    "    .interactive()\n",
    "    .properties(title=\"My title\")\n",
    ")\n",
    "my_altair_chart.show()\n",
    "\n",
    "project.put(\"my_altair_chart\", my_altair_chart)"
   ]
  },
  {
   "cell_type": "markdown",
   "id": "77ed901d",
   "metadata": {},
   "source": [
    "Plotly figures:"
   ]
  },
  {
   "cell_type": "code",
   "execution_count": 22,
   "id": "1ae38bf1",
   "metadata": {},
   "outputs": [
    {
     "data": {
      "application/vnd.plotly.v1+json": {
       "config": {
        "plotlyServerURL": "https://plot.ly"
       },
       "data": [
        {
         "alignmentgroup": "True",
         "hovertemplate": "x=%{x}<br>y=%{y}<extra></extra>",
         "legendgroup": "",
         "marker": {
          "color": "#636efa",
          "pattern": {
           "shape": ""
          }
         },
         "name": "",
         "offsetgroup": "",
         "orientation": "v",
         "showlegend": false,
         "textposition": "auto",
         "type": "bar",
         "x": [
          "a",
          "b",
          "c"
         ],
         "xaxis": "x",
         "y": [
          1,
          3,
          2
         ],
         "yaxis": "y"
        }
       ],
       "layout": {
        "barmode": "relative",
        "legend": {
         "tracegroupgap": 0
        },
        "margin": {
         "t": 60
        },
        "template": {
         "data": {
          "bar": [
           {
            "error_x": {
             "color": "#2a3f5f"
            },
            "error_y": {
             "color": "#2a3f5f"
            },
            "marker": {
             "line": {
              "color": "#E5ECF6",
              "width": 0.5
             },
             "pattern": {
              "fillmode": "overlay",
              "size": 10,
              "solidity": 0.2
             }
            },
            "type": "bar"
           }
          ],
          "barpolar": [
           {
            "marker": {
             "line": {
              "color": "#E5ECF6",
              "width": 0.5
             },
             "pattern": {
              "fillmode": "overlay",
              "size": 10,
              "solidity": 0.2
             }
            },
            "type": "barpolar"
           }
          ],
          "carpet": [
           {
            "aaxis": {
             "endlinecolor": "#2a3f5f",
             "gridcolor": "white",
             "linecolor": "white",
             "minorgridcolor": "white",
             "startlinecolor": "#2a3f5f"
            },
            "baxis": {
             "endlinecolor": "#2a3f5f",
             "gridcolor": "white",
             "linecolor": "white",
             "minorgridcolor": "white",
             "startlinecolor": "#2a3f5f"
            },
            "type": "carpet"
           }
          ],
          "choropleth": [
           {
            "colorbar": {
             "outlinewidth": 0,
             "ticks": ""
            },
            "type": "choropleth"
           }
          ],
          "contour": [
           {
            "colorbar": {
             "outlinewidth": 0,
             "ticks": ""
            },
            "colorscale": [
             [
              0,
              "#0d0887"
             ],
             [
              0.1111111111111111,
              "#46039f"
             ],
             [
              0.2222222222222222,
              "#7201a8"
             ],
             [
              0.3333333333333333,
              "#9c179e"
             ],
             [
              0.4444444444444444,
              "#bd3786"
             ],
             [
              0.5555555555555556,
              "#d8576b"
             ],
             [
              0.6666666666666666,
              "#ed7953"
             ],
             [
              0.7777777777777778,
              "#fb9f3a"
             ],
             [
              0.8888888888888888,
              "#fdca26"
             ],
             [
              1,
              "#f0f921"
             ]
            ],
            "type": "contour"
           }
          ],
          "contourcarpet": [
           {
            "colorbar": {
             "outlinewidth": 0,
             "ticks": ""
            },
            "type": "contourcarpet"
           }
          ],
          "heatmap": [
           {
            "colorbar": {
             "outlinewidth": 0,
             "ticks": ""
            },
            "colorscale": [
             [
              0,
              "#0d0887"
             ],
             [
              0.1111111111111111,
              "#46039f"
             ],
             [
              0.2222222222222222,
              "#7201a8"
             ],
             [
              0.3333333333333333,
              "#9c179e"
             ],
             [
              0.4444444444444444,
              "#bd3786"
             ],
             [
              0.5555555555555556,
              "#d8576b"
             ],
             [
              0.6666666666666666,
              "#ed7953"
             ],
             [
              0.7777777777777778,
              "#fb9f3a"
             ],
             [
              0.8888888888888888,
              "#fdca26"
             ],
             [
              1,
              "#f0f921"
             ]
            ],
            "type": "heatmap"
           }
          ],
          "heatmapgl": [
           {
            "colorbar": {
             "outlinewidth": 0,
             "ticks": ""
            },
            "colorscale": [
             [
              0,
              "#0d0887"
             ],
             [
              0.1111111111111111,
              "#46039f"
             ],
             [
              0.2222222222222222,
              "#7201a8"
             ],
             [
              0.3333333333333333,
              "#9c179e"
             ],
             [
              0.4444444444444444,
              "#bd3786"
             ],
             [
              0.5555555555555556,
              "#d8576b"
             ],
             [
              0.6666666666666666,
              "#ed7953"
             ],
             [
              0.7777777777777778,
              "#fb9f3a"
             ],
             [
              0.8888888888888888,
              "#fdca26"
             ],
             [
              1,
              "#f0f921"
             ]
            ],
            "type": "heatmapgl"
           }
          ],
          "histogram": [
           {
            "marker": {
             "pattern": {
              "fillmode": "overlay",
              "size": 10,
              "solidity": 0.2
             }
            },
            "type": "histogram"
           }
          ],
          "histogram2d": [
           {
            "colorbar": {
             "outlinewidth": 0,
             "ticks": ""
            },
            "colorscale": [
             [
              0,
              "#0d0887"
             ],
             [
              0.1111111111111111,
              "#46039f"
             ],
             [
              0.2222222222222222,
              "#7201a8"
             ],
             [
              0.3333333333333333,
              "#9c179e"
             ],
             [
              0.4444444444444444,
              "#bd3786"
             ],
             [
              0.5555555555555556,
              "#d8576b"
             ],
             [
              0.6666666666666666,
              "#ed7953"
             ],
             [
              0.7777777777777778,
              "#fb9f3a"
             ],
             [
              0.8888888888888888,
              "#fdca26"
             ],
             [
              1,
              "#f0f921"
             ]
            ],
            "type": "histogram2d"
           }
          ],
          "histogram2dcontour": [
           {
            "colorbar": {
             "outlinewidth": 0,
             "ticks": ""
            },
            "colorscale": [
             [
              0,
              "#0d0887"
             ],
             [
              0.1111111111111111,
              "#46039f"
             ],
             [
              0.2222222222222222,
              "#7201a8"
             ],
             [
              0.3333333333333333,
              "#9c179e"
             ],
             [
              0.4444444444444444,
              "#bd3786"
             ],
             [
              0.5555555555555556,
              "#d8576b"
             ],
             [
              0.6666666666666666,
              "#ed7953"
             ],
             [
              0.7777777777777778,
              "#fb9f3a"
             ],
             [
              0.8888888888888888,
              "#fdca26"
             ],
             [
              1,
              "#f0f921"
             ]
            ],
            "type": "histogram2dcontour"
           }
          ],
          "mesh3d": [
           {
            "colorbar": {
             "outlinewidth": 0,
             "ticks": ""
            },
            "type": "mesh3d"
           }
          ],
          "parcoords": [
           {
            "line": {
             "colorbar": {
              "outlinewidth": 0,
              "ticks": ""
             }
            },
            "type": "parcoords"
           }
          ],
          "pie": [
           {
            "automargin": true,
            "type": "pie"
           }
          ],
          "scatter": [
           {
            "fillpattern": {
             "fillmode": "overlay",
             "size": 10,
             "solidity": 0.2
            },
            "type": "scatter"
           }
          ],
          "scatter3d": [
           {
            "line": {
             "colorbar": {
              "outlinewidth": 0,
              "ticks": ""
             }
            },
            "marker": {
             "colorbar": {
              "outlinewidth": 0,
              "ticks": ""
             }
            },
            "type": "scatter3d"
           }
          ],
          "scattercarpet": [
           {
            "marker": {
             "colorbar": {
              "outlinewidth": 0,
              "ticks": ""
             }
            },
            "type": "scattercarpet"
           }
          ],
          "scattergeo": [
           {
            "marker": {
             "colorbar": {
              "outlinewidth": 0,
              "ticks": ""
             }
            },
            "type": "scattergeo"
           }
          ],
          "scattergl": [
           {
            "marker": {
             "colorbar": {
              "outlinewidth": 0,
              "ticks": ""
             }
            },
            "type": "scattergl"
           }
          ],
          "scattermapbox": [
           {
            "marker": {
             "colorbar": {
              "outlinewidth": 0,
              "ticks": ""
             }
            },
            "type": "scattermapbox"
           }
          ],
          "scatterpolar": [
           {
            "marker": {
             "colorbar": {
              "outlinewidth": 0,
              "ticks": ""
             }
            },
            "type": "scatterpolar"
           }
          ],
          "scatterpolargl": [
           {
            "marker": {
             "colorbar": {
              "outlinewidth": 0,
              "ticks": ""
             }
            },
            "type": "scatterpolargl"
           }
          ],
          "scatterternary": [
           {
            "marker": {
             "colorbar": {
              "outlinewidth": 0,
              "ticks": ""
             }
            },
            "type": "scatterternary"
           }
          ],
          "surface": [
           {
            "colorbar": {
             "outlinewidth": 0,
             "ticks": ""
            },
            "colorscale": [
             [
              0,
              "#0d0887"
             ],
             [
              0.1111111111111111,
              "#46039f"
             ],
             [
              0.2222222222222222,
              "#7201a8"
             ],
             [
              0.3333333333333333,
              "#9c179e"
             ],
             [
              0.4444444444444444,
              "#bd3786"
             ],
             [
              0.5555555555555556,
              "#d8576b"
             ],
             [
              0.6666666666666666,
              "#ed7953"
             ],
             [
              0.7777777777777778,
              "#fb9f3a"
             ],
             [
              0.8888888888888888,
              "#fdca26"
             ],
             [
              1,
              "#f0f921"
             ]
            ],
            "type": "surface"
           }
          ],
          "table": [
           {
            "cells": {
             "fill": {
              "color": "#EBF0F8"
             },
             "line": {
              "color": "white"
             }
            },
            "header": {
             "fill": {
              "color": "#C8D4E3"
             },
             "line": {
              "color": "white"
             }
            },
            "type": "table"
           }
          ]
         },
         "layout": {
          "annotationdefaults": {
           "arrowcolor": "#2a3f5f",
           "arrowhead": 0,
           "arrowwidth": 1
          },
          "autotypenumbers": "strict",
          "coloraxis": {
           "colorbar": {
            "outlinewidth": 0,
            "ticks": ""
           }
          },
          "colorscale": {
           "diverging": [
            [
             0,
             "#8e0152"
            ],
            [
             0.1,
             "#c51b7d"
            ],
            [
             0.2,
             "#de77ae"
            ],
            [
             0.3,
             "#f1b6da"
            ],
            [
             0.4,
             "#fde0ef"
            ],
            [
             0.5,
             "#f7f7f7"
            ],
            [
             0.6,
             "#e6f5d0"
            ],
            [
             0.7,
             "#b8e186"
            ],
            [
             0.8,
             "#7fbc41"
            ],
            [
             0.9,
             "#4d9221"
            ],
            [
             1,
             "#276419"
            ]
           ],
           "sequential": [
            [
             0,
             "#0d0887"
            ],
            [
             0.1111111111111111,
             "#46039f"
            ],
            [
             0.2222222222222222,
             "#7201a8"
            ],
            [
             0.3333333333333333,
             "#9c179e"
            ],
            [
             0.4444444444444444,
             "#bd3786"
            ],
            [
             0.5555555555555556,
             "#d8576b"
            ],
            [
             0.6666666666666666,
             "#ed7953"
            ],
            [
             0.7777777777777778,
             "#fb9f3a"
            ],
            [
             0.8888888888888888,
             "#fdca26"
            ],
            [
             1,
             "#f0f921"
            ]
           ],
           "sequentialminus": [
            [
             0,
             "#0d0887"
            ],
            [
             0.1111111111111111,
             "#46039f"
            ],
            [
             0.2222222222222222,
             "#7201a8"
            ],
            [
             0.3333333333333333,
             "#9c179e"
            ],
            [
             0.4444444444444444,
             "#bd3786"
            ],
            [
             0.5555555555555556,
             "#d8576b"
            ],
            [
             0.6666666666666666,
             "#ed7953"
            ],
            [
             0.7777777777777778,
             "#fb9f3a"
            ],
            [
             0.8888888888888888,
             "#fdca26"
            ],
            [
             1,
             "#f0f921"
            ]
           ]
          },
          "colorway": [
           "#636efa",
           "#EF553B",
           "#00cc96",
           "#ab63fa",
           "#FFA15A",
           "#19d3f3",
           "#FF6692",
           "#B6E880",
           "#FF97FF",
           "#FECB52"
          ],
          "font": {
           "color": "#2a3f5f"
          },
          "geo": {
           "bgcolor": "white",
           "lakecolor": "white",
           "landcolor": "#E5ECF6",
           "showlakes": true,
           "showland": true,
           "subunitcolor": "white"
          },
          "hoverlabel": {
           "align": "left"
          },
          "hovermode": "closest",
          "mapbox": {
           "style": "light"
          },
          "paper_bgcolor": "white",
          "plot_bgcolor": "#E5ECF6",
          "polar": {
           "angularaxis": {
            "gridcolor": "white",
            "linecolor": "white",
            "ticks": ""
           },
           "bgcolor": "#E5ECF6",
           "radialaxis": {
            "gridcolor": "white",
            "linecolor": "white",
            "ticks": ""
           }
          },
          "scene": {
           "xaxis": {
            "backgroundcolor": "#E5ECF6",
            "gridcolor": "white",
            "gridwidth": 2,
            "linecolor": "white",
            "showbackground": true,
            "ticks": "",
            "zerolinecolor": "white"
           },
           "yaxis": {
            "backgroundcolor": "#E5ECF6",
            "gridcolor": "white",
            "gridwidth": 2,
            "linecolor": "white",
            "showbackground": true,
            "ticks": "",
            "zerolinecolor": "white"
           },
           "zaxis": {
            "backgroundcolor": "#E5ECF6",
            "gridcolor": "white",
            "gridwidth": 2,
            "linecolor": "white",
            "showbackground": true,
            "ticks": "",
            "zerolinecolor": "white"
           }
          },
          "shapedefaults": {
           "line": {
            "color": "#2a3f5f"
           }
          },
          "ternary": {
           "aaxis": {
            "gridcolor": "white",
            "linecolor": "white",
            "ticks": ""
           },
           "baxis": {
            "gridcolor": "white",
            "linecolor": "white",
            "ticks": ""
           },
           "bgcolor": "#E5ECF6",
           "caxis": {
            "gridcolor": "white",
            "linecolor": "white",
            "ticks": ""
           }
          },
          "title": {
           "x": 0.05
          },
          "xaxis": {
           "automargin": true,
           "gridcolor": "white",
           "linecolor": "white",
           "ticks": "",
           "title": {
            "standoff": 15
           },
           "zerolinecolor": "white",
           "zerolinewidth": 2
          },
          "yaxis": {
           "automargin": true,
           "gridcolor": "white",
           "linecolor": "white",
           "ticks": "",
           "title": {
            "standoff": 15
           },
           "zerolinecolor": "white",
           "zerolinewidth": 2
          }
         }
        },
        "xaxis": {
         "anchor": "y",
         "domain": [
          0,
          1
         ],
         "title": {
          "text": "x"
         }
        },
        "yaxis": {
         "anchor": "x",
         "domain": [
          0,
          1
         ],
         "title": {
          "text": "y"
         }
        }
       }
      }
     },
     "metadata": {},
     "output_type": "display_data"
    }
   ],
   "source": [
    "my_plotly_fig = px.bar(x=[\"a\", \"b\", \"c\"], y=[1, 3, 2])\n",
    "my_plotly_fig.show()\n",
    "project.put(\"my_plotly_fig\", my_plotly_fig)"
   ]
  },
  {
   "cell_type": "markdown",
   "id": "9aed47d9",
   "metadata": {},
   "source": [
    "PIL images:"
   ]
  },
  {
   "cell_type": "code",
   "execution_count": 23,
   "id": "183c2e51",
   "metadata": {},
   "outputs": [],
   "source": [
    "pil_image = PIL.Image.new(\"RGB\", (100, 100), color=\"red\")\n",
    "with io.BytesIO() as output:\n",
    "    pil_image.save(output, format=\"png\")\n",
    "\n",
    "project.put(\"pil_image\", pil_image)"
   ]
  },
  {
   "cell_type": "markdown",
   "id": "ac2d4024",
   "metadata": {},
   "source": [
    "## Scikit-learn models and pipelines\n",
    "\n",
    "As `skore` is developed by :probabl., the spin-off of scikit-learn, `skore` treats scikit-learn models and pipelines as first-class citizens.\n",
    "\n",
    "First of all, you can store a scikit-learn model:"
   ]
  },
  {
   "cell_type": "code",
   "execution_count": 24,
   "id": "b1e071f7",
   "metadata": {},
   "outputs": [],
   "source": [
    "my_model = Lasso(alpha=2)\n",
    "project.put(\"my_model\", my_model)"
   ]
  },
  {
   "cell_type": "markdown",
   "id": "124c4690",
   "metadata": {},
   "source": [
    "You can also store scikit-learn pipelines:"
   ]
  },
  {
   "cell_type": "code",
   "execution_count": 25,
   "id": "238a8fe5",
   "metadata": {},
   "outputs": [],
   "source": [
    "my_pipeline = Pipeline(\n",
    "    [(\"standard_scaler\", StandardScaler()), (\"lasso\", Lasso(alpha=2))]\n",
    ")\n",
    "project.put(\"my_pipeline\", my_pipeline)"
   ]
  },
  {
   "cell_type": "markdown",
   "id": "7235e282",
   "metadata": {},
   "source": [
    "Moreover, you can store fitted scikit-learn pipelines:"
   ]
  },
  {
   "cell_type": "code",
   "execution_count": 26,
   "id": "deb9d103",
   "metadata": {},
   "outputs": [],
   "source": [
    "diabetes = load_diabetes()\n",
    "X = diabetes.data[:150]\n",
    "y = diabetes.target[:150]\n",
    "my_pipeline.fit(X, y)\n",
    "\n",
    "project.put(\"my_fitted_pipeline\", my_pipeline)"
   ]
  },
  {
   "cell_type": "markdown",
   "id": "e6b090d3",
   "metadata": {},
   "source": [
    "_Stay tuned for some new features!_"
   ]
  },
  {
   "cell_type": "markdown",
   "id": "555665f0",
   "metadata": {},
   "source": [
    "---\n",
    "# Manipulating the skore UI\n",
    "\n",
    "The following is just some `skore` strings that we generate in order to provide more context on the obtained report."
   ]
  },
  {
   "cell_type": "code",
   "execution_count": 27,
   "id": "30f6f3bf",
   "metadata": {},
   "outputs": [],
   "source": [
    "project.put_item(\n",
    "    \"my_comment_1\",\n",
    "    MediaItem.factory(\n",
    "        \"<p><h1>Welcome to skore!</h1>Given to you by :probabl., skore is a powerful tool that allows data scientists to create tracking and clear reports from their Python code, typically a notebook. This HTML document is actually a skore report generated using the `basic_usage.ipynb` notebook that has been exported (into HTML)!<p>\",\n",
    "        media_type=\"text/html\",\n",
    "    ),\n",
    ")"
   ]
  },
  {
   "cell_type": "code",
   "execution_count": 28,
   "id": "7e5ed756",
   "metadata": {},
   "outputs": [],
   "source": [
    "project.put_item(\n",
    "    \"my_comment_2\",\n",
    "    MediaItem.factory(\"<p><h2>Integers</h1></p>\", media_type=\"text/html\"),\n",
    ")"
   ]
  },
  {
   "cell_type": "code",
   "execution_count": 29,
   "id": "2108a347",
   "metadata": {},
   "outputs": [],
   "source": [
    "project.put_item(\n",
    "    \"my_comment_3\", MediaItem.factory(\"<p><h2>Strings</h1></p>\", media_type=\"text/html\")\n",
    ")"
   ]
  },
  {
   "cell_type": "code",
   "execution_count": 30,
   "id": "067e4fdd",
   "metadata": {},
   "outputs": [],
   "source": [
    "project.put_item(\n",
    "    \"my_comment_4\",\n",
    "    MediaItem.factory(\"<p><h2>Many kinds of data</h1></p>\", media_type=\"text/html\"),\n",
    ")"
   ]
  },
  {
   "cell_type": "code",
   "execution_count": 31,
   "id": "da81ae66",
   "metadata": {},
   "outputs": [],
   "source": [
    "project.put_item(\n",
    "    \"my_comment_5\",\n",
    "    MediaItem.factory(\"<p><h2>Altair plots</h1></p>\", media_type=\"text/html\"),\n",
    ")"
   ]
  },
  {
   "cell_type": "code",
   "execution_count": 32,
   "id": "c65be8c4",
   "metadata": {},
   "outputs": [],
   "source": [
    "project.put_item(\n",
    "    \"my_comment_6\",\n",
    "    MediaItem.factory(\n",
    "        \"<p><h2>Scikit-learn models and pipelines</h1></p>\", media_type=\"text/html\"\n",
    "    ),\n",
    ")"
   ]
  },
  {
   "cell_type": "code",
   "execution_count": 33,
   "id": "e1365efe",
   "metadata": {},
   "outputs": [],
   "source": [
    "project.put_item(\n",
    "    \"my_comment_7\",\n",
    "    MediaItem.factory(\n",
    "        \"<p><h2>Manipulating the skore report</h1></p>\", media_type=\"text/html\"\n",
    "    ),\n",
    ")"
   ]
  },
  {
   "cell_type": "code",
   "execution_count": 34,
   "id": "e908bcc2",
   "metadata": {},
   "outputs": [],
   "source": [
    "project.put_item(\n",
    "    \"my_comment_8\",\n",
    "    MediaItem.factory(\n",
    "        \"<p>Once you have created cells in your Skore report, you can place them where you want: move them up or down, delete them, for example put one to the left of a graph to comment on it.</p>\",\n",
    "        media_type=\"text/html\",\n",
    "    ),\n",
    ")"
   ]
  }
 ],
 "metadata": {
  "jupytext": {
   "formats": "ipynb,py:percent"
  },
  "kernelspec": {
   "display_name": ".venv",
   "language": "python",
   "name": "python3"
  },
  "language_info": {
   "codemirror_mode": {
    "name": "ipython",
    "version": 3
   },
   "file_extension": ".py",
   "mimetype": "text/x-python",
   "name": "python",
   "nbconvert_exporter": "python",
   "pygments_lexer": "ipython3",
   "version": "3.12.5"
  }
 },
 "nbformat": 4,
 "nbformat_minor": 5
}
