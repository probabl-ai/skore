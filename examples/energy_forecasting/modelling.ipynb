{
 "cells": [
  {
   "cell_type": "code",
   "execution_count": 57,
   "metadata": {},
   "outputs": [],
   "source": [
    "import altair as alt\n",
    "import polars as pl\n",
    "import numpy as np\n",
    "from sktime.forecasting.compose import make_reduction"
   ]
  },
  {
   "cell_type": "code",
   "execution_count": 18,
   "metadata": {
    "lines_to_next_cell": 2
   },
   "outputs": [
    {
     "data": {
      "text/plain": [
       "0        0.02\n",
       "1        0.07\n",
       "2        0.22\n",
       "3        0.39\n",
       "4        0.41\n",
       "         ... \n",
       "37370    0.04\n",
       "37371    0.33\n",
       "37372    0.13\n",
       "37373    0.01\n",
       "37374    0.00\n",
       "Name: Production, Length: 37375, dtype: float64"
      ]
     },
     "execution_count": 18,
     "metadata": {},
     "output_type": "execute_result"
    }
   ],
   "source": [
    "X = pl.read_csv(\"X_train.csv\").with_columns(\n",
    "    pl.col(\"Time\").str.to_datetime(\"%d/%m/%Y %H:%M\")\n",
    ")\n",
    "y = pl.read_csv(\"Y_train.csv\").join(X, on=\"ID\").select(\"ID\", \"Time\", \"Production\")\n",
    "\n",
    "X_WF1 = X.filter(pl.col(\"WF\") == \"WF1\")\n",
    "y_WF1 = y.join(X_WF1, on=\"ID\", how=\"semi\")\n",
    "\n",
    "from sktime.split import temporal_train_test_split\n",
    "\n",
    "y_train, y_test, X_train, X_test = temporal_train_test_split(\n",
    "    y=y_WF1[\"Production\"].to_pandas(), X=X_WF1.drop([\"ID\", \"WF\", \"Time\"]).to_pandas()\n",
    ")\n",
    "\n",
    "fh = np.arange(1, len(y_test) + 1)  # forecasting horizon\n",
    "\n",
    "# y_WF1_train = y_train.join(X_WF1_train, on=\"ID\", how=\"semi\")\n",
    "# y_WF1_test = y_test.join(X_WF1_test, on=\"ID\", how=\"semi\")\n",
    "# y_WF1_true = np.array(y_WF1_test[\"Production\"])"
   ]
  },
  {
   "cell_type": "code",
   "execution_count": 20,
   "metadata": {},
   "outputs": [],
   "source": [
    "def cape(y_true, y_pred):\n",
    "    \"\"\"Compute the cumulated absolute percentage error.\"\"\"\n",
    "    return 100 * sum(abs(y_true - y_pred)) / sum(y_true)"
   ]
  },
  {
   "cell_type": "code",
   "execution_count": 50,
   "metadata": {},
   "outputs": [],
   "source": [
    "capes = {}"
   ]
  },
  {
   "cell_type": "markdown",
   "metadata": {},
   "source": [
    "## Baseline: Average production"
   ]
  },
  {
   "cell_type": "code",
   "execution_count": 24,
   "metadata": {},
   "outputs": [],
   "source": [
    "y_pred = np.full_like(y_test, fill_value=y_train.mean())"
   ]
  },
  {
   "cell_type": "code",
   "execution_count": 52,
   "metadata": {},
   "outputs": [
    {
     "data": {
      "text/plain": [
       "88.32878349994141"
      ]
     },
     "execution_count": 52,
     "metadata": {},
     "output_type": "execute_result"
    }
   ],
   "source": [
    "capes[\"baseline\"] = cape(y_test, y_pred)\n",
    "cape(y_test, y_pred)"
   ]
  },
  {
   "cell_type": "markdown",
   "metadata": {},
   "source": [
    "## HistGradientBoostingRegressor"
   ]
  },
  {
   "cell_type": "code",
   "execution_count": 36,
   "metadata": {},
   "outputs": [],
   "source": [
    "from sklearn.ensemble import HistGradientBoostingRegressor\n",
    "\n",
    "regressor = HistGradientBoostingRegressor()\n",
    "forecaster_hgbr = make_reduction(\n",
    "    regressor,\n",
    "    strategy=\"recursive\",\n",
    "    window_length=24,\n",
    ")"
   ]
  },
  {
   "cell_type": "code",
   "execution_count": 37,
   "metadata": {},
   "outputs": [
    {
     "data": {
      "text/html": [
       "<style>#sk-9684bb58-5e79-4063-8ae5-ff8260f818cf {color: black;background-color: white;}#sk-9684bb58-5e79-4063-8ae5-ff8260f818cf pre{padding: 0;}#sk-9684bb58-5e79-4063-8ae5-ff8260f818cf div.sk-toggleable {background-color: white;}#sk-9684bb58-5e79-4063-8ae5-ff8260f818cf label.sk-toggleable__label {cursor: pointer;display: block;width: 100%;margin-bottom: 0;padding: 0.3em;box-sizing: border-box;text-align: center;}#sk-9684bb58-5e79-4063-8ae5-ff8260f818cf label.sk-toggleable__label-arrow:before {content: \"▸\";float: left;margin-right: 0.25em;color: #696969;}#sk-9684bb58-5e79-4063-8ae5-ff8260f818cf label.sk-toggleable__label-arrow:hover:before {color: black;}#sk-9684bb58-5e79-4063-8ae5-ff8260f818cf div.sk-estimator:hover label.sk-toggleable__label-arrow:before {color: black;}#sk-9684bb58-5e79-4063-8ae5-ff8260f818cf div.sk-toggleable__content {max-height: 0;max-width: 0;overflow: hidden;text-align: left;background-color: #f0f8ff;}#sk-9684bb58-5e79-4063-8ae5-ff8260f818cf div.sk-toggleable__content pre {margin: 0.2em;color: black;border-radius: 0.25em;background-color: #f0f8ff;}#sk-9684bb58-5e79-4063-8ae5-ff8260f818cf input.sk-toggleable__control:checked~div.sk-toggleable__content {max-height: 200px;max-width: 100%;overflow: auto;}#sk-9684bb58-5e79-4063-8ae5-ff8260f818cf input.sk-toggleable__control:checked~label.sk-toggleable__label-arrow:before {content: \"▾\";}#sk-9684bb58-5e79-4063-8ae5-ff8260f818cf div.sk-estimator input.sk-toggleable__control:checked~label.sk-toggleable__label {background-color: #d4ebff;}#sk-9684bb58-5e79-4063-8ae5-ff8260f818cf div.sk-label input.sk-toggleable__control:checked~label.sk-toggleable__label {background-color: #d4ebff;}#sk-9684bb58-5e79-4063-8ae5-ff8260f818cf input.sk-hidden--visually {border: 0;clip: rect(1px 1px 1px 1px);clip: rect(1px, 1px, 1px, 1px);height: 1px;margin: -1px;overflow: hidden;padding: 0;position: absolute;width: 1px;}#sk-9684bb58-5e79-4063-8ae5-ff8260f818cf div.sk-estimator {font-family: monospace;background-color: #f0f8ff;border: 1px dotted black;border-radius: 0.25em;box-sizing: border-box;margin-bottom: 0.5em;}#sk-9684bb58-5e79-4063-8ae5-ff8260f818cf div.sk-estimator:hover {background-color: #d4ebff;}#sk-9684bb58-5e79-4063-8ae5-ff8260f818cf div.sk-parallel-item::after {content: \"\";width: 100%;border-bottom: 1px solid gray;flex-grow: 1;}#sk-9684bb58-5e79-4063-8ae5-ff8260f818cf div.sk-label:hover label.sk-toggleable__label {background-color: #d4ebff;}#sk-9684bb58-5e79-4063-8ae5-ff8260f818cf div.sk-serial::before {content: \"\";position: absolute;border-left: 1px solid gray;box-sizing: border-box;top: 2em;bottom: 0;left: 50%;}#sk-9684bb58-5e79-4063-8ae5-ff8260f818cf div.sk-serial {display: flex;flex-direction: column;align-items: center;background-color: white;padding-right: 0.2em;padding-left: 0.2em;}#sk-9684bb58-5e79-4063-8ae5-ff8260f818cf div.sk-item {z-index: 1;}#sk-9684bb58-5e79-4063-8ae5-ff8260f818cf div.sk-parallel {display: flex;align-items: stretch;justify-content: center;background-color: white;}#sk-9684bb58-5e79-4063-8ae5-ff8260f818cf div.sk-parallel::before {content: \"\";position: absolute;border-left: 1px solid gray;box-sizing: border-box;top: 2em;bottom: 0;left: 50%;}#sk-9684bb58-5e79-4063-8ae5-ff8260f818cf div.sk-parallel-item {display: flex;flex-direction: column;position: relative;background-color: white;}#sk-9684bb58-5e79-4063-8ae5-ff8260f818cf div.sk-parallel-item:first-child::after {align-self: flex-end;width: 50%;}#sk-9684bb58-5e79-4063-8ae5-ff8260f818cf div.sk-parallel-item:last-child::after {align-self: flex-start;width: 50%;}#sk-9684bb58-5e79-4063-8ae5-ff8260f818cf div.sk-parallel-item:only-child::after {width: 0;}#sk-9684bb58-5e79-4063-8ae5-ff8260f818cf div.sk-dashed-wrapped {border: 1px dashed gray;margin: 0 0.4em 0.5em 0.4em;box-sizing: border-box;padding-bottom: 0.4em;background-color: white;position: relative;}#sk-9684bb58-5e79-4063-8ae5-ff8260f818cf div.sk-label label {font-family: monospace;font-weight: bold;background-color: white;display: inline-block;line-height: 1.2em;}#sk-9684bb58-5e79-4063-8ae5-ff8260f818cf div.sk-label-container {position: relative;z-index: 2;text-align: center;}#sk-9684bb58-5e79-4063-8ae5-ff8260f818cf div.sk-container {/* jupyter's `normalize.less` sets `[hidden] { display: none; }` but bootstrap.min.css set `[hidden] { display: none !important; }` so we also need the `!important` here to be able to override the default hidden behavior on the sphinx rendered scikit-learn.org. See: https://github.com/scikit-learn/scikit-learn/issues/21755 */display: inline-block !important;position: relative;}#sk-9684bb58-5e79-4063-8ae5-ff8260f818cf div.sk-text-repr-fallback {display: none;}</style><div id='sk-9684bb58-5e79-4063-8ae5-ff8260f818cf' class=\"sk-top-container\"><div class=\"sk-text-repr-fallback\"><pre>RecursiveTabularRegressionForecaster(estimator=HistGradientBoostingRegressor(),\n",
       "                                     window_length=24)</pre><b>Please rerun this cell to show the HTML repr or trust the notebook.</b></div><div class=\"sk-container\" hidden><div class=\"sk-item sk-dashed-wrapped\"><div class='sk-label-container'><div class=\"sk-label sk-toggleable\"><input class=\"sk-toggleable__control sk-hidden--visually\" id=UUID('2a048a6d-61e2-4b48-8f59-90bee373beb4') type=\"checkbox\" ><label for=UUID('2a048a6d-61e2-4b48-8f59-90bee373beb4') class='sk-toggleable__label sk-toggleable__label-arrow'>RecursiveTabularRegressionForecaster</label><div class=\"sk-toggleable__content\"><pre>RecursiveTabularRegressionForecaster(estimator=HistGradientBoostingRegressor(),\n",
       "                                     window_length=24)</pre></div></div></div><div class=\"sk-parallel\"><div class=\"sk-parallel-item\"><div class=\"sk-item\"><div class=\"sk-serial\"><div class='sk-item'><div class=\"sk-estimator sk-toggleable\"><input class=\"sk-toggleable__control sk-hidden--visually\" id=UUID('76358d44-5b43-4616-b510-25d1dbda705a') type=\"checkbox\" ><label for=UUID('76358d44-5b43-4616-b510-25d1dbda705a') class='sk-toggleable__label sk-toggleable__label-arrow'>HistGradientBoostingRegressor</label><div class=\"sk-toggleable__content\"><pre>HistGradientBoostingRegressor()</pre></div></div></div></div></div></div></div></div></div></div>"
      ],
      "text/plain": [
       "RecursiveTabularRegressionForecaster(estimator=HistGradientBoostingRegressor(),\n",
       "                                     window_length=24)"
      ]
     },
     "execution_count": 37,
     "metadata": {},
     "output_type": "execute_result"
    }
   ],
   "source": [
    "forecaster_hgbr.fit(fh=fh, y=y_train)"
   ]
  },
  {
   "cell_type": "code",
   "execution_count": 39,
   "metadata": {},
   "outputs": [],
   "source": [
    "y_pred_hgbr = forecaster_hgbr.predict(fh=fh)"
   ]
  },
  {
   "cell_type": "code",
   "execution_count": 53,
   "metadata": {},
   "outputs": [
    {
     "data": {
      "text/plain": [
       "90.8990943442281"
      ]
     },
     "execution_count": 53,
     "metadata": {},
     "output_type": "execute_result"
    }
   ],
   "source": [
    "capes[\"hgbr\"] = cape(y_test, y_pred_hgbr)\n",
    "cape(y_test, y_pred_hgbr)"
   ]
  },
  {
   "cell_type": "markdown",
   "metadata": {},
   "source": [
    "## Random Forest"
   ]
  },
  {
   "cell_type": "code",
   "execution_count": 43,
   "metadata": {},
   "outputs": [
    {
     "data": {
      "text/html": [
       "<style>#sk-e57c2bda-5ab6-48d2-af46-adf91809d04d {color: black;background-color: white;}#sk-e57c2bda-5ab6-48d2-af46-adf91809d04d pre{padding: 0;}#sk-e57c2bda-5ab6-48d2-af46-adf91809d04d div.sk-toggleable {background-color: white;}#sk-e57c2bda-5ab6-48d2-af46-adf91809d04d label.sk-toggleable__label {cursor: pointer;display: block;width: 100%;margin-bottom: 0;padding: 0.3em;box-sizing: border-box;text-align: center;}#sk-e57c2bda-5ab6-48d2-af46-adf91809d04d label.sk-toggleable__label-arrow:before {content: \"▸\";float: left;margin-right: 0.25em;color: #696969;}#sk-e57c2bda-5ab6-48d2-af46-adf91809d04d label.sk-toggleable__label-arrow:hover:before {color: black;}#sk-e57c2bda-5ab6-48d2-af46-adf91809d04d div.sk-estimator:hover label.sk-toggleable__label-arrow:before {color: black;}#sk-e57c2bda-5ab6-48d2-af46-adf91809d04d div.sk-toggleable__content {max-height: 0;max-width: 0;overflow: hidden;text-align: left;background-color: #f0f8ff;}#sk-e57c2bda-5ab6-48d2-af46-adf91809d04d div.sk-toggleable__content pre {margin: 0.2em;color: black;border-radius: 0.25em;background-color: #f0f8ff;}#sk-e57c2bda-5ab6-48d2-af46-adf91809d04d input.sk-toggleable__control:checked~div.sk-toggleable__content {max-height: 200px;max-width: 100%;overflow: auto;}#sk-e57c2bda-5ab6-48d2-af46-adf91809d04d input.sk-toggleable__control:checked~label.sk-toggleable__label-arrow:before {content: \"▾\";}#sk-e57c2bda-5ab6-48d2-af46-adf91809d04d div.sk-estimator input.sk-toggleable__control:checked~label.sk-toggleable__label {background-color: #d4ebff;}#sk-e57c2bda-5ab6-48d2-af46-adf91809d04d div.sk-label input.sk-toggleable__control:checked~label.sk-toggleable__label {background-color: #d4ebff;}#sk-e57c2bda-5ab6-48d2-af46-adf91809d04d input.sk-hidden--visually {border: 0;clip: rect(1px 1px 1px 1px);clip: rect(1px, 1px, 1px, 1px);height: 1px;margin: -1px;overflow: hidden;padding: 0;position: absolute;width: 1px;}#sk-e57c2bda-5ab6-48d2-af46-adf91809d04d div.sk-estimator {font-family: monospace;background-color: #f0f8ff;border: 1px dotted black;border-radius: 0.25em;box-sizing: border-box;margin-bottom: 0.5em;}#sk-e57c2bda-5ab6-48d2-af46-adf91809d04d div.sk-estimator:hover {background-color: #d4ebff;}#sk-e57c2bda-5ab6-48d2-af46-adf91809d04d div.sk-parallel-item::after {content: \"\";width: 100%;border-bottom: 1px solid gray;flex-grow: 1;}#sk-e57c2bda-5ab6-48d2-af46-adf91809d04d div.sk-label:hover label.sk-toggleable__label {background-color: #d4ebff;}#sk-e57c2bda-5ab6-48d2-af46-adf91809d04d div.sk-serial::before {content: \"\";position: absolute;border-left: 1px solid gray;box-sizing: border-box;top: 2em;bottom: 0;left: 50%;}#sk-e57c2bda-5ab6-48d2-af46-adf91809d04d div.sk-serial {display: flex;flex-direction: column;align-items: center;background-color: white;padding-right: 0.2em;padding-left: 0.2em;}#sk-e57c2bda-5ab6-48d2-af46-adf91809d04d div.sk-item {z-index: 1;}#sk-e57c2bda-5ab6-48d2-af46-adf91809d04d div.sk-parallel {display: flex;align-items: stretch;justify-content: center;background-color: white;}#sk-e57c2bda-5ab6-48d2-af46-adf91809d04d div.sk-parallel::before {content: \"\";position: absolute;border-left: 1px solid gray;box-sizing: border-box;top: 2em;bottom: 0;left: 50%;}#sk-e57c2bda-5ab6-48d2-af46-adf91809d04d div.sk-parallel-item {display: flex;flex-direction: column;position: relative;background-color: white;}#sk-e57c2bda-5ab6-48d2-af46-adf91809d04d div.sk-parallel-item:first-child::after {align-self: flex-end;width: 50%;}#sk-e57c2bda-5ab6-48d2-af46-adf91809d04d div.sk-parallel-item:last-child::after {align-self: flex-start;width: 50%;}#sk-e57c2bda-5ab6-48d2-af46-adf91809d04d div.sk-parallel-item:only-child::after {width: 0;}#sk-e57c2bda-5ab6-48d2-af46-adf91809d04d div.sk-dashed-wrapped {border: 1px dashed gray;margin: 0 0.4em 0.5em 0.4em;box-sizing: border-box;padding-bottom: 0.4em;background-color: white;position: relative;}#sk-e57c2bda-5ab6-48d2-af46-adf91809d04d div.sk-label label {font-family: monospace;font-weight: bold;background-color: white;display: inline-block;line-height: 1.2em;}#sk-e57c2bda-5ab6-48d2-af46-adf91809d04d div.sk-label-container {position: relative;z-index: 2;text-align: center;}#sk-e57c2bda-5ab6-48d2-af46-adf91809d04d div.sk-container {/* jupyter's `normalize.less` sets `[hidden] { display: none; }` but bootstrap.min.css set `[hidden] { display: none !important; }` so we also need the `!important` here to be able to override the default hidden behavior on the sphinx rendered scikit-learn.org. See: https://github.com/scikit-learn/scikit-learn/issues/21755 */display: inline-block !important;position: relative;}#sk-e57c2bda-5ab6-48d2-af46-adf91809d04d div.sk-text-repr-fallback {display: none;}</style><div id='sk-e57c2bda-5ab6-48d2-af46-adf91809d04d' class=\"sk-top-container\"><div class=\"sk-text-repr-fallback\"><pre>RecursiveTabularRegressionForecaster(estimator=RandomForestRegressor(),\n",
       "                                     window_length=12)</pre><b>Please rerun this cell to show the HTML repr or trust the notebook.</b></div><div class=\"sk-container\" hidden><div class=\"sk-item sk-dashed-wrapped\"><div class='sk-label-container'><div class=\"sk-label sk-toggleable\"><input class=\"sk-toggleable__control sk-hidden--visually\" id=UUID('69917370-8515-42b7-88c0-890e80d73796') type=\"checkbox\" ><label for=UUID('69917370-8515-42b7-88c0-890e80d73796') class='sk-toggleable__label sk-toggleable__label-arrow'>RecursiveTabularRegressionForecaster</label><div class=\"sk-toggleable__content\"><pre>RecursiveTabularRegressionForecaster(estimator=RandomForestRegressor(),\n",
       "                                     window_length=12)</pre></div></div></div><div class=\"sk-parallel\"><div class=\"sk-parallel-item\"><div class=\"sk-item\"><div class=\"sk-serial\"><div class='sk-item'><div class=\"sk-estimator sk-toggleable\"><input class=\"sk-toggleable__control sk-hidden--visually\" id=UUID('23d7bf5d-effc-4743-a160-eb4fbbc6d9e6') type=\"checkbox\" ><label for=UUID('23d7bf5d-effc-4743-a160-eb4fbbc6d9e6') class='sk-toggleable__label sk-toggleable__label-arrow'>RandomForestRegressor</label><div class=\"sk-toggleable__content\"><pre>RandomForestRegressor()</pre></div></div></div></div></div></div></div></div></div></div>"
      ],
      "text/plain": [
       "RecursiveTabularRegressionForecaster(estimator=RandomForestRegressor(),\n",
       "                                     window_length=12)"
      ]
     },
     "execution_count": 43,
     "metadata": {},
     "output_type": "execute_result"
    }
   ],
   "source": [
    "from sklearn.ensemble import RandomForestRegressor\n",
    "\n",
    "regressor = RandomForestRegressor()\n",
    "forecaster_rf = make_reduction(\n",
    "    regressor,\n",
    "    strategy=\"recursive\",\n",
    "    window_length=12,\n",
    ")\n",
    "\n",
    "forecaster_rf.fit(y_train)"
   ]
  },
  {
   "cell_type": "code",
   "execution_count": 44,
   "metadata": {
    "lines_to_next_cell": 2
   },
   "outputs": [],
   "source": [
    "y_pred_rf = forecaster_rf.predict(fh=fh)"
   ]
  },
  {
   "cell_type": "code",
   "execution_count": 54,
   "metadata": {
    "lines_to_next_cell": 2
   },
   "outputs": [
    {
     "data": {
      "text/plain": [
       "87.1193593530579"
      ]
     },
     "execution_count": 54,
     "metadata": {},
     "output_type": "execute_result"
    }
   ],
   "source": [
    "capes[\"rf\"] = cape(y_test, y_pred_rf)\n",
    "cape(y_test, y_pred_rf)"
   ]
  },
  {
   "cell_type": "markdown",
   "metadata": {},
   "source": [
    "## Use the exogenous variables"
   ]
  },
  {
   "cell_type": "code",
   "execution_count": 46,
   "metadata": {},
   "outputs": [
    {
     "data": {
      "text/html": [
       "<style>#sk-741e7c74-9598-44f0-983e-5e23321d0ca2 {color: black;background-color: white;}#sk-741e7c74-9598-44f0-983e-5e23321d0ca2 pre{padding: 0;}#sk-741e7c74-9598-44f0-983e-5e23321d0ca2 div.sk-toggleable {background-color: white;}#sk-741e7c74-9598-44f0-983e-5e23321d0ca2 label.sk-toggleable__label {cursor: pointer;display: block;width: 100%;margin-bottom: 0;padding: 0.3em;box-sizing: border-box;text-align: center;}#sk-741e7c74-9598-44f0-983e-5e23321d0ca2 label.sk-toggleable__label-arrow:before {content: \"▸\";float: left;margin-right: 0.25em;color: #696969;}#sk-741e7c74-9598-44f0-983e-5e23321d0ca2 label.sk-toggleable__label-arrow:hover:before {color: black;}#sk-741e7c74-9598-44f0-983e-5e23321d0ca2 div.sk-estimator:hover label.sk-toggleable__label-arrow:before {color: black;}#sk-741e7c74-9598-44f0-983e-5e23321d0ca2 div.sk-toggleable__content {max-height: 0;max-width: 0;overflow: hidden;text-align: left;background-color: #f0f8ff;}#sk-741e7c74-9598-44f0-983e-5e23321d0ca2 div.sk-toggleable__content pre {margin: 0.2em;color: black;border-radius: 0.25em;background-color: #f0f8ff;}#sk-741e7c74-9598-44f0-983e-5e23321d0ca2 input.sk-toggleable__control:checked~div.sk-toggleable__content {max-height: 200px;max-width: 100%;overflow: auto;}#sk-741e7c74-9598-44f0-983e-5e23321d0ca2 input.sk-toggleable__control:checked~label.sk-toggleable__label-arrow:before {content: \"▾\";}#sk-741e7c74-9598-44f0-983e-5e23321d0ca2 div.sk-estimator input.sk-toggleable__control:checked~label.sk-toggleable__label {background-color: #d4ebff;}#sk-741e7c74-9598-44f0-983e-5e23321d0ca2 div.sk-label input.sk-toggleable__control:checked~label.sk-toggleable__label {background-color: #d4ebff;}#sk-741e7c74-9598-44f0-983e-5e23321d0ca2 input.sk-hidden--visually {border: 0;clip: rect(1px 1px 1px 1px);clip: rect(1px, 1px, 1px, 1px);height: 1px;margin: -1px;overflow: hidden;padding: 0;position: absolute;width: 1px;}#sk-741e7c74-9598-44f0-983e-5e23321d0ca2 div.sk-estimator {font-family: monospace;background-color: #f0f8ff;border: 1px dotted black;border-radius: 0.25em;box-sizing: border-box;margin-bottom: 0.5em;}#sk-741e7c74-9598-44f0-983e-5e23321d0ca2 div.sk-estimator:hover {background-color: #d4ebff;}#sk-741e7c74-9598-44f0-983e-5e23321d0ca2 div.sk-parallel-item::after {content: \"\";width: 100%;border-bottom: 1px solid gray;flex-grow: 1;}#sk-741e7c74-9598-44f0-983e-5e23321d0ca2 div.sk-label:hover label.sk-toggleable__label {background-color: #d4ebff;}#sk-741e7c74-9598-44f0-983e-5e23321d0ca2 div.sk-serial::before {content: \"\";position: absolute;border-left: 1px solid gray;box-sizing: border-box;top: 2em;bottom: 0;left: 50%;}#sk-741e7c74-9598-44f0-983e-5e23321d0ca2 div.sk-serial {display: flex;flex-direction: column;align-items: center;background-color: white;padding-right: 0.2em;padding-left: 0.2em;}#sk-741e7c74-9598-44f0-983e-5e23321d0ca2 div.sk-item {z-index: 1;}#sk-741e7c74-9598-44f0-983e-5e23321d0ca2 div.sk-parallel {display: flex;align-items: stretch;justify-content: center;background-color: white;}#sk-741e7c74-9598-44f0-983e-5e23321d0ca2 div.sk-parallel::before {content: \"\";position: absolute;border-left: 1px solid gray;box-sizing: border-box;top: 2em;bottom: 0;left: 50%;}#sk-741e7c74-9598-44f0-983e-5e23321d0ca2 div.sk-parallel-item {display: flex;flex-direction: column;position: relative;background-color: white;}#sk-741e7c74-9598-44f0-983e-5e23321d0ca2 div.sk-parallel-item:first-child::after {align-self: flex-end;width: 50%;}#sk-741e7c74-9598-44f0-983e-5e23321d0ca2 div.sk-parallel-item:last-child::after {align-self: flex-start;width: 50%;}#sk-741e7c74-9598-44f0-983e-5e23321d0ca2 div.sk-parallel-item:only-child::after {width: 0;}#sk-741e7c74-9598-44f0-983e-5e23321d0ca2 div.sk-dashed-wrapped {border: 1px dashed gray;margin: 0 0.4em 0.5em 0.4em;box-sizing: border-box;padding-bottom: 0.4em;background-color: white;position: relative;}#sk-741e7c74-9598-44f0-983e-5e23321d0ca2 div.sk-label label {font-family: monospace;font-weight: bold;background-color: white;display: inline-block;line-height: 1.2em;}#sk-741e7c74-9598-44f0-983e-5e23321d0ca2 div.sk-label-container {position: relative;z-index: 2;text-align: center;}#sk-741e7c74-9598-44f0-983e-5e23321d0ca2 div.sk-container {/* jupyter's `normalize.less` sets `[hidden] { display: none; }` but bootstrap.min.css set `[hidden] { display: none !important; }` so we also need the `!important` here to be able to override the default hidden behavior on the sphinx rendered scikit-learn.org. See: https://github.com/scikit-learn/scikit-learn/issues/21755 */display: inline-block !important;position: relative;}#sk-741e7c74-9598-44f0-983e-5e23321d0ca2 div.sk-text-repr-fallback {display: none;}</style><div id='sk-741e7c74-9598-44f0-983e-5e23321d0ca2' class=\"sk-top-container\"><div class=\"sk-text-repr-fallback\"><pre>RecursiveTabularRegressionForecaster(estimator=RandomForestRegressor(),\n",
       "                                     window_length=12)</pre><b>Please rerun this cell to show the HTML repr or trust the notebook.</b></div><div class=\"sk-container\" hidden><div class=\"sk-item sk-dashed-wrapped\"><div class='sk-label-container'><div class=\"sk-label sk-toggleable\"><input class=\"sk-toggleable__control sk-hidden--visually\" id=UUID('77835e2b-09f4-42fb-83a2-be908afab079') type=\"checkbox\" ><label for=UUID('77835e2b-09f4-42fb-83a2-be908afab079') class='sk-toggleable__label sk-toggleable__label-arrow'>RecursiveTabularRegressionForecaster</label><div class=\"sk-toggleable__content\"><pre>RecursiveTabularRegressionForecaster(estimator=RandomForestRegressor(),\n",
       "                                     window_length=12)</pre></div></div></div><div class=\"sk-parallel\"><div class=\"sk-parallel-item\"><div class=\"sk-item\"><div class=\"sk-serial\"><div class='sk-item'><div class=\"sk-estimator sk-toggleable\"><input class=\"sk-toggleable__control sk-hidden--visually\" id=UUID('2d373e99-30ed-4520-9858-f716e0f5cab7') type=\"checkbox\" ><label for=UUID('2d373e99-30ed-4520-9858-f716e0f5cab7') class='sk-toggleable__label sk-toggleable__label-arrow'>RandomForestRegressor</label><div class=\"sk-toggleable__content\"><pre>RandomForestRegressor()</pre></div></div></div></div></div></div></div></div></div></div>"
      ],
      "text/plain": [
       "RecursiveTabularRegressionForecaster(estimator=RandomForestRegressor(),\n",
       "                                     window_length=12)"
      ]
     },
     "execution_count": 46,
     "metadata": {},
     "output_type": "execute_result"
    }
   ],
   "source": [
    "regressor = RandomForestRegressor()\n",
    "forecaster_exo = make_reduction(\n",
    "    regressor,\n",
    "    strategy=\"recursive\",\n",
    "    window_length=12,\n",
    ")\n",
    "\n",
    "forecaster_exo.fit(y_train)"
   ]
  },
  {
   "cell_type": "code",
   "execution_count": 47,
   "metadata": {},
   "outputs": [
    {
     "data": {
      "text/html": [
       "<style>#sk-da91ad1c-6655-4f39-8aaf-e855c5610752 {color: black;background-color: white;}#sk-da91ad1c-6655-4f39-8aaf-e855c5610752 pre{padding: 0;}#sk-da91ad1c-6655-4f39-8aaf-e855c5610752 div.sk-toggleable {background-color: white;}#sk-da91ad1c-6655-4f39-8aaf-e855c5610752 label.sk-toggleable__label {cursor: pointer;display: block;width: 100%;margin-bottom: 0;padding: 0.3em;box-sizing: border-box;text-align: center;}#sk-da91ad1c-6655-4f39-8aaf-e855c5610752 label.sk-toggleable__label-arrow:before {content: \"▸\";float: left;margin-right: 0.25em;color: #696969;}#sk-da91ad1c-6655-4f39-8aaf-e855c5610752 label.sk-toggleable__label-arrow:hover:before {color: black;}#sk-da91ad1c-6655-4f39-8aaf-e855c5610752 div.sk-estimator:hover label.sk-toggleable__label-arrow:before {color: black;}#sk-da91ad1c-6655-4f39-8aaf-e855c5610752 div.sk-toggleable__content {max-height: 0;max-width: 0;overflow: hidden;text-align: left;background-color: #f0f8ff;}#sk-da91ad1c-6655-4f39-8aaf-e855c5610752 div.sk-toggleable__content pre {margin: 0.2em;color: black;border-radius: 0.25em;background-color: #f0f8ff;}#sk-da91ad1c-6655-4f39-8aaf-e855c5610752 input.sk-toggleable__control:checked~div.sk-toggleable__content {max-height: 200px;max-width: 100%;overflow: auto;}#sk-da91ad1c-6655-4f39-8aaf-e855c5610752 input.sk-toggleable__control:checked~label.sk-toggleable__label-arrow:before {content: \"▾\";}#sk-da91ad1c-6655-4f39-8aaf-e855c5610752 div.sk-estimator input.sk-toggleable__control:checked~label.sk-toggleable__label {background-color: #d4ebff;}#sk-da91ad1c-6655-4f39-8aaf-e855c5610752 div.sk-label input.sk-toggleable__control:checked~label.sk-toggleable__label {background-color: #d4ebff;}#sk-da91ad1c-6655-4f39-8aaf-e855c5610752 input.sk-hidden--visually {border: 0;clip: rect(1px 1px 1px 1px);clip: rect(1px, 1px, 1px, 1px);height: 1px;margin: -1px;overflow: hidden;padding: 0;position: absolute;width: 1px;}#sk-da91ad1c-6655-4f39-8aaf-e855c5610752 div.sk-estimator {font-family: monospace;background-color: #f0f8ff;border: 1px dotted black;border-radius: 0.25em;box-sizing: border-box;margin-bottom: 0.5em;}#sk-da91ad1c-6655-4f39-8aaf-e855c5610752 div.sk-estimator:hover {background-color: #d4ebff;}#sk-da91ad1c-6655-4f39-8aaf-e855c5610752 div.sk-parallel-item::after {content: \"\";width: 100%;border-bottom: 1px solid gray;flex-grow: 1;}#sk-da91ad1c-6655-4f39-8aaf-e855c5610752 div.sk-label:hover label.sk-toggleable__label {background-color: #d4ebff;}#sk-da91ad1c-6655-4f39-8aaf-e855c5610752 div.sk-serial::before {content: \"\";position: absolute;border-left: 1px solid gray;box-sizing: border-box;top: 2em;bottom: 0;left: 50%;}#sk-da91ad1c-6655-4f39-8aaf-e855c5610752 div.sk-serial {display: flex;flex-direction: column;align-items: center;background-color: white;padding-right: 0.2em;padding-left: 0.2em;}#sk-da91ad1c-6655-4f39-8aaf-e855c5610752 div.sk-item {z-index: 1;}#sk-da91ad1c-6655-4f39-8aaf-e855c5610752 div.sk-parallel {display: flex;align-items: stretch;justify-content: center;background-color: white;}#sk-da91ad1c-6655-4f39-8aaf-e855c5610752 div.sk-parallel::before {content: \"\";position: absolute;border-left: 1px solid gray;box-sizing: border-box;top: 2em;bottom: 0;left: 50%;}#sk-da91ad1c-6655-4f39-8aaf-e855c5610752 div.sk-parallel-item {display: flex;flex-direction: column;position: relative;background-color: white;}#sk-da91ad1c-6655-4f39-8aaf-e855c5610752 div.sk-parallel-item:first-child::after {align-self: flex-end;width: 50%;}#sk-da91ad1c-6655-4f39-8aaf-e855c5610752 div.sk-parallel-item:last-child::after {align-self: flex-start;width: 50%;}#sk-da91ad1c-6655-4f39-8aaf-e855c5610752 div.sk-parallel-item:only-child::after {width: 0;}#sk-da91ad1c-6655-4f39-8aaf-e855c5610752 div.sk-dashed-wrapped {border: 1px dashed gray;margin: 0 0.4em 0.5em 0.4em;box-sizing: border-box;padding-bottom: 0.4em;background-color: white;position: relative;}#sk-da91ad1c-6655-4f39-8aaf-e855c5610752 div.sk-label label {font-family: monospace;font-weight: bold;background-color: white;display: inline-block;line-height: 1.2em;}#sk-da91ad1c-6655-4f39-8aaf-e855c5610752 div.sk-label-container {position: relative;z-index: 2;text-align: center;}#sk-da91ad1c-6655-4f39-8aaf-e855c5610752 div.sk-container {/* jupyter's `normalize.less` sets `[hidden] { display: none; }` but bootstrap.min.css set `[hidden] { display: none !important; }` so we also need the `!important` here to be able to override the default hidden behavior on the sphinx rendered scikit-learn.org. See: https://github.com/scikit-learn/scikit-learn/issues/21755 */display: inline-block !important;position: relative;}#sk-da91ad1c-6655-4f39-8aaf-e855c5610752 div.sk-text-repr-fallback {display: none;}</style><div id='sk-da91ad1c-6655-4f39-8aaf-e855c5610752' class=\"sk-top-container\"><div class=\"sk-text-repr-fallback\"><pre>RecursiveTabularRegressionForecaster(estimator=RandomForestRegressor(),\n",
       "                                     window_length=12)</pre><b>Please rerun this cell to show the HTML repr or trust the notebook.</b></div><div class=\"sk-container\" hidden><div class=\"sk-item sk-dashed-wrapped\"><div class='sk-label-container'><div class=\"sk-label sk-toggleable\"><input class=\"sk-toggleable__control sk-hidden--visually\" id=UUID('bc55a3ff-c7c2-4ac6-ae77-8cd752d588d7') type=\"checkbox\" ><label for=UUID('bc55a3ff-c7c2-4ac6-ae77-8cd752d588d7') class='sk-toggleable__label sk-toggleable__label-arrow'>RecursiveTabularRegressionForecaster</label><div class=\"sk-toggleable__content\"><pre>RecursiveTabularRegressionForecaster(estimator=RandomForestRegressor(),\n",
       "                                     window_length=12)</pre></div></div></div><div class=\"sk-parallel\"><div class=\"sk-parallel-item\"><div class=\"sk-item\"><div class=\"sk-serial\"><div class='sk-item'><div class=\"sk-estimator sk-toggleable\"><input class=\"sk-toggleable__control sk-hidden--visually\" id=UUID('062dbcd9-cf44-4f91-92b1-a4aea84e4139') type=\"checkbox\" ><label for=UUID('062dbcd9-cf44-4f91-92b1-a4aea84e4139') class='sk-toggleable__label sk-toggleable__label-arrow'>RandomForestRegressor</label><div class=\"sk-toggleable__content\"><pre>RandomForestRegressor()</pre></div></div></div></div></div></div></div></div></div></div>"
      ],
      "text/plain": [
       "RecursiveTabularRegressionForecaster(estimator=RandomForestRegressor(),\n",
       "                                     window_length=12)"
      ]
     },
     "execution_count": 47,
     "metadata": {},
     "output_type": "execute_result"
    }
   ],
   "source": [
    "forecaster_exo.fit(y=y_train, X=X_train, fh=fh)"
   ]
  },
  {
   "cell_type": "code",
   "execution_count": 48,
   "metadata": {
    "lines_to_next_cell": 2
   },
   "outputs": [],
   "source": [
    "y_pred_exo = forecaster_exo.predict(fh=fh, X=X_test)"
   ]
  },
  {
   "cell_type": "code",
   "execution_count": 55,
   "metadata": {
    "lines_to_next_cell": 2
   },
   "outputs": [
    {
     "data": {
      "text/plain": [
       "89.46870175778429"
      ]
     },
     "execution_count": 55,
     "metadata": {},
     "output_type": "execute_result"
    }
   ],
   "source": [
    "capes[\"rf_exo\"] = cape(y_test, y_pred_exo)\n",
    "cape(y_test, y_pred_exo)"
   ]
  },
  {
   "cell_type": "code",
   "execution_count": 69,
   "metadata": {},
   "outputs": [
    {
     "data": {
      "text/html": [
       "\n",
       "<style>\n",
       "  #altair-viz-ce20a8ad44ad4466b214b900b5132aa7.vega-embed {\n",
       "    width: 100%;\n",
       "    display: flex;\n",
       "  }\n",
       "\n",
       "  #altair-viz-ce20a8ad44ad4466b214b900b5132aa7.vega-embed details,\n",
       "  #altair-viz-ce20a8ad44ad4466b214b900b5132aa7.vega-embed details summary {\n",
       "    position: relative;\n",
       "  }\n",
       "</style>\n",
       "<div id=\"altair-viz-ce20a8ad44ad4466b214b900b5132aa7\"></div>\n",
       "<script type=\"text/javascript\">\n",
       "  var VEGA_DEBUG = (typeof VEGA_DEBUG == \"undefined\") ? {} : VEGA_DEBUG;\n",
       "  (function(spec, embedOpt){\n",
       "    let outputDiv = document.currentScript.previousElementSibling;\n",
       "    if (outputDiv.id !== \"altair-viz-ce20a8ad44ad4466b214b900b5132aa7\") {\n",
       "      outputDiv = document.getElementById(\"altair-viz-ce20a8ad44ad4466b214b900b5132aa7\");\n",
       "    }\n",
       "    const paths = {\n",
       "      \"vega\": \"https://cdn.jsdelivr.net/npm/vega@5?noext\",\n",
       "      \"vega-lib\": \"https://cdn.jsdelivr.net/npm/vega-lib?noext\",\n",
       "      \"vega-lite\": \"https://cdn.jsdelivr.net/npm/vega-lite@5.17.0?noext\",\n",
       "      \"vega-embed\": \"https://cdn.jsdelivr.net/npm/vega-embed@6?noext\",\n",
       "    };\n",
       "\n",
       "    function maybeLoadScript(lib, version) {\n",
       "      var key = `${lib.replace(\"-\", \"\")}_version`;\n",
       "      return (VEGA_DEBUG[key] == version) ?\n",
       "        Promise.resolve(paths[lib]) :\n",
       "        new Promise(function(resolve, reject) {\n",
       "          var s = document.createElement('script');\n",
       "          document.getElementsByTagName(\"head\")[0].appendChild(s);\n",
       "          s.async = true;\n",
       "          s.onload = () => {\n",
       "            VEGA_DEBUG[key] = version;\n",
       "            return resolve(paths[lib]);\n",
       "          };\n",
       "          s.onerror = () => reject(`Error loading script: ${paths[lib]}`);\n",
       "          s.src = paths[lib];\n",
       "        });\n",
       "    }\n",
       "\n",
       "    function showError(err) {\n",
       "      outputDiv.innerHTML = `<div class=\"error\" style=\"color:red;\">${err}</div>`;\n",
       "      throw err;\n",
       "    }\n",
       "\n",
       "    function displayChart(vegaEmbed) {\n",
       "      vegaEmbed(outputDiv, spec, embedOpt)\n",
       "        .catch(err => showError(`Javascript Error: ${err.message}<br>This usually means there's a typo in your chart specification. See the javascript console for the full traceback.`));\n",
       "    }\n",
       "\n",
       "    if(typeof define === \"function\" && define.amd) {\n",
       "      requirejs.config({paths});\n",
       "      require([\"vega-embed\"], displayChart, err => showError(`Error loading script: ${err.message}`));\n",
       "    } else {\n",
       "      maybeLoadScript(\"vega\", \"5\")\n",
       "        .then(() => maybeLoadScript(\"vega-lite\", \"5.17.0\"))\n",
       "        .then(() => maybeLoadScript(\"vega-embed\", \"6\"))\n",
       "        .catch(showError)\n",
       "        .then(() => displayChart(vegaEmbed));\n",
       "    }\n",
       "  })({\"config\": {\"view\": {\"continuousWidth\": 300, \"continuousHeight\": 300}}, \"data\": {\"name\": \"data-93f78f63cc8cf7310216971c54c5233b\"}, \"mark\": {\"type\": \"bar\"}, \"encoding\": {\"x\": {\"field\": \"experiment\", \"type\": \"nominal\"}, \"y\": {\"field\": \"cape\", \"title\": \"CAPE (%)\", \"type\": \"quantitative\"}}, \"width\": 500, \"$schema\": \"https://vega.github.io/schema/vega-lite/v5.17.0.json\", \"datasets\": {\"data-93f78f63cc8cf7310216971c54c5233b\": [{\"column\": \"baseline\", \"column_0\": 88.32878349994141, \"experiment\": \"baseline\", \"cape\": 88.32878349994141}, {\"column\": \"hgbr\", \"column_0\": 90.8990943442281, \"experiment\": \"hgbr\", \"cape\": 90.8990943442281}, {\"column\": \"rf\", \"column_0\": 87.1193593530579, \"experiment\": \"rf\", \"cape\": 87.1193593530579}, {\"column\": \"rf_exo\", \"column_0\": 89.46870175778429, \"experiment\": \"rf_exo\", \"cape\": 89.46870175778429}]}}, {\"mode\": \"vega-lite\"});\n",
       "</script>"
      ],
      "text/plain": [
       "alt.Chart(...)"
      ]
     },
     "execution_count": 69,
     "metadata": {},
     "output_type": "execute_result"
    }
   ],
   "source": [
    "alt.Chart(\n",
    "    pl.DataFrame(capes)\n",
    "    .transpose(include_header=True)\n",
    "    .with_columns(\n",
    "        pl.col(\"column\").alias(\"experiment\"), pl.col(\"column_0\").alias(\"cape\")\n",
    "    )\n",
    ").mark_bar().encode(x=\"experiment\", y=alt.Y(\"cape\").title(\"CAPE (%)\")).properties(\n",
    "    width=500\n",
    ")"
   ]
  }
 ],
 "metadata": {
  "jupytext": {
   "formats": "ipynb,py"
  },
  "kernelspec": {
   "display_name": ".venv",
   "language": "python",
   "name": "python3"
  },
  "language_info": {
   "codemirror_mode": {
    "name": "ipython",
    "version": 3
   },
   "file_extension": ".py",
   "mimetype": "text/x-python",
   "name": "python",
   "nbconvert_exporter": "python",
   "pygments_lexer": "ipython3",
   "version": "3.11.9"
  }
 },
 "nbformat": 4,
 "nbformat_minor": 2
}
