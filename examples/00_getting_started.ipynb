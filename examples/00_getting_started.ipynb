{
 "cells": [
  {
   "cell_type": "markdown",
   "id": "0",
   "metadata": {},
   "source": [
    "# Getting started with `skore`\n",
    "\n",
    "This guide showcases the features of `skrub`, an open-source package that aims at enable data scientist to:\n",
    "1. Store objects of different types from their Python code: from python lists to scikit-learn fitted pipelines and plotly figures.\n",
    "2. They can track and visualize these stored objects on a dashboard.\n",
    "3. This dashboard can be exported into a HTML file."
   ]
  },
  {
   "cell_type": "markdown",
   "id": "1",
   "metadata": {},
   "source": [
    "## Imports"
   ]
  },
  {
   "cell_type": "code",
   "execution_count": null,
   "id": "2",
   "metadata": {},
   "outputs": [],
   "source": [
    "import matplotlib.pyplot as plt\n",
    "import numpy as np\n",
    "import pandas as pd\n",
    "\n",
    "from sklearn.datasets import load_diabetes\n",
    "from sklearn.linear_model import Lasso\n",
    "from sklearn.pipeline import Pipeline\n",
    "from sklearn.preprocessing import StandardScaler\n",
    "\n",
    "from skore import load"
   ]
  },
  {
   "cell_type": "markdown",
   "id": "3",
   "metadata": {},
   "source": [
    "## Initialize a Project and launch the UI\n",
    "\n",
    "Initialize a `skore` Project from your shell:\n",
    "```bash\n",
    "$ python -m skore create 'project.skore'\n",
    "```\n",
    "This will create a Skore project directory named `project.skore` in the current directory.\n",
    "\n",
    "Then, you can run the UI (in your project root i.e. where `project.skore` is) from your shell:\n",
    "```bash\n",
    "$ python -m skore launch project.skore\n",
    "```\n",
    "\n",
    "Now that the project file exists, we can load it in our notebook so that we can read from and write to it:"
   ]
  },
  {
   "cell_type": "code",
   "execution_count": null,
   "id": "4",
   "metadata": {},
   "outputs": [],
   "source": [
    "project = load(\"project.skore\")"
   ]
  },
  {
   "cell_type": "markdown",
   "id": "5",
   "metadata": {},
   "source": [
    "## Storing an integer"
   ]
  },
  {
   "cell_type": "markdown",
   "id": "6",
   "metadata": {},
   "source": [
    "Storing an integer:"
   ]
  },
  {
   "cell_type": "code",
   "execution_count": null,
   "id": "7",
   "metadata": {},
   "outputs": [],
   "source": [
    "project.put(\"my_int\", 3)"
   ]
  },
  {
   "cell_type": "markdown",
   "id": "8",
   "metadata": {},
   "source": [
    "Here, the name of my stored item is `my_int` and the integer value is 3."
   ]
  },
  {
   "cell_type": "markdown",
   "id": "9",
   "metadata": {},
   "source": [
    "For a `pandas` data frame:"
   ]
  },
  {
   "cell_type": "code",
   "execution_count": null,
   "id": "10",
   "metadata": {},
   "outputs": [],
   "source": [
    "my_df = pd.DataFrame(np.random.randn(3, 3))\n",
    "\n",
    "project.put(\"my_df\", my_df)"
   ]
  },
  {
   "cell_type": "markdown",
   "id": "11",
   "metadata": {},
   "source": [
    "for a `matplotlib` figure:"
   ]
  },
  {
   "cell_type": "code",
   "execution_count": null,
   "id": "12",
   "metadata": {},
   "outputs": [],
   "source": [
    "x = np.linspace(0, 2, 100)\n",
    "\n",
    "fig, ax = plt.subplots(figsize=(5, 2.7), layout=\"constrained\")\n",
    "ax.plot(x, x, label=\"linear\")\n",
    "ax.plot(x, x**2, label=\"quadratic\")\n",
    "ax.plot(x, x**3, label=\"cubic\")\n",
    "ax.set_xlabel(\"x label\")\n",
    "ax.set_ylabel(\"y label\")\n",
    "ax.set_title(\"Simple Plot\")\n",
    "ax.legend()\n",
    "plt.show()\n",
    "\n",
    "project.put(\"my_figure\", fig)"
   ]
  },
  {
   "cell_type": "markdown",
   "id": "13",
   "metadata": {},
   "source": [
    "For a `scikit-learn` fitted pipeline:"
   ]
  },
  {
   "cell_type": "code",
   "execution_count": null,
   "id": "14",
   "metadata": {},
   "outputs": [],
   "source": [
    "diabetes = load_diabetes()\n",
    "X = diabetes.data[:150]\n",
    "y = diabetes.target[:150]\n",
    "\n",
    "my_pipeline = Pipeline(\n",
    "    [(\"standard_scaler\", StandardScaler()), (\"lasso\", Lasso(alpha=2))]\n",
    ")\n",
    "my_pipeline.fit(X, y)\n",
    "\n",
    "project.put(\"my_fitted_pipeline\", my_pipeline)"
   ]
  }
 ],
 "metadata": {
  "jupytext": {
   "formats": "ipynb,py:percent"
  },
  "kernelspec": {
   "display_name": ".venv",
   "language": "python",
   "name": "python3"
  },
  "language_info": {
   "codemirror_mode": {
    "name": "ipython",
    "version": 3
   },
   "file_extension": ".py",
   "mimetype": "text/x-python",
   "name": "python",
   "nbconvert_exporter": "python",
   "pygments_lexer": "ipython3",
   "version": "3.12.7"
  }
 },
 "nbformat": 4,
 "nbformat_minor": 5
}
