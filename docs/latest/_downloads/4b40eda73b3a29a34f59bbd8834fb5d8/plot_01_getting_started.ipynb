{
  "cells": [
    {
      "cell_type": "markdown",
      "metadata": {},
      "source": [
        "\n\n# Getting started with skore\n"
      ]
    },
    {
      "cell_type": "markdown",
      "metadata": {},
      "source": [
        "This getting started guide illustrates how to use skore and why:\n\n#. Track and visualize your ML/DS results using skore's :class:`~skore.Project` and UI.\n\n#. Machine learning diagnostics: get assistance when developing your ML/DS projects.\n\n   * Scikit-learn compatible :func:`skore.cross_validate` and\n     :func:`skore.train_test_split` provide insights and checks on cross-validation\n     and train-test-split.\n\n"
      ]
    },
    {
      "cell_type": "markdown",
      "metadata": {},
      "source": [
        "## Track and visualize: skore project and UI\n\nA key feature of skore is its :class:`~skore.Project` that allows to store\nitems of many types then visualize them in a dashboard called the skore UI.\n\n"
      ]
    },
    {
      "cell_type": "markdown",
      "metadata": {},
      "source": [
        "### Creating and loading a skore project, and launching the skore UI\n\n"
      ]
    },
    {
      "cell_type": "markdown",
      "metadata": {},
      "source": [
        "We start by creating a temporary directory to store our project so that we can\neasily clean it after executing this example:\n\n"
      ]
    },
    {
      "cell_type": "code",
      "execution_count": null,
      "metadata": {
        "collapsed": false
      },
      "outputs": [],
      "source": [
        "import tempfile\nfrom pathlib import Path\n\ntemp_dir = tempfile.TemporaryDirectory(prefix=\"skore_example_\")\ntemp_dir_path = Path(temp_dir.name)"
      ]
    },
    {
      "cell_type": "markdown",
      "metadata": {},
      "source": [
        "We create and load the skore project from this temporary directory:\n\n"
      ]
    },
    {
      "cell_type": "code",
      "execution_count": null,
      "metadata": {
        "collapsed": false
      },
      "outputs": [],
      "source": [
        "import skore\n\nmy_project = skore.create(\"my_project\", working_dir=temp_dir_path)"
      ]
    },
    {
      "cell_type": "markdown",
      "metadata": {},
      "source": [
        "This will create a skore project directory named ``my_project.skore`` in our\ncurrent directory.\n\n<div class=\"alert alert-info\"><h4>Note</h4><p>If we did not wish for our skore project to be stored in a *temporary* folder, we\n  could simply create the project in the current directory with:\n\n```python\nimport skore\n\nmy_project = skore.create(\"my_project\")</p></div>\n```\nThen, from our shell (in the same directory), we can start the UI locally:\n\n```bash\nskore launch \"my_project\"\n```\nThis will automatically open a browser at the UI's location.\n\nNow that the project exists, we can write some Python code (in the same\ndirectory) to add (:func:`~skore.Project.put`) some useful items in it.\n\n"
      ]
    },
    {
      "cell_type": "code",
      "execution_count": null,
      "metadata": {
        "collapsed": false
      },
      "outputs": [],
      "source": [
        "my_project.put(\"my_int\", 3)"
      ]
    },
    {
      "cell_type": "markdown",
      "metadata": {},
      "source": [
        "### Skore project and storage: example of hyperparameter sweep\n\nAs an illustration of the usage of the skore project and storage with a machine\nlearning motivation, let us perform a hyperparameter sweep and store relevant\ninformation in the skore project.\n\n"
      ]
    },
    {
      "cell_type": "markdown",
      "metadata": {},
      "source": [
        "We search for the ``alpha`` hyperparameter of a Ridge regression on the\nDiabetes dataset:\n\n"
      ]
    },
    {
      "cell_type": "code",
      "execution_count": null,
      "metadata": {
        "collapsed": false
      },
      "outputs": [],
      "source": [
        "import numpy as np\nfrom sklearn.datasets import load_diabetes\nfrom sklearn.linear_model import Ridge\nfrom sklearn.model_selection import GridSearchCV\n\ndiabetes = load_diabetes()\nX = diabetes.data[:150]\ny = diabetes.target[:150]\n\ngs_cv = GridSearchCV(\n    Ridge(),\n    param_grid={\"alpha\": np.logspace(-3, 5, 50)},\n    scoring=\"neg_root_mean_squared_error\",\n)\ngs_cv.fit(X, y)"
      ]
    },
    {
      "cell_type": "markdown",
      "metadata": {},
      "source": [
        "Now, we store the hyperparameter's metrics in a dataframe and make a custom\nplot:\n\n"
      ]
    },
    {
      "cell_type": "code",
      "execution_count": null,
      "metadata": {
        "collapsed": false
      },
      "outputs": [],
      "source": [
        "import pandas as pd\n\ndf = pd.DataFrame(gs_cv.cv_results_)\ndf.insert(len(df.columns), \"rmse\", -df[\"mean_test_score\"].values)\ndf[[\"param_alpha\", \"rmse\"]].head()"
      ]
    },
    {
      "cell_type": "code",
      "execution_count": null,
      "metadata": {
        "collapsed": false
      },
      "outputs": [],
      "source": [
        "import matplotlib.pyplot as plt\n\nfig = plt.figure(layout=\"constrained\", dpi=200)\nplt.plot(df[\"param_alpha\"], df[\"rmse\"])\nplt.xscale(\"log\")\nplt.xlabel(\"Alpha hyperparameter\")\nplt.ylabel(\"RMSE\")\nplt.title(\"Ridge regression\")\nplt.show()"
      ]
    },
    {
      "cell_type": "markdown",
      "metadata": {},
      "source": [
        "|\nFinally, we store some relevant information to our skore project, so that we\ncan visualize them later in the skore UI for example:\n\n"
      ]
    },
    {
      "cell_type": "code",
      "execution_count": null,
      "metadata": {
        "collapsed": false
      },
      "outputs": [],
      "source": [
        "my_project.put(\"my_gs_cv\", gs_cv)\nmy_project.put(\"my_df\", df)\nmy_project.put(\"my_fig\", fig)"
      ]
    },
    {
      "cell_type": "markdown",
      "metadata": {},
      "source": [
        ".. seealso::\n\n  For more information about the functionalities and the different types\n  of items that we can store in a skore :class:`~skore.Project`,\n  see `example_overview_skore_project`.\n\n"
      ]
    },
    {
      "cell_type": "markdown",
      "metadata": {},
      "source": [
        "### Manipulating the skore UI\n\nThe skore UI is a very efficient tool to track and visualize the items in your\nproject, such as grid search or cross-validation results.\n\n#.  On the top left, by default, you can observe that you are in a *View* called\n    ``default``. You can rename this view or create another one.\n\n#.  From the *Items* section on the bottom left, you can add stored items to this\n    view, either by clicking on ``+`` or by dragging an item to the right.\n\n#.  In the skore UI on the right, you can drag-and-drop items to re-order them,\n    remove items, etc.\n\n<img src=\"https://raw.githubusercontent.com/sylvaincom/sylvaincom.github.io/master/files/probabl/skore/2024_10_31_skore_demo_compressed.gif\" alt=\"Getting started with ``skore`` demo\">\n\n"
      ]
    },
    {
      "cell_type": "markdown",
      "metadata": {},
      "source": [
        "### Tracking the history of items\n\nSkore does not overwrite items with the same name, instead it stores their history so\nthat, from the skore UI, we could visualize their different histories:\n\n<img src=\"https://raw.githubusercontent.com/sylvaincom/sylvaincom.github.io/master/files/probabl/skore/2024_11_21_tracking_comp.gif\" alt=\"Tracking the history of an item from the skore UI\">\n\nThis functionality is very useful to never lose some key machine learning metrics,\nfor example.\n\n.. seealso::\n\n  For more information about the tracking of items using their history,\n  see `example_historization_items`.\n\n"
      ]
    },
    {
      "cell_type": "markdown",
      "metadata": {},
      "source": [
        "## Machine learning diagnostics: enhancing scikit-learn functions\n\nSkore wraps some key scikit-learn functions to automatically provide\ndiagnostics and checks when using them, as a way to facilitate good practices.\n\n"
      ]
    },
    {
      "cell_type": "markdown",
      "metadata": {},
      "source": [
        "### Cross-validation with skore\n\nIn order to assist its users when programming, skore has implemented a\n:func:`skore.cross_validate` function that wraps scikit-learn's\n:func:`sklearn.model_selection.cross_validate`.\n\nOn the same previous data and a Ridge regressor (with default ``alpha`` value),\nlet us launch skore's cross-validation, which will automatically add\n(:func:`~skore.Project.put`)\na ``cross_validation`` item with a plotly chart in our project.\n\n"
      ]
    },
    {
      "cell_type": "code",
      "execution_count": null,
      "metadata": {
        "collapsed": false
      },
      "outputs": [],
      "source": [
        "from skore import cross_validate\n\ncv_results = cross_validate(Ridge(), X, y, cv=5, project=my_project)\n\nfig_plotly = my_project.get_item(\"cross_validation\").plot\nfig_plotly"
      ]
    },
    {
      "cell_type": "markdown",
      "metadata": {},
      "source": [
        "Hence, we can observe some key metrics and get insights on our cross-validation.\n\n"
      ]
    },
    {
      "cell_type": "markdown",
      "metadata": {},
      "source": [
        ".. seealso::\n\n  For more information about the motivation and usage of :func:`skore.cross_validate`,\n  see `example_cross_validate`.\n\n"
      ]
    },
    {
      "cell_type": "markdown",
      "metadata": {},
      "source": [
        "### Train-test split with skore\n\nSkore has implemented a :func:`skore.train_test_split` function that wraps\nscikit-learn's :func:`sklearn.model_selection.train_test_split`.\n\nFor example, it can raise warnings when there is class imbalance in the data to\nprovide methodological advice:\n\n"
      ]
    },
    {
      "cell_type": "code",
      "execution_count": null,
      "metadata": {
        "collapsed": false
      },
      "outputs": [],
      "source": [
        "X = np.arange(400).reshape((200, 2))\ny = [0] * 150 + [1] * 50\n\nX_train, X_test, y_train, y_test = skore.train_test_split(\n    X=X, y=y, test_size=0.2, random_state=0\n)"
      ]
    },
    {
      "cell_type": "markdown",
      "metadata": {},
      "source": [
        ".. seealso::\n\n  For more information about the motivation and usage of\n  :func:`skore.train_test_split`, see `example_train_test_split`.\n\n"
      ]
    },
    {
      "cell_type": "markdown",
      "metadata": {},
      "source": [
        ".. admonition:: Stay tuned for some new features!\n\n   Feel free to join our [Discord](https://discord.gg/scBZerAGwW)!\n\n"
      ]
    },
    {
      "cell_type": "markdown",
      "metadata": {},
      "source": [
        "#### Cleanup the project\n\nRemoving the temporary directory:\n\n"
      ]
    },
    {
      "cell_type": "code",
      "execution_count": null,
      "metadata": {
        "collapsed": false
      },
      "outputs": [],
      "source": [
        "temp_dir.cleanup()"
      ]
    }
  ],
  "metadata": {
    "kernelspec": {
      "display_name": "Python 3",
      "language": "python",
      "name": "python3"
    },
    "language_info": {
      "codemirror_mode": {
        "name": "ipython",
        "version": 3
      },
      "file_extension": ".py",
      "mimetype": "text/x-python",
      "name": "python",
      "nbconvert_exporter": "python",
      "pygments_lexer": "ipython3",
      "version": "3.12.7"
    }
  },
  "nbformat": 4,
  "nbformat_minor": 0
}