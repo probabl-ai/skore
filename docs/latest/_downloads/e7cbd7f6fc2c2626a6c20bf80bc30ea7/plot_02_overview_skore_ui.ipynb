{
  "cells": [
    {
      "cell_type": "markdown",
      "metadata": {},
      "source": [
        "\n\n# Overview of the skore UI\n\nThis example provides an overview of the functionalities and the different types\nof items that you can store in a skore :class:`~skore.Project`.\n"
      ]
    },
    {
      "cell_type": "code",
      "execution_count": null,
      "metadata": {
        "collapsed": false
      },
      "outputs": [],
      "source": [
        "import altair as alt\nimport io\nimport matplotlib.pyplot as plt\nimport numpy as np\nimport pandas as pd\nimport plotly.express as px\nimport PIL\n\nfrom sklearn.datasets import load_diabetes\nfrom sklearn.linear_model import Lasso\nfrom sklearn.pipeline import Pipeline\nfrom sklearn.preprocessing import StandardScaler\n\nfrom skore import load\nfrom skore.item import MediaItem"
      ]
    },
    {
      "cell_type": "markdown",
      "metadata": {},
      "source": [
        "## Creating and loading a skore project\n\n"
      ]
    },
    {
      "cell_type": "code",
      "execution_count": null,
      "metadata": {
        "collapsed": false
      },
      "outputs": [],
      "source": [
        "import subprocess\n\n# remove the skore project if it already exists\nsubprocess.run(\"rm -rf my_project_ui.skore\".split())\n\n# create the skore project\nsubprocess.run(\"python3 -m skore create my_project_ui\".split())"
      ]
    },
    {
      "cell_type": "code",
      "execution_count": null,
      "metadata": {
        "collapsed": false
      },
      "outputs": [],
      "source": [
        "from skore import load\n\nmy_project_ui = load(\"my_project_ui.skore\")"
      ]
    },
    {
      "cell_type": "markdown",
      "metadata": {},
      "source": [
        "## Storing integers\n\nNow, let us store our first object using :func:`~skore.Project.put`, for example an integer:\n\n"
      ]
    },
    {
      "cell_type": "code",
      "execution_count": null,
      "metadata": {
        "collapsed": false
      },
      "outputs": [],
      "source": [
        "my_project_ui.put(\"my_int\", 3)"
      ]
    },
    {
      "cell_type": "markdown",
      "metadata": {},
      "source": [
        "Here, the name of the object is ``my_int`` and the integer value is 3.\n\nYou can read it from the project by using :func:`~skore.Project.get`:\n\n"
      ]
    },
    {
      "cell_type": "code",
      "execution_count": null,
      "metadata": {
        "collapsed": false
      },
      "outputs": [],
      "source": [
        "my_project_ui.get(\"my_int\")"
      ]
    },
    {
      "cell_type": "markdown",
      "metadata": {},
      "source": [
        "Careful; like in a traditional Python dictionary, the ``put`` method will *overwrite* past data if you use a key which already exists!\n\n"
      ]
    },
    {
      "cell_type": "code",
      "execution_count": null,
      "metadata": {
        "collapsed": false
      },
      "outputs": [],
      "source": [
        "my_project_ui.put(\"my_int\", 30_000)"
      ]
    },
    {
      "cell_type": "markdown",
      "metadata": {},
      "source": [
        "Let us check the updated value:\n\n"
      ]
    },
    {
      "cell_type": "code",
      "execution_count": null,
      "metadata": {
        "collapsed": false
      },
      "outputs": [],
      "source": [
        "my_project_ui.get(\"my_int\")"
      ]
    },
    {
      "cell_type": "markdown",
      "metadata": {},
      "source": [
        "By using the :func:`~skore.Project.delete_item` method, you can also delete an object so that your skore UI does not become cluttered:\n\n"
      ]
    },
    {
      "cell_type": "code",
      "execution_count": null,
      "metadata": {
        "collapsed": false
      },
      "outputs": [],
      "source": [
        "my_project_ui.put(\"my_int_2\", 10)"
      ]
    },
    {
      "cell_type": "code",
      "execution_count": null,
      "metadata": {
        "collapsed": false
      },
      "outputs": [],
      "source": [
        "my_project_ui.delete_item(\"my_int_2\")"
      ]
    },
    {
      "cell_type": "markdown",
      "metadata": {},
      "source": [
        "You can display all the keys in your project:\n\n"
      ]
    },
    {
      "cell_type": "code",
      "execution_count": null,
      "metadata": {
        "collapsed": false
      },
      "outputs": [],
      "source": [
        "my_project_ui.list_item_keys()"
      ]
    },
    {
      "cell_type": "markdown",
      "metadata": {},
      "source": [
        "## Storing strings and texts\n\n"
      ]
    },
    {
      "cell_type": "markdown",
      "metadata": {},
      "source": [
        "We just stored a integer, now let us store some text using strings!\n\n"
      ]
    },
    {
      "cell_type": "code",
      "execution_count": null,
      "metadata": {
        "collapsed": false
      },
      "outputs": [],
      "source": [
        "my_project_ui.put(\"my_string\", \"Hello world!\")"
      ]
    },
    {
      "cell_type": "code",
      "execution_count": null,
      "metadata": {
        "collapsed": false
      },
      "outputs": [],
      "source": [
        "my_project_ui.get(\"my_string\")"
      ]
    },
    {
      "cell_type": "markdown",
      "metadata": {},
      "source": [
        ":func:`~skore.Project.get` infers the type of the inserted object by default. For example, strings are assumed to be in Markdown format. Hence, you can customize the display of your text:\n\n"
      ]
    },
    {
      "cell_type": "code",
      "execution_count": null,
      "metadata": {
        "collapsed": false
      },
      "outputs": [],
      "source": [
        "my_project_ui.put(\n    \"my_string_2\",\n    (\n        \"\"\"Hello world!, **bold**, *italic*, `code`\n\n```python\ndef my_func(x):\n    return x+2\n```\n\"\"\"\n    ),\n)"
      ]
    },
    {
      "cell_type": "markdown",
      "metadata": {},
      "source": [
        "Moreover, you can also explicitly tell skore the media type of an object, for example in HTML:\n\n"
      ]
    },
    {
      "cell_type": "code",
      "execution_count": null,
      "metadata": {
        "collapsed": false
      },
      "outputs": [],
      "source": [
        "my_project_ui.put_item(\n    \"my_string_3\",\n    MediaItem.factory(\n        \"<p><h1>Title</h1> <b>bold</b>, <i>italic</i>, etc.</p>\",\n        media_type=\"text/html\"\n    ),\n)"
      ]
    },
    {
      "cell_type": "markdown",
      "metadata": {},
      "source": [
        "<div class=\"alert alert-info\"><h4>Note</h4><p>We used :func:`~skore.Project.put_item` instead of :func:`~skore.Project.put`.</p></div>\n\n"
      ]
    },
    {
      "cell_type": "markdown",
      "metadata": {},
      "source": [
        "Note that the media type is only used for the UI, and not in this notebook at hand:\n\n"
      ]
    },
    {
      "cell_type": "code",
      "execution_count": null,
      "metadata": {
        "collapsed": false
      },
      "outputs": [],
      "source": [
        "my_project_ui.get(\"my_string_3\")"
      ]
    },
    {
      "cell_type": "markdown",
      "metadata": {},
      "source": [
        "You can also conveniently use a Python f-string:\n\n"
      ]
    },
    {
      "cell_type": "code",
      "execution_count": null,
      "metadata": {
        "collapsed": false
      },
      "outputs": [],
      "source": [
        "x = 2\ny = [1, 2, 3, 4]\nmy_project_ui.put(\n    \"my_string_4\", f\"The value of `x` is {x} and the value of `y` is {y}.\"\n)"
      ]
    },
    {
      "cell_type": "markdown",
      "metadata": {},
      "source": [
        "## Storing many kinds of data\n\n"
      ]
    },
    {
      "cell_type": "markdown",
      "metadata": {},
      "source": [
        "Python list:\n\n"
      ]
    },
    {
      "cell_type": "code",
      "execution_count": null,
      "metadata": {
        "collapsed": false
      },
      "outputs": [],
      "source": [
        "my_list = [1, 2, 3, 4]\nmy_project_ui.put(\"my_list\", my_list)\nmy_list"
      ]
    },
    {
      "cell_type": "markdown",
      "metadata": {},
      "source": [
        "Python dictionary:\n\n"
      ]
    },
    {
      "cell_type": "code",
      "execution_count": null,
      "metadata": {
        "collapsed": false
      },
      "outputs": [],
      "source": [
        "my_dict = {\n    \"company\": \"probabl\",\n    \"year\": 2023,\n}\nmy_project_ui.put(\"my_dict\", my_dict)\nmy_dict"
      ]
    },
    {
      "cell_type": "markdown",
      "metadata": {},
      "source": [
        "Numpy array:\n\n"
      ]
    },
    {
      "cell_type": "code",
      "execution_count": null,
      "metadata": {
        "collapsed": false
      },
      "outputs": [],
      "source": [
        "my_arr = np.random.randn(3, 3)\nmy_project_ui.put(\"my_arr\", my_arr)\nmy_arr"
      ]
    },
    {
      "cell_type": "markdown",
      "metadata": {},
      "source": [
        "Pandas data frame:\n\n"
      ]
    },
    {
      "cell_type": "code",
      "execution_count": null,
      "metadata": {
        "collapsed": false
      },
      "outputs": [],
      "source": [
        "my_df = pd.DataFrame(np.random.randn(10, 5))\nmy_project_ui.put(\"my_df\", my_df)\nmy_df.head()"
      ]
    },
    {
      "cell_type": "markdown",
      "metadata": {},
      "source": [
        "## Storing data visualizations\n\nNote that, in the dashboard, the interactivity of plots is supported, for example for Altair and Plotly.\n\n"
      ]
    },
    {
      "cell_type": "markdown",
      "metadata": {},
      "source": [
        "Matplotlib figure:\n\n"
      ]
    },
    {
      "cell_type": "code",
      "execution_count": null,
      "metadata": {
        "collapsed": false
      },
      "outputs": [],
      "source": [
        "x = np.linspace(0, 2, 100)\n\nfig, ax = plt.subplots(layout=\"constrained\", dpi=200)\nax.plot(x, x, label=\"linear\")\nax.plot(x, x**2, label=\"quadratic\")\nax.plot(x, x**3, label=\"cubic\")\nax.set_xlabel(\"x label\")\nax.set_ylabel(\"y label\")\nax.set_title(\"Simple Plot\")\nax.legend()\nplt.show()\n\nmy_project_ui.put(\"my_figure\", fig)"
      ]
    },
    {
      "cell_type": "markdown",
      "metadata": {},
      "source": [
        "|\nAltair chart:\n\n"
      ]
    },
    {
      "cell_type": "code",
      "execution_count": null,
      "metadata": {
        "collapsed": false
      },
      "outputs": [],
      "source": [
        "num_points = 100\ndf_plot = pd.DataFrame(\n    {\"x\": np.random.randn(num_points), \"y\": np.random.randn(num_points)}\n)\n\nmy_altair_chart = (\n    alt.Chart(df_plot)\n    .mark_circle()\n    .encode(x=\"x\", y=\"y\", tooltip=[\"x\", \"y\"])\n    .interactive()\n    .properties(title=\"My title\")\n)\n\nmy_project_ui.put(\"my_altair_chart\", my_altair_chart)"
      ]
    },
    {
      "cell_type": "markdown",
      "metadata": {},
      "source": [
        "<div class=\"alert alert-info\"><h4>Note</h4><p>For Plotly figures, some users reported the following error when running Plotly cells:\n    ``ValueError: Mime type rendering requires nbformat>=4.2.0 but it is not installed``.\n    This is a Plotly issue which is documented [here](https://github.com/plotly/plotly.py/issues/3285);\n    to solve it, we recommend installing nbformat in your environment, e.g. with:\n\n```console\npip install --upgrade nbformat</p></div>\n```\n"
      ]
    },
    {
      "cell_type": "markdown",
      "metadata": {},
      "source": [
        "Plotly figure:\n\n"
      ]
    },
    {
      "cell_type": "code",
      "execution_count": null,
      "metadata": {
        "collapsed": false
      },
      "outputs": [],
      "source": [
        "df = px.data.iris()\nfig = px.scatter(\n    df,\n    x=df.sepal_length,\n    y=df.sepal_width,\n    color=df.species,\n    size=df.petal_length\n)\n\nmy_project_ui.put(\"my_plotly_fig\", fig)"
      ]
    },
    {
      "cell_type": "markdown",
      "metadata": {},
      "source": [
        "Animated Plotly figure:\n\n"
      ]
    },
    {
      "cell_type": "code",
      "execution_count": null,
      "metadata": {
        "collapsed": false
      },
      "outputs": [],
      "source": [
        "df = px.data.gapminder()\nmy_anim_plotly_fig = px.scatter(\n    df,\n    x=\"gdpPercap\",\n    y=\"lifeExp\",\n    animation_frame=\"year\",\n    animation_group=\"country\",\n    size=\"pop\",\n    color=\"continent\",\n    hover_name=\"country\",\n    log_x=True,\n    size_max=55,\n    range_x=[100, 100_000],\n    range_y=[25, 90],\n)\n\nmy_project_ui.put(\"my_anim_plotly_fig\", my_anim_plotly_fig)"
      ]
    },
    {
      "cell_type": "markdown",
      "metadata": {},
      "source": [
        "PIL image:\n\n"
      ]
    },
    {
      "cell_type": "code",
      "execution_count": null,
      "metadata": {
        "collapsed": false
      },
      "outputs": [],
      "source": [
        "my_pil_image = PIL.Image.new(\"RGB\", (100, 100), color=\"red\")\nwith io.BytesIO() as output:\n    my_pil_image.save(output, format=\"png\")\n\nmy_project_ui.put(\"my_pil_image\", my_pil_image)"
      ]
    },
    {
      "cell_type": "markdown",
      "metadata": {},
      "source": [
        "## Storing scikit-learn models and pipelines\n\nAs skore is developed by [Probabl](https://probabl.ai), the spin-off of scikit-learn, skore treats scikit-learn models and pipelines as first-class citizens.\n\nFirst of all, you can store a scikit-learn model:\n\n"
      ]
    },
    {
      "cell_type": "code",
      "execution_count": null,
      "metadata": {
        "collapsed": false
      },
      "outputs": [],
      "source": [
        "my_model = Lasso(alpha=2)\nmy_project_ui.put(\"my_model\", my_model)\nmy_model"
      ]
    },
    {
      "cell_type": "markdown",
      "metadata": {},
      "source": [
        "You can also store scikit-learn pipelines:\n\n"
      ]
    },
    {
      "cell_type": "code",
      "execution_count": null,
      "metadata": {
        "collapsed": false
      },
      "outputs": [],
      "source": [
        "my_pipeline = Pipeline(\n    [(\"standard_scaler\", StandardScaler()), (\"lasso\", Lasso(alpha=2))]\n)\nmy_project_ui.put(\"my_pipeline\", my_pipeline)\nmy_pipeline"
      ]
    },
    {
      "cell_type": "markdown",
      "metadata": {},
      "source": [
        "Moreover, you can store fitted scikit-learn pipelines:\n\n"
      ]
    },
    {
      "cell_type": "code",
      "execution_count": null,
      "metadata": {
        "collapsed": false
      },
      "outputs": [],
      "source": [
        "diabetes = load_diabetes()\nX = diabetes.data[:150]\ny = diabetes.target[:150]\nmy_pipeline.fit(X, y)\n\nmy_project_ui.put(\"my_fitted_pipeline\", my_pipeline)\nmy_pipeline"
      ]
    }
  ],
  "metadata": {
    "kernelspec": {
      "display_name": "Python 3",
      "language": "python",
      "name": "python3"
    },
    "language_info": {
      "codemirror_mode": {
        "name": "ipython",
        "version": 3
      },
      "file_extension": ".py",
      "mimetype": "text/x-python",
      "name": "python",
      "nbconvert_exporter": "python",
      "pygments_lexer": "ipython3",
      "version": "3.12.7"
    }
  },
  "nbformat": 4,
  "nbformat_minor": 0
}