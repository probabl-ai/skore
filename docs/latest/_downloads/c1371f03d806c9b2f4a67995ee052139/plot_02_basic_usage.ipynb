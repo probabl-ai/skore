{
  "cells": [
    {
      "cell_type": "markdown",
      "metadata": {},
      "source": [
        "\n# 2) Basic usage of ``skore``\n\nThis example complements the `Getting started with skore` example.\n"
      ]
    },
    {
      "cell_type": "markdown",
      "metadata": {},
      "source": [
        "## ``skore`` UI\n\n"
      ]
    },
    {
      "cell_type": "code",
      "execution_count": null,
      "metadata": {
        "collapsed": false
      },
      "outputs": [],
      "source": [
        "import altair as alt\nimport io\nimport matplotlib.pyplot as plt\nimport numpy as np\nimport pandas as pd\nimport plotly.express as px\nimport PIL\n\nfrom sklearn.datasets import load_diabetes\nfrom sklearn.linear_model import Lasso\nfrom sklearn.pipeline import Pipeline\nfrom sklearn.preprocessing import StandardScaler\n\nfrom skore import load\nfrom skore.item import MediaItem"
      ]
    },
    {
      "cell_type": "markdown",
      "metadata": {},
      "source": [
        "### Initialize a Project and launch the UI\n\n"
      ]
    },
    {
      "cell_type": "code",
      "execution_count": null,
      "metadata": {
        "collapsed": false
      },
      "outputs": [],
      "source": [
        "import subprocess\n\n# remove the project if it already exists\nsubprocess.run(\"rm -rf my_project_bu.skore\".split())\n\n# create the project\nsubprocess.run(\"python3 -m skore create my_project_bu\".split())"
      ]
    },
    {
      "cell_type": "code",
      "execution_count": null,
      "metadata": {
        "collapsed": false
      },
      "outputs": [],
      "source": [
        "from skore import load\n\nmy_project_gs = load(\"my_project_gs.skore\")"
      ]
    },
    {
      "cell_type": "markdown",
      "metadata": {},
      "source": [
        "### Storing an integer\n\nNow, let us store our first object, for example an integer:\n\n"
      ]
    },
    {
      "cell_type": "code",
      "execution_count": null,
      "metadata": {
        "collapsed": false
      },
      "outputs": [],
      "source": [
        "my_project_gs.put(\"my_int\", 3)"
      ]
    },
    {
      "cell_type": "markdown",
      "metadata": {},
      "source": [
        "Here, the name of my object is ``my_int`` and the integer value is 3.\n\nYou can read it from the project:\n\n"
      ]
    },
    {
      "cell_type": "code",
      "execution_count": null,
      "metadata": {
        "collapsed": false
      },
      "outputs": [],
      "source": [
        "my_project_gs.get(\"my_int\")"
      ]
    },
    {
      "cell_type": "markdown",
      "metadata": {},
      "source": [
        "Careful; like in a traditional Python dictionary, the `put` method will *overwrite* past data if you use a key which already exists!\n\n"
      ]
    },
    {
      "cell_type": "code",
      "execution_count": null,
      "metadata": {
        "collapsed": false
      },
      "outputs": [],
      "source": [
        "my_project_gs.put(\"my_int\", 30_000)"
      ]
    },
    {
      "cell_type": "markdown",
      "metadata": {},
      "source": [
        "Let us check the updated value:\n\n"
      ]
    },
    {
      "cell_type": "code",
      "execution_count": null,
      "metadata": {
        "collapsed": false
      },
      "outputs": [],
      "source": [
        "my_project_gs.get(\"my_int\")"
      ]
    },
    {
      "cell_type": "markdown",
      "metadata": {},
      "source": [
        "By using the `delete_item` method, you can also delete an object so that your `skore` UI does not become cluttered:\n\n"
      ]
    },
    {
      "cell_type": "code",
      "execution_count": null,
      "metadata": {
        "collapsed": false
      },
      "outputs": [],
      "source": [
        "my_project_gs.put(\"my_int_2\", 10)"
      ]
    },
    {
      "cell_type": "code",
      "execution_count": null,
      "metadata": {
        "collapsed": false
      },
      "outputs": [],
      "source": [
        "my_project_gs.delete_item(\"my_int_2\")"
      ]
    },
    {
      "cell_type": "markdown",
      "metadata": {},
      "source": [
        "You can use `my_project_gs.list_item_keys` to display all the keys in your project:\n\n"
      ]
    },
    {
      "cell_type": "code",
      "execution_count": null,
      "metadata": {
        "collapsed": false
      },
      "outputs": [],
      "source": [
        "my_project_gs.list_item_keys()"
      ]
    },
    {
      "cell_type": "markdown",
      "metadata": {},
      "source": [
        "### Storing a string\n\n"
      ]
    },
    {
      "cell_type": "markdown",
      "metadata": {},
      "source": [
        "We just stored a integer, now let us store some text using strings!\n\n"
      ]
    },
    {
      "cell_type": "code",
      "execution_count": null,
      "metadata": {
        "collapsed": false
      },
      "outputs": [],
      "source": [
        "my_project_gs.put(\"my_string\", \"Hello world!\")"
      ]
    },
    {
      "cell_type": "code",
      "execution_count": null,
      "metadata": {
        "collapsed": false
      },
      "outputs": [],
      "source": [
        "my_project_gs.get(\"my_string\")"
      ]
    },
    {
      "cell_type": "markdown",
      "metadata": {},
      "source": [
        "``my_project_gs.get`` infers the type of the inserted object by default. For example, strings are assumed to be in Markdown format. Hence, you can customize the display of your text:\n\n"
      ]
    },
    {
      "cell_type": "code",
      "execution_count": null,
      "metadata": {
        "collapsed": false
      },
      "outputs": [],
      "source": [
        "my_project_gs.put(\n    \"my_string_2\",\n    (\n        \"\"\"Hello world!, **bold**, *italic*, `code`\n\n```python\ndef my_func(x):\n    return x+2\n```\n\"\"\"\n    ),\n)"
      ]
    },
    {
      "cell_type": "markdown",
      "metadata": {},
      "source": [
        "Moreover, you can also explicitly tell `skore` the media type of an object, for example in HTML:\n\n"
      ]
    },
    {
      "cell_type": "markdown",
      "metadata": {},
      "source": [
        "Note: we use ``put_item`` instead of ``put``:\n\n"
      ]
    },
    {
      "cell_type": "code",
      "execution_count": null,
      "metadata": {
        "collapsed": false
      },
      "outputs": [],
      "source": [
        "my_project_gs.put_item(\n    \"my_string_3\",\n    MediaItem.factory(\n        \"<p><h1>Title</h1> <b>bold</b>, <i>italic</i>, etc.</p>\", media_type=\"text/html\"\n    ),\n)"
      ]
    },
    {
      "cell_type": "markdown",
      "metadata": {},
      "source": [
        "Note that the media type is only used for the UI, and not in this notebook at hand:\n\n"
      ]
    },
    {
      "cell_type": "code",
      "execution_count": null,
      "metadata": {
        "collapsed": false
      },
      "outputs": [],
      "source": [
        "my_project_gs.get(\"my_string_3\")"
      ]
    },
    {
      "cell_type": "markdown",
      "metadata": {},
      "source": [
        "You can also conveniently use Python f-strings:\n\n"
      ]
    },
    {
      "cell_type": "code",
      "execution_count": null,
      "metadata": {
        "collapsed": false
      },
      "outputs": [],
      "source": [
        "x = 2\ny = [1, 2, 3, 4]\nmy_project_gs.put(\n    \"my_string_4\", f\"The value of `x` is {x} and the value of `y` is {y}.\"\n)"
      ]
    },
    {
      "cell_type": "markdown",
      "metadata": {},
      "source": [
        "### Storing many kinds of data\n\n"
      ]
    },
    {
      "cell_type": "markdown",
      "metadata": {},
      "source": [
        "Python list:\n\n"
      ]
    },
    {
      "cell_type": "code",
      "execution_count": null,
      "metadata": {
        "collapsed": false
      },
      "outputs": [],
      "source": [
        "my_list = [1, 2, 3, 4]\nmy_project_gs.put(\"my_list\", my_list)"
      ]
    },
    {
      "cell_type": "markdown",
      "metadata": {},
      "source": [
        "Python dictionary:\n\n"
      ]
    },
    {
      "cell_type": "code",
      "execution_count": null,
      "metadata": {
        "collapsed": false
      },
      "outputs": [],
      "source": [
        "my_dict = {\n    \"company\": \"probabl\",\n    \"year\": 2023,\n}\nmy_project_gs.put(\"my_dict\", my_dict)"
      ]
    },
    {
      "cell_type": "markdown",
      "metadata": {},
      "source": [
        "``numpy`` array:\n\n"
      ]
    },
    {
      "cell_type": "code",
      "execution_count": null,
      "metadata": {
        "collapsed": false
      },
      "outputs": [],
      "source": [
        "my_arr = np.random.randn(3, 3)\nmy_project_gs.put(\"my_arr\", my_arr)"
      ]
    },
    {
      "cell_type": "markdown",
      "metadata": {},
      "source": [
        "``pandas`` data frame:\n\n"
      ]
    },
    {
      "cell_type": "code",
      "execution_count": null,
      "metadata": {
        "collapsed": false
      },
      "outputs": [],
      "source": [
        "my_df = pd.DataFrame(np.random.randn(3, 3))\nmy_project_gs.put(\"my_df\", my_df)"
      ]
    },
    {
      "cell_type": "markdown",
      "metadata": {},
      "source": [
        "### Data visualization\n\nNote that, in the dashboard, the interactivity of plots is supported, for example for ``altair`` and ``plotly``.\n\n"
      ]
    },
    {
      "cell_type": "markdown",
      "metadata": {},
      "source": [
        "``matplotlib`` figures:\n\n"
      ]
    },
    {
      "cell_type": "code",
      "execution_count": null,
      "metadata": {
        "collapsed": false
      },
      "outputs": [],
      "source": [
        "x = np.linspace(0, 2, 100)\n\nfig, ax = plt.subplots(figsize=(5, 2.7), layout=\"constrained\")\nax.plot(x, x, label=\"linear\")\nax.plot(x, x**2, label=\"quadratic\")\nax.plot(x, x**3, label=\"cubic\")\nax.set_xlabel(\"x label\")\nax.set_ylabel(\"y label\")\nax.set_title(\"Simple Plot\")\nax.legend()\nplt.show()\n\nmy_project_gs.put(\"my_figure\", fig)"
      ]
    },
    {
      "cell_type": "markdown",
      "metadata": {},
      "source": [
        "``altair`` charts:\n\n"
      ]
    },
    {
      "cell_type": "code",
      "execution_count": null,
      "metadata": {
        "collapsed": false
      },
      "outputs": [],
      "source": [
        "num_points = 100\ndf_plot = pd.DataFrame(\n    {\"x\": np.random.randn(num_points), \"y\": np.random.randn(num_points)}\n)\n\nmy_altair_chart = (\n    alt.Chart(df_plot)\n    .mark_circle()\n    .encode(x=\"x\", y=\"y\", tooltip=[\"x\", \"y\"])\n    .interactive()\n    .properties(title=\"My title\")\n)\nmy_altair_chart.show()\n\nmy_project_gs.put(\"my_altair_chart\", my_altair_chart)"
      ]
    },
    {
      "cell_type": "markdown",
      "metadata": {},
      "source": [
        "Plotly figures:\n\n#### NOTE: Some users reported the following error when running the Plotly cells:\nValueError: Mime type rendering requires nbformat>=4.2.0 but it is not installed\n```\nThis is a Plotly issue which is documented [here](https://github.com/plotly/plotly.py/issues/3285); to solve it, we recommend installing nbformat in your environment, e.g. with\n\n.. code:: console\n\n   pip install --upgrade nbformat\n\n"
      ]
    },
    {
      "cell_type": "code",
      "execution_count": null,
      "metadata": {
        "collapsed": false
      },
      "outputs": [],
      "source": [
        "df = px.data.iris()\nfig = px.scatter(\n    df, x=df.sepal_length, y=df.sepal_width, color=df.species, size=df.petal_length\n)\nfig.show()\nmy_project_gs.put(\"my_plotly_fig\", fig)"
      ]
    },
    {
      "cell_type": "markdown",
      "metadata": {},
      "source": [
        "Animated ``plotly`` figures:\n\n"
      ]
    },
    {
      "cell_type": "code",
      "execution_count": null,
      "metadata": {
        "collapsed": false
      },
      "outputs": [],
      "source": [
        "df = px.data.gapminder()\nmy_anim_plotly_fig = px.scatter(\n    df,\n    x=\"gdpPercap\",\n    y=\"lifeExp\",\n    animation_frame=\"year\",\n    animation_group=\"country\",\n    size=\"pop\",\n    color=\"continent\",\n    hover_name=\"country\",\n    log_x=True,\n    size_max=55,\n    range_x=[100, 100000],\n    range_y=[25, 90],\n)\nmy_anim_plotly_fig.show()\nmy_project_gs.put(\"my_anim_plotly_fig\", my_anim_plotly_fig)"
      ]
    },
    {
      "cell_type": "markdown",
      "metadata": {},
      "source": [
        "PIL images:\n\n"
      ]
    },
    {
      "cell_type": "code",
      "execution_count": null,
      "metadata": {
        "collapsed": false
      },
      "outputs": [],
      "source": [
        "my_pil_image = PIL.Image.new(\"RGB\", (100, 100), color=\"red\")\nwith io.BytesIO() as output:\n    my_pil_image.save(output, format=\"png\")\n\nmy_project_gs.put(\"my_pil_image\", my_pil_image)"
      ]
    },
    {
      "cell_type": "markdown",
      "metadata": {},
      "source": [
        "### Scikit-learn models and pipelines\n\nAs ``skore`` is developed by [Probabl](https://probabl.ai), the spin-off of scikit-learn, ``skore`` treats scikit-learn models and pipelines as first-class citizens.\n\nFirst of all, you can store a scikit-learn model:\n\n"
      ]
    },
    {
      "cell_type": "code",
      "execution_count": null,
      "metadata": {
        "collapsed": false
      },
      "outputs": [],
      "source": [
        "my_model = Lasso(alpha=2)\nmy_project_gs.put(\"my_model\", my_model)"
      ]
    },
    {
      "cell_type": "markdown",
      "metadata": {},
      "source": [
        "You can also store ``scikit-learn`` pipelines:\n\n"
      ]
    },
    {
      "cell_type": "code",
      "execution_count": null,
      "metadata": {
        "collapsed": false
      },
      "outputs": [],
      "source": [
        "my_pipeline = Pipeline(\n    [(\"standard_scaler\", StandardScaler()), (\"lasso\", Lasso(alpha=2))]\n)\nmy_project_gs.put(\"my_pipeline\", my_pipeline)"
      ]
    },
    {
      "cell_type": "markdown",
      "metadata": {},
      "source": [
        "Moreover, you can store fitted ``scikit-learn`` pipelines:\n\n"
      ]
    },
    {
      "cell_type": "code",
      "execution_count": null,
      "metadata": {
        "collapsed": false
      },
      "outputs": [],
      "source": [
        "diabetes = load_diabetes()\nX = diabetes.data[:150]\ny = diabetes.target[:150]\nmy_pipeline.fit(X, y)\n\nmy_project_gs.put(\"my_fitted_pipeline\", my_pipeline)"
      ]
    },
    {
      "cell_type": "markdown",
      "metadata": {},
      "source": [
        "*Stay tuned for some new features!*\n\n"
      ]
    },
    {
      "cell_type": "markdown",
      "metadata": {},
      "source": [
        "### Manipulating the skore UI\n\nThe following is just some ``skore`` strings that we generate in order to provide more context on the obtained report.\n\n"
      ]
    },
    {
      "cell_type": "code",
      "execution_count": null,
      "metadata": {
        "collapsed": false
      },
      "outputs": [],
      "source": [
        "my_project_gs.put(\n    \"my_comment_1\",\n    \"<p><h1>Welcome to skore!</h1><p><code>skore</code> allows data scientists to create tracking and visualizations from their Python code. This HTML document is actually a skore report generated using the <code>01_basic_usage.ipynb</code> example notebook then exported (into HTML)!<p>\",\n)"
      ]
    },
    {
      "cell_type": "code",
      "execution_count": null,
      "metadata": {
        "collapsed": false
      },
      "outputs": [],
      "source": [
        "my_project_gs.put(\n    \"my_comment_2\",\n    \"<p><h2>Integers</h1></p>\",\n)"
      ]
    },
    {
      "cell_type": "code",
      "execution_count": null,
      "metadata": {
        "collapsed": false
      },
      "outputs": [],
      "source": [
        "my_project_gs.put(\"my_comment_3\", \"<p><h2>Strings</h1></p>\")"
      ]
    },
    {
      "cell_type": "code",
      "execution_count": null,
      "metadata": {
        "collapsed": false
      },
      "outputs": [],
      "source": [
        "my_project_gs.put(\n    \"my_comment_4\",\n    \"<p><h2>Many kinds of data</h1></p>\",\n)"
      ]
    },
    {
      "cell_type": "code",
      "execution_count": null,
      "metadata": {
        "collapsed": false
      },
      "outputs": [],
      "source": [
        "my_project_gs.put(\n    \"my_comment_5\",\n    \"<p><h2>Plots</h1></p>\",\n)"
      ]
    },
    {
      "cell_type": "code",
      "execution_count": null,
      "metadata": {
        "collapsed": false
      },
      "outputs": [],
      "source": [
        "my_project_gs.put(\"my_comment_6\", \"<p><h2>Scikit-learn models and pipelines</h1></p>\")"
      ]
    }
  ],
  "metadata": {
    "kernelspec": {
      "display_name": "Python 3",
      "language": "python",
      "name": "python3"
    },
    "language_info": {
      "codemirror_mode": {
        "name": "ipython",
        "version": 3
      },
      "file_extension": ".py",
      "mimetype": "text/x-python",
      "name": "python",
      "nbconvert_exporter": "python",
      "pygments_lexer": "ipython3",
      "version": "3.12.3"
    }
  },
  "nbformat": 4,
  "nbformat_minor": 0
}