{
  "cells": [
    {
      "cell_type": "markdown",
      "metadata": {},
      "source": [
        "\n\n# Enhancing cross-validation\n\nThis example illustrates the use of :func:`~skore.cross_validate` to get\nassistance when developing your ML/DS projects.\n"
      ]
    },
    {
      "cell_type": "code",
      "execution_count": null,
      "metadata": {
        "collapsed": false
      },
      "outputs": [],
      "source": [
        "import subprocess\n\n# remove the skore project if it already exists\nsubprocess.run(\"rm -rf my_project_cv.skore\".split())\n\n# create the skore project\nsubprocess.run(\"python3 -m skore create my_project_cv\".split())"
      ]
    },
    {
      "cell_type": "code",
      "execution_count": null,
      "metadata": {
        "collapsed": false
      },
      "outputs": [],
      "source": [
        "from skore import load\n\nmy_project_gs = load(\"my_project_cv.skore\")"
      ]
    },
    {
      "cell_type": "code",
      "execution_count": null,
      "metadata": {
        "collapsed": false
      },
      "outputs": [],
      "source": [
        "from sklearn import datasets, linear_model\nfrom skore.cross_validate import cross_validate\n\ndiabetes = datasets.load_diabetes()\nX = diabetes.data[:150]\ny = diabetes.target[:150]\nlasso = linear_model.Lasso()\n\ncv_results = cross_validate(lasso, X, y, cv=3, project=my_project_gs)\n\nmy_project_gs.get_item(\"cross_validation\").plot"
      ]
    },
    {
      "cell_type": "markdown",
      "metadata": {},
      "source": [
        "Because Plotly graphs currently do not yet properly render in our docs engine due to [a bug in Plotly](https://github.com/plotly/plotly.py/issues/4828),\nwe also show a screenshot below.\nAlternatively, if you zoom in or out in your browser window, the Plotly graph should display properly again.\n\n"
      ]
    },
    {
      "cell_type": "code",
      "execution_count": null,
      "metadata": {
        "collapsed": false
      },
      "outputs": [],
      "source": [
        "import matplotlib.pyplot as plt\nimport matplotlib.image as mpimg\n\nimg = mpimg.imread(\"plot_03_cross_validate_plot_screenshot.png\")\nfig, ax = plt.subplots()\n# fig.tight_layout(pad=0.01)\nfig.subplots_adjust(left=0.01, right=0.99, bottom=0.01, top=0.99)\nax.axis(\"off\")\nax.imshow(img)"
      ]
    }
  ],
  "metadata": {
    "kernelspec": {
      "display_name": "Python 3",
      "language": "python",
      "name": "python3"
    },
    "language_info": {
      "codemirror_mode": {
        "name": "ipython",
        "version": 3
      },
      "file_extension": ".py",
      "mimetype": "text/x-python",
      "name": "python",
      "nbconvert_exporter": "python",
      "pygments_lexer": "ipython3",
      "version": "3.12.7"
    }
  },
  "nbformat": 4,
  "nbformat_minor": 0
}