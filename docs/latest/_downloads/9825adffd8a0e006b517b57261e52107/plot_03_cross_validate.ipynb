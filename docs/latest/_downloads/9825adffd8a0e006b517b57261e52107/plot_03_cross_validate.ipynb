{
  "cells": [
    {
      "cell_type": "markdown",
      "metadata": {},
      "source": [
        "\n\n# Enhancing cross-validation\n\nThis example illustrates the motivation and the use of skore's\n:func:`~skore.cross_validate` to get assistance when developing your\nML/DS projects.\n"
      ]
    },
    {
      "cell_type": "code",
      "execution_count": null,
      "metadata": {
        "collapsed": false
      },
      "outputs": [],
      "source": [
        "import subprocess\n\nimport matplotlib.pyplot as plt\nimport matplotlib.image as mpimg\n\nfrom sklearn import datasets, linear_model\nfrom sklearn import svm\nfrom sklearn.model_selection import cross_validate as sklearn_cross_validate\n\nfrom skore import load\nimport skore.cross_validate"
      ]
    },
    {
      "cell_type": "markdown",
      "metadata": {},
      "source": [
        "## Creating and loading the skore project\n\n"
      ]
    },
    {
      "cell_type": "code",
      "execution_count": null,
      "metadata": {
        "collapsed": false
      },
      "outputs": [],
      "source": [
        "# remove the skore project if it already exists\nsubprocess.run(\"rm -rf my_project_cv.skore\".split())\n\n# create the skore project\nsubprocess.run(\"python3 -m skore create my_project_cv\".split())"
      ]
    },
    {
      "cell_type": "code",
      "execution_count": null,
      "metadata": {
        "collapsed": false
      },
      "outputs": [],
      "source": [
        "my_project_gs = load(\"my_project_cv.skore\")"
      ]
    },
    {
      "cell_type": "markdown",
      "metadata": {},
      "source": [
        "## Cross-validation in scikit-learn\n\nScikit-learn holds two functions for cross-validation:\n\n* :func:`~sklearn.model_selection.cross_val_score`\n* :func:`~sklearn.model_selection.cross_validate`\n\nEssentially, ``cross_val_score`` runs cross-validation for single metric\nevaluation, while ``cross_validate`` runs cross-validation with multiple\nmetrics and can also return extra information such as train scores, fit times, and score times.\n\nHence, in skore, we are more interested in the ``cross_validate`` function as\nit allows to do more than the historical ``cross_val_score``.\n\nLet us illustrate cross-validation on a multi-class classification task.\n\n"
      ]
    },
    {
      "cell_type": "code",
      "execution_count": null,
      "metadata": {
        "collapsed": false
      },
      "outputs": [],
      "source": [
        "X, y = datasets.load_iris(return_X_y=True)\nclf = svm.SVC(kernel='linear', C=1, random_state=0)"
      ]
    },
    {
      "cell_type": "markdown",
      "metadata": {},
      "source": [
        "Single metric evaluation using ``cross_validate``:\n\n"
      ]
    },
    {
      "cell_type": "code",
      "execution_count": null,
      "metadata": {
        "collapsed": false
      },
      "outputs": [],
      "source": [
        "cv_results = sklearn_cross_validate(clf, X, y, cv=5)\ncv_results['test_score']"
      ]
    },
    {
      "cell_type": "markdown",
      "metadata": {},
      "source": [
        "Multiple metric evaluation using ``cross_validate``:\n\n"
      ]
    },
    {
      "cell_type": "code",
      "execution_count": null,
      "metadata": {
        "collapsed": false
      },
      "outputs": [],
      "source": [
        "scores = sklearn_cross_validate(\n    clf, X, y, cv=5,\n    scoring=['accuracy', 'precision_macro'],\n)\nprint(scores['test_accuracy'])\nprint(scores['test_precision_macro'])"
      ]
    },
    {
      "cell_type": "markdown",
      "metadata": {},
      "source": [
        "### In scikit-learn, why do we recommend using ``cross_validate`` over ``cross_val_score``?\n\nHere, for the :class:`~sklearn.svm.SVC`,\nthe default score is the accuracy.\nIf the users want other scores to better understand their model such as the\nprecision and the recall, they can specify it which is very convenient.\nOtherwise, they would have to run several ``cross_val_score`` with different\n``scoring`` parameters each time, which leads to more unnecessary compute.\n\n### Why do we recommend using skore's ``cross_validate`` over scikit-learn's?\n\nIn the example above, what if the users ran scikit-learn's\n``cross_validate`` but forgot to manually add a crucial score for their use\ncase such as the recall?\nThey would have to re-run the whole cross-validation experiment by adding this\ncrucial score, which leads to more compute.\n\n"
      ]
    },
    {
      "cell_type": "markdown",
      "metadata": {},
      "source": [
        "## Cross-validation in skore\n\nIn order to assist its users when programming, skore has implemented a\n:func:`~skore.cross_validate` function that wraps scikit-learn's\n:func:`~sklearn.model_selection.cross_validate`, to provide more\ncontext and facilitate the analysis.\n\n### Classification task\n\nLet us continue with the same use case.\n\n"
      ]
    },
    {
      "cell_type": "code",
      "execution_count": null,
      "metadata": {
        "collapsed": false
      },
      "outputs": [],
      "source": [
        "cv_results = skore.cross_validate(clf, X, y, cv=5, project=my_project_gs)\n\nfig_plotly_clf = my_project_gs.get_item(\"cross_validation\").plot\nfig_plotly_clf"
      ]
    },
    {
      "cell_type": "markdown",
      "metadata": {},
      "source": [
        "Skore's ``cross_validate`` advantages are the following:\n\n* By default, it computes several useful scores without the need for the user to manually specify them. For classification, you can observe that it computed the accuracy, the precision, and the recall.\n\n* You automatically get some interactive Plotly graphs to better understand how your model behaves depending on the split. For example:\n\n  * You can compare the fitting and scoring times together for each split.\n\n  * You can compare the accuracy, precision, and recall scores together for each split.\n\n* The results and plots are automatically saved in your skore project, so that you can visualize them later in the UI for example.\n\n"
      ]
    },
    {
      "cell_type": "markdown",
      "metadata": {},
      "source": [
        "<div class=\"alert alert-info\"><h4>Note</h4><p>Because Plotly graphs currently do not properly render in our Sphinx\n  auto-examples docs engine due to\n  [a bug in Plotly](https://github.com/plotly/plotly.py/issues/4828),\n  we also display its static image below.\n  Alternatively, we recommend zooming in / out in your browser window for the\n  Plotly graphs to display properly.</p></div>\n\n"
      ]
    },
    {
      "cell_type": "code",
      "execution_count": null,
      "metadata": {
        "collapsed": false
      },
      "outputs": [],
      "source": [
        "fig_plotly_clf.write_image(\"plot_03_cross_validate_clf.png\", scale=2)\n\nimg = mpimg.imread(\"plot_03_cross_validate_clf.png\")\nfig, ax = plt.subplots(layout=\"constrained\")\nax.axis(\"off\")\nax.imshow(img)\nplt.show()"
      ]
    },
    {
      "cell_type": "markdown",
      "metadata": {},
      "source": [
        "### Regression task\n\n"
      ]
    },
    {
      "cell_type": "code",
      "execution_count": null,
      "metadata": {
        "collapsed": false
      },
      "outputs": [],
      "source": [
        "diabetes = datasets.load_diabetes()\nX = diabetes.data[:150]\ny = diabetes.target[:150]\nlasso = linear_model.Lasso()\n\ncv_results = skore.cross_validate(lasso, X, y, cv=5, project=my_project_gs)\n\nfig_plotly_reg = my_project_gs.get_item(\"cross_validation\").plot\nfig_plotly_reg"
      ]
    }
  ],
  "metadata": {
    "kernelspec": {
      "display_name": "Python 3",
      "language": "python",
      "name": "python3"
    },
    "language_info": {
      "codemirror_mode": {
        "name": "ipython",
        "version": 3
      },
      "file_extension": ".py",
      "mimetype": "text/x-python",
      "name": "python",
      "nbconvert_exporter": "python",
      "pygments_lexer": "ipython3",
      "version": "3.12.7"
    }
  },
  "nbformat": 4,
  "nbformat_minor": 0
}