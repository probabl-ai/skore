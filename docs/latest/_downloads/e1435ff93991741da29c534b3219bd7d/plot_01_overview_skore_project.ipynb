{
  "cells": [
    {
      "cell_type": "markdown",
      "metadata": {},
      "source": [
        "\n\n# Overview of the skore project\n\nThis example provides an overview of the functionalities and the different types\nof items that we can store in a skore :class:`~skore.Project`.\n"
      ]
    },
    {
      "cell_type": "markdown",
      "metadata": {},
      "source": [
        "## Creating and loading the skore project\n\n"
      ]
    },
    {
      "cell_type": "markdown",
      "metadata": {},
      "source": [
        "We start by creating a temporary directory to store our project so that we can\neasily clean it after executing this example:\n\n"
      ]
    },
    {
      "cell_type": "code",
      "execution_count": null,
      "metadata": {
        "collapsed": false
      },
      "outputs": [],
      "source": [
        "import tempfile\nfrom pathlib import Path\n\ntemp_dir = tempfile.TemporaryDirectory(prefix=\"skore_example_\")\ntemp_dir_path = Path(temp_dir.name)"
      ]
    },
    {
      "cell_type": "markdown",
      "metadata": {},
      "source": [
        "We create and load the skore project from this temporary directory:\n\n"
      ]
    },
    {
      "cell_type": "code",
      "execution_count": null,
      "metadata": {
        "collapsed": false
      },
      "outputs": [],
      "source": [
        "import skore\n\nmy_project = skore.create(\"my_project\", working_dir=temp_dir_path)"
      ]
    },
    {
      "cell_type": "markdown",
      "metadata": {},
      "source": [
        "## Storing integers\n\nNow, let us store our first object using :func:`~skore.Project.put`, for example an\ninteger:\n\n"
      ]
    },
    {
      "cell_type": "code",
      "execution_count": null,
      "metadata": {
        "collapsed": false
      },
      "outputs": [],
      "source": [
        "my_project.put(\"my_int\", 3)"
      ]
    },
    {
      "cell_type": "markdown",
      "metadata": {},
      "source": [
        "Here, the name of the object is ``my_int`` and the integer value is 3.\n\nWe can read it from the project by using :func:`~skore.Project.get`:\n\n"
      ]
    },
    {
      "cell_type": "code",
      "execution_count": null,
      "metadata": {
        "collapsed": false
      },
      "outputs": [],
      "source": [
        "my_project.get(\"my_int\")"
      ]
    },
    {
      "cell_type": "markdown",
      "metadata": {},
      "source": [
        "Careful; like in a traditional Python dictionary, the ``put`` method will *overwrite*\npast data if we use a key that already exists!\n\n"
      ]
    },
    {
      "cell_type": "code",
      "execution_count": null,
      "metadata": {
        "collapsed": false
      },
      "outputs": [],
      "source": [
        "my_project.put(\"my_int\", 30_000)"
      ]
    },
    {
      "cell_type": "markdown",
      "metadata": {},
      "source": [
        "We can check the updated value:\n\n"
      ]
    },
    {
      "cell_type": "code",
      "execution_count": null,
      "metadata": {
        "collapsed": false
      },
      "outputs": [],
      "source": [
        "my_project.get(\"my_int\")"
      ]
    },
    {
      "cell_type": "markdown",
      "metadata": {},
      "source": [
        ".. seealso::\n\n  Skore does not exactly *overwrite*, but stores the history of items.\n  For more information about the tracking of items using their history,\n  see `example_historization_items`.\n\n"
      ]
    },
    {
      "cell_type": "markdown",
      "metadata": {},
      "source": [
        "By using the :func:`~skore.Project.delete_item` method, we can also delete an object\nso that our skore UI does not become cluttered:\n\n"
      ]
    },
    {
      "cell_type": "code",
      "execution_count": null,
      "metadata": {
        "collapsed": false
      },
      "outputs": [],
      "source": [
        "my_project.put(\"my_int_2\", 10)"
      ]
    },
    {
      "cell_type": "code",
      "execution_count": null,
      "metadata": {
        "collapsed": false
      },
      "outputs": [],
      "source": [
        "my_project.delete_item(\"my_int_2\")"
      ]
    },
    {
      "cell_type": "markdown",
      "metadata": {},
      "source": [
        "We can display all the keys in our project:\n\n"
      ]
    },
    {
      "cell_type": "code",
      "execution_count": null,
      "metadata": {
        "collapsed": false
      },
      "outputs": [],
      "source": [
        "my_project.list_item_keys()"
      ]
    },
    {
      "cell_type": "markdown",
      "metadata": {},
      "source": [
        "## Storing strings and texts\n\n"
      ]
    },
    {
      "cell_type": "markdown",
      "metadata": {},
      "source": [
        "We just stored a integer, now let us store some text using strings!\n\n"
      ]
    },
    {
      "cell_type": "code",
      "execution_count": null,
      "metadata": {
        "collapsed": false
      },
      "outputs": [],
      "source": [
        "my_project.put(\"my_string\", \"Hello world!\")"
      ]
    },
    {
      "cell_type": "code",
      "execution_count": null,
      "metadata": {
        "collapsed": false
      },
      "outputs": [],
      "source": [
        "my_project.get(\"my_string\")"
      ]
    },
    {
      "cell_type": "markdown",
      "metadata": {},
      "source": [
        ":func:`~skore.Project.get` infers the type of the inserted object by default. For\nexample, strings are assumed to be in Markdown format. Hence, we can customize the\ndisplay of our text:\n\n"
      ]
    },
    {
      "cell_type": "code",
      "execution_count": null,
      "metadata": {
        "collapsed": false
      },
      "outputs": [],
      "source": [
        "my_project.put(\n    \"my_string_2\",\n    (\n        \"\"\"Hello world!, **bold**, *italic*, `code`\n\n```python\ndef my_func(x):\n    return x+2\n```\n\"\"\"\n    ),\n)"
      ]
    },
    {
      "cell_type": "markdown",
      "metadata": {},
      "source": [
        "Moreover, we can also explicitly tell skore the media type of an object, for example\nin HTML:\n\n"
      ]
    },
    {
      "cell_type": "code",
      "execution_count": null,
      "metadata": {
        "collapsed": false
      },
      "outputs": [],
      "source": [
        "from skore.item import MediaItem\n\nmy_project.put_item(\n    \"my_string_3\",\n    MediaItem.factory(\n        \"<p><h1>Title</h1> <b>bold</b>, <i>italic</i>, etc.</p>\", media_type=\"text/html\"\n    ),\n)"
      ]
    },
    {
      "cell_type": "markdown",
      "metadata": {},
      "source": [
        "<div class=\"alert alert-info\"><h4>Note</h4><p>We used :func:`~skore.Project.put_item` instead of :func:`~skore.Project.put`.</p></div>\n\n"
      ]
    },
    {
      "cell_type": "markdown",
      "metadata": {},
      "source": [
        "Note that the media type is only used for the UI, and not in this notebook at hand:\n\n"
      ]
    },
    {
      "cell_type": "code",
      "execution_count": null,
      "metadata": {
        "collapsed": false
      },
      "outputs": [],
      "source": [
        "my_project.get(\"my_string_3\")"
      ]
    },
    {
      "cell_type": "markdown",
      "metadata": {},
      "source": [
        "We can also conveniently use a Python f-string:\n\n"
      ]
    },
    {
      "cell_type": "code",
      "execution_count": null,
      "metadata": {
        "collapsed": false
      },
      "outputs": [],
      "source": [
        "x = 2\ny = [1, 2, 3, 4]\nmy_project.put(\"my_string_4\", f\"The value of `x` is {x} and the value of `y` is {y}.\")"
      ]
    },
    {
      "cell_type": "markdown",
      "metadata": {},
      "source": [
        "## Storing many kinds of data\n\n"
      ]
    },
    {
      "cell_type": "markdown",
      "metadata": {},
      "source": [
        "Python list:\n\n"
      ]
    },
    {
      "cell_type": "code",
      "execution_count": null,
      "metadata": {
        "collapsed": false
      },
      "outputs": [],
      "source": [
        "my_list = [1, 2, 3, 4]\nmy_project.put(\"my_list\", my_list)\nmy_list"
      ]
    },
    {
      "cell_type": "markdown",
      "metadata": {},
      "source": [
        "Python dictionary:\n\n"
      ]
    },
    {
      "cell_type": "code",
      "execution_count": null,
      "metadata": {
        "collapsed": false
      },
      "outputs": [],
      "source": [
        "my_dict = {\n    \"company\": \"probabl\",\n    \"year\": 2023,\n}\nmy_project.put(\"my_dict\", my_dict)\nmy_dict"
      ]
    },
    {
      "cell_type": "markdown",
      "metadata": {},
      "source": [
        "Numpy array:\n\n"
      ]
    },
    {
      "cell_type": "code",
      "execution_count": null,
      "metadata": {
        "collapsed": false
      },
      "outputs": [],
      "source": [
        "import numpy as np\n\nmy_arr = np.random.randn(3, 3)\nmy_project.put(\"my_arr\", my_arr)\nmy_arr"
      ]
    },
    {
      "cell_type": "markdown",
      "metadata": {},
      "source": [
        "Pandas data frame:\n\n"
      ]
    },
    {
      "cell_type": "code",
      "execution_count": null,
      "metadata": {
        "collapsed": false
      },
      "outputs": [],
      "source": [
        "import pandas as pd\n\nmy_df_pandas = pd.DataFrame(np.random.randn(10, 5))\nmy_project.put(\"my_df_pandas\", my_df_pandas)\nmy_df_pandas.head()"
      ]
    },
    {
      "cell_type": "markdown",
      "metadata": {},
      "source": [
        "Polars data frame:\n\n"
      ]
    },
    {
      "cell_type": "code",
      "execution_count": null,
      "metadata": {
        "collapsed": false
      },
      "outputs": [],
      "source": [
        "import polars as pl\n\nmy_df_polars = pl.DataFrame(np.random.randn(10, 5))\nmy_project.put(\"my_df_polars\", my_df_polars)\nmy_df_polars.head()"
      ]
    },
    {
      "cell_type": "markdown",
      "metadata": {},
      "source": [
        "## Storing data visualizations\n\nNote that, in the dashboard, the interactivity of plots is supported, for example for\nAltair and Plotly.\n\n"
      ]
    },
    {
      "cell_type": "markdown",
      "metadata": {},
      "source": [
        "Matplotlib figure:\n\n"
      ]
    },
    {
      "cell_type": "code",
      "execution_count": null,
      "metadata": {
        "collapsed": false
      },
      "outputs": [],
      "source": [
        "import matplotlib.pyplot as plt\n\nx = np.linspace(0, 2, 100)\n\nfig, ax = plt.subplots(layout=\"constrained\", dpi=200)\nax.plot(x, x, label=\"linear\")\nax.plot(x, x**2, label=\"quadratic\")\nax.plot(x, x**3, label=\"cubic\")\nax.set_xlabel(\"x label\")\nax.set_ylabel(\"y label\")\nax.set_title(\"Simple Plot\")\nax.legend()\nplt.show()\n\nmy_project.put(\"my_figure\", fig)"
      ]
    },
    {
      "cell_type": "markdown",
      "metadata": {},
      "source": [
        "|\nAltair chart:\n\n"
      ]
    },
    {
      "cell_type": "code",
      "execution_count": null,
      "metadata": {
        "collapsed": false
      },
      "outputs": [],
      "source": [
        "import altair as alt\n\nalt.renderers.enable(\"default\")\n\nnum_points = 100\ndf_plot = pd.DataFrame(\n    {\"x\": np.random.randn(num_points), \"y\": np.random.randn(num_points)}\n)\n\nmy_altair_chart = (\n    alt.Chart(df_plot)\n    .mark_circle()\n    .encode(x=\"x\", y=\"y\", tooltip=[\"x\", \"y\"])\n    .interactive()\n    .properties(title=\"My title\")\n)\n\nmy_project.put(\"my_altair_chart\", my_altair_chart)"
      ]
    },
    {
      "cell_type": "markdown",
      "metadata": {},
      "source": [
        "<div class=\"alert alert-info\"><h4>Note</h4><p>For Plotly figures, some users reported the following error when running Plotly\n    cells: ``ValueError: Mime type rendering requires nbformat>=4.2.0 but it is not\n    installed``. This is a Plotly issue which is documented [here](https://github.com/plotly/plotly.py/issues/3285); to solve it, we recommend\n    installing ``nbformat`` in your environment, e.g. with:\n\n```console\npip install --upgrade nbformat</p></div>\n```\n"
      ]
    },
    {
      "cell_type": "markdown",
      "metadata": {},
      "source": [
        "Plotly figure:\n\n"
      ]
    },
    {
      "cell_type": "code",
      "execution_count": null,
      "metadata": {
        "collapsed": false
      },
      "outputs": [],
      "source": [
        "import plotly.express as px\n\ndf = px.data.iris()\nfig = px.scatter(\n    df, x=df.sepal_length, y=df.sepal_width, color=df.species, size=df.petal_length\n)\n\nmy_project.put(\"my_plotly_fig\", fig)\n\nfig"
      ]
    },
    {
      "cell_type": "markdown",
      "metadata": {},
      "source": [
        "Animated Plotly figure:\n\n"
      ]
    },
    {
      "cell_type": "code",
      "execution_count": null,
      "metadata": {
        "collapsed": false
      },
      "outputs": [],
      "source": [
        "df = px.data.gapminder()\nmy_anim_plotly_fig = px.scatter(\n    df,\n    x=\"gdpPercap\",\n    y=\"lifeExp\",\n    animation_frame=\"year\",\n    animation_group=\"country\",\n    size=\"pop\",\n    color=\"continent\",\n    hover_name=\"country\",\n    log_x=True,\n    size_max=55,\n    range_x=[100, 100_000],\n    range_y=[25, 90],\n)\n\nmy_project.put(\"my_anim_plotly_fig\", my_anim_plotly_fig)\n\nmy_anim_plotly_fig"
      ]
    },
    {
      "cell_type": "markdown",
      "metadata": {},
      "source": [
        "PIL image:\n\n"
      ]
    },
    {
      "cell_type": "code",
      "execution_count": null,
      "metadata": {
        "collapsed": false
      },
      "outputs": [],
      "source": [
        "import io\n\nimport PIL\n\nmy_pil_image = PIL.Image.new(\"RGB\", (100, 100), color=\"red\")\nwith io.BytesIO() as output:\n    my_pil_image.save(output, format=\"png\")\n\nmy_project.put(\"my_pil_image\", my_pil_image)"
      ]
    },
    {
      "cell_type": "markdown",
      "metadata": {},
      "source": [
        "## Storing scikit-learn models and pipelines\n\nAs skore is developed by [Probabl](https://probabl.ai), the spin-off of\nscikit-learn, skore treats scikit-learn models and pipelines as first-class citizens.\n\nFirst of all, we can store a scikit-learn model:\n\n"
      ]
    },
    {
      "cell_type": "code",
      "execution_count": null,
      "metadata": {
        "collapsed": false
      },
      "outputs": [],
      "source": [
        "from sklearn.linear_model import Lasso\n\nmy_model = Lasso(alpha=2)\nmy_project.put(\"my_model\", my_model)\nmy_model"
      ]
    },
    {
      "cell_type": "markdown",
      "metadata": {},
      "source": [
        "We can also store scikit-learn pipelines:\n\n"
      ]
    },
    {
      "cell_type": "code",
      "execution_count": null,
      "metadata": {
        "collapsed": false
      },
      "outputs": [],
      "source": [
        "from sklearn.pipeline import Pipeline\nfrom sklearn.preprocessing import StandardScaler\n\nmy_pipeline = Pipeline(\n    [(\"standard_scaler\", StandardScaler()), (\"lasso\", Lasso(alpha=2))]\n)\nmy_project.put(\"my_pipeline\", my_pipeline)\nmy_pipeline"
      ]
    },
    {
      "cell_type": "markdown",
      "metadata": {},
      "source": [
        "Moreover, we can store fitted scikit-learn pipelines:\n\n"
      ]
    },
    {
      "cell_type": "code",
      "execution_count": null,
      "metadata": {
        "collapsed": false
      },
      "outputs": [],
      "source": [
        "from sklearn.datasets import load_diabetes\n\ndiabetes = load_diabetes()\nX = diabetes.data[:150]\ny = diabetes.target[:150]\nmy_pipeline.fit(X, y)\n\nmy_project.put(\"my_fitted_pipeline\", my_pipeline)\nmy_pipeline"
      ]
    },
    {
      "cell_type": "markdown",
      "metadata": {},
      "source": [
        "### Cleanup the project\n\nRemoving the temporary directory:\n\n"
      ]
    },
    {
      "cell_type": "code",
      "execution_count": null,
      "metadata": {
        "collapsed": false
      },
      "outputs": [],
      "source": [
        "temp_dir.cleanup()"
      ]
    }
  ],
  "metadata": {
    "kernelspec": {
      "display_name": "Python 3",
      "language": "python",
      "name": "python3"
    },
    "language_info": {
      "codemirror_mode": {
        "name": "ipython",
        "version": 3
      },
      "file_extension": ".py",
      "mimetype": "text/x-python",
      "name": "python",
      "nbconvert_exporter": "python",
      "pygments_lexer": "ipython3",
      "version": "3.12.7"
    }
  },
  "nbformat": 4,
  "nbformat_minor": 0
}