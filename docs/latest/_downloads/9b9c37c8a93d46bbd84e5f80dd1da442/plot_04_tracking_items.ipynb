{
  "cells": [
    {
      "cell_type": "markdown",
      "metadata": {},
      "source": [
        "\n\n# Tracking items using their history\n\nThis example illustrates how skore can be used to track some items using their history,\nfor example tracking some ML metrics over time.\n"
      ]
    },
    {
      "cell_type": "markdown",
      "metadata": {},
      "source": [
        "## Creating and loading the skore project\n\n"
      ]
    },
    {
      "cell_type": "markdown",
      "metadata": {},
      "source": [
        "We start by creating a temporary directory to store our project so that we can\neasily clean it after executing this example:\n\n"
      ]
    },
    {
      "cell_type": "code",
      "execution_count": null,
      "metadata": {
        "collapsed": false
      },
      "outputs": [],
      "source": [
        "import tempfile\nfrom pathlib import Path\n\ntemp_dir = tempfile.TemporaryDirectory(prefix=\"skore_example_\")\ntemp_dir_path = Path(temp_dir.name)"
      ]
    },
    {
      "cell_type": "markdown",
      "metadata": {},
      "source": [
        "We create and load the skore project from this temporary directory:\n\n"
      ]
    },
    {
      "cell_type": "code",
      "execution_count": null,
      "metadata": {
        "collapsed": false
      },
      "outputs": [],
      "source": [
        "import skore\n\nmy_project = skore.create(\"my_project.skore\", working_dir=temp_dir_path)"
      ]
    },
    {
      "cell_type": "markdown",
      "metadata": {},
      "source": [
        "## Tracking an integer\n\n"
      ]
    },
    {
      "cell_type": "markdown",
      "metadata": {},
      "source": [
        "Let us store several integer values for a same item called ``my_int``, each storage\nbeing separated by 0.1 second:\n\n"
      ]
    },
    {
      "cell_type": "code",
      "execution_count": null,
      "metadata": {
        "collapsed": false
      },
      "outputs": [],
      "source": [
        "import time\n\nmy_project.put(\"my_int\", 4)\ntime.sleep(0.1)\nmy_project.put(\"my_int\", 9)\ntime.sleep(0.1)\nmy_project.put(\"my_int\", 16)"
      ]
    },
    {
      "cell_type": "markdown",
      "metadata": {},
      "source": [
        "<div class=\"alert alert-info\"><h4>Note</h4><p>If we had not created a temporary project and had launched the skore\n  dashboard with:\n\n```bash\nskore launch \"my_project\"\n```\n  from the skore UI, we could visualize the different histories of the ``my_int``\n  item:\n\n  .. image:: https://raw.githubusercontent.com/sylvaincom/sylvaincom.github.io/master/files/probabl/skore/2024_11_21_tracking_comp.gif\n      :alt: Tracking the history of an item from the skore UI</p></div>\n\n"
      ]
    },
    {
      "cell_type": "markdown",
      "metadata": {},
      "source": [
        "We retrieve the history of the ``my_int`` item:\n\n"
      ]
    },
    {
      "cell_type": "code",
      "execution_count": null,
      "metadata": {
        "collapsed": false
      },
      "outputs": [],
      "source": [
        "item_histories = my_project.get_item_versions(\"my_int\")"
      ]
    },
    {
      "cell_type": "markdown",
      "metadata": {},
      "source": [
        "We can print the first history (first iteration) of this item:\n\n"
      ]
    },
    {
      "cell_type": "code",
      "execution_count": null,
      "metadata": {
        "collapsed": false
      },
      "outputs": [],
      "source": [
        "item_history = item_histories[0]\nprint(item_history)\nprint(item_history.primitive)\nprint(item_history.created_at)\nprint(item_history.updated_at)"
      ]
    },
    {
      "cell_type": "markdown",
      "metadata": {},
      "source": [
        "Let us construct a dataframe with the values and last updated times:\n\n"
      ]
    },
    {
      "cell_type": "code",
      "execution_count": null,
      "metadata": {
        "collapsed": false
      },
      "outputs": [],
      "source": [
        "import numpy as np\nimport pandas as pd\n\nlist_primitive, list_created_at, list_updated_at = zip(\n    *[(elem.primitive, elem.created_at, elem.updated_at) for elem in item_histories]\n)\n\ndf_track = pd.DataFrame(\n    {\n        \"primitive\": list_primitive,\n        \"created_at\": list_created_at,\n        \"updated_at\": list_updated_at,\n    }\n)\ndf_track.insert(0, \"iteration_number\", np.arange(len(df_track)))\ndf_track"
      ]
    },
    {
      "cell_type": "markdown",
      "metadata": {},
      "source": [
        ".. role:: python(code)\n  :language: python\n\nNotice that the ``created_at`` dates are the same for all iterations because they\ncorrespond to the same item, but the ``updated_at`` dates are spaced by 0.1 second\n(approximately) as we used :python:`time.sleep(0.1)` between each\n:func:`~skore.Project.put`.\n\n"
      ]
    },
    {
      "cell_type": "markdown",
      "metadata": {},
      "source": [
        "We can now track the value of the item over time:\n\n"
      ]
    },
    {
      "cell_type": "code",
      "execution_count": null,
      "metadata": {
        "collapsed": false
      },
      "outputs": [],
      "source": [
        "import plotly.express as px\n\nfig = px.line(\n    df_track,\n    x=\"iteration_number\",\n    y=\"primitive\",\n    hover_data=df_track.columns,\n    markers=True,\n)\nfig.update_layout(xaxis_type=\"category\")\nfig"
      ]
    },
    {
      "cell_type": "markdown",
      "metadata": {},
      "source": [
        "<div class=\"alert alert-info\"><h4>Note</h4><p>We can hover over the histories of the item to visualize the last update date for\n  example.</p></div>\n\n"
      ]
    },
    {
      "cell_type": "markdown",
      "metadata": {},
      "source": [
        "Here, we focused on `how` to use skore's tracking of history of items.\nBut `why` track items?\n\n* We could track some items such as machine learning scores over time to better\n  understand which feature engineering works best.\n\n* Avoid overwriting a useful metric by mistake. No results are can be lost.\n\n* The last updated time can help us reproduce an iteration of a key metric.\n\nIn the following, we explore skore's :func:`skore.cross_validate` that natively\nincludes tracking.\n\n"
      ]
    },
    {
      "cell_type": "markdown",
      "metadata": {},
      "source": [
        "Tracking the results of several runs of :func:`skore.cross_validate`\n====================================================================\n\n"
      ]
    },
    {
      "cell_type": "markdown",
      "metadata": {},
      "source": [
        "The `example_cross_validate` example explains why and how to use the\n:func:`skore.cross_validate` function.\nHere, let us see how we can use the tracking of items with this function.\n\n"
      ]
    },
    {
      "cell_type": "markdown",
      "metadata": {},
      "source": [
        "We run several cross-validations using several values of a hyperparameter:\n\n"
      ]
    },
    {
      "cell_type": "code",
      "execution_count": null,
      "metadata": {
        "collapsed": false
      },
      "outputs": [],
      "source": [
        "from sklearn import datasets\nfrom sklearn.linear_model import Lasso\nimport skore\n\ndiabetes = datasets.load_diabetes()\nX = diabetes.data[:150]\ny = diabetes.target[:150]\nlasso = Lasso()\n\nfor alpha in [0.5, 1, 2]:\n    cv_results = skore.cross_validate(\n        Lasso(alpha=alpha), X, y, cv=5, project=my_project\n    )"
      ]
    },
    {
      "cell_type": "markdown",
      "metadata": {},
      "source": [
        "We can compare the metrics of each run of the cross-validation (on all splits):\n\n"
      ]
    },
    {
      "cell_type": "code",
      "execution_count": null,
      "metadata": {
        "collapsed": false
      },
      "outputs": [],
      "source": [
        "fig_plotly = my_project.get_item(\"cross_validation_aggregated\").plot\nfig_plotly"
      ]
    },
    {
      "cell_type": "markdown",
      "metadata": {},
      "source": [
        "Hence, we can observe that the first run, with ``alpha=0.5``, works better.\n\n"
      ]
    },
    {
      "cell_type": "markdown",
      "metadata": {},
      "source": [
        "### Cleanup the project\n\nRemoving the temporary directory:\n\n"
      ]
    },
    {
      "cell_type": "code",
      "execution_count": null,
      "metadata": {
        "collapsed": false
      },
      "outputs": [],
      "source": [
        "temp_dir.cleanup()"
      ]
    }
  ],
  "metadata": {
    "kernelspec": {
      "display_name": "Python 3",
      "language": "python",
      "name": "python3"
    },
    "language_info": {
      "codemirror_mode": {
        "name": "ipython",
        "version": 3
      },
      "file_extension": ".py",
      "mimetype": "text/x-python",
      "name": "python",
      "nbconvert_exporter": "python",
      "pygments_lexer": "ipython3",
      "version": "3.12.7"
    }
  },
  "nbformat": 4,
  "nbformat_minor": 0
}