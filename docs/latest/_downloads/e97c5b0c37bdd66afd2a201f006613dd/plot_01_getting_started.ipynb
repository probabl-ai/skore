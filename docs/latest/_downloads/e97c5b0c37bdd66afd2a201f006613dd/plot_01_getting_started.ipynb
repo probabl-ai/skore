{
  "cells": [
    {
      "cell_type": "markdown",
      "metadata": {},
      "source": [
        "\n\n# Getting started with skore\n\nThis getting started guide illustrates how to use skore and why:\n\n#. Track and visualize your ML/DS results using skore's :class:`~skore.Project` and UI.\n#. Get assistance when developing your ML/DS projects.\n\n   - Scikit-learn compatible :func:`skore.cross_validate` provides insights and checks\n     on cross-validation.\n\n## Creating a skore project, loading it, and launching the UI\n"
      ]
    },
    {
      "cell_type": "markdown",
      "metadata": {},
      "source": [
        "We start by creating a temporary directory to store our project such that we can\neasily clean it after executing this example. If you want to keep the project,\nyou have to skip this section.\n\n"
      ]
    },
    {
      "cell_type": "code",
      "execution_count": null,
      "metadata": {
        "collapsed": false
      },
      "outputs": [],
      "source": [
        "import tempfile\nfrom pathlib import Path\n\ntemp_dir = tempfile.TemporaryDirectory(prefix=\"skore_example_\")\ntemp_dir_path = Path(temp_dir.name)"
      ]
    },
    {
      "cell_type": "markdown",
      "metadata": {},
      "source": [
        "create the skore project\n\n"
      ]
    },
    {
      "cell_type": "code",
      "execution_count": null,
      "metadata": {
        "collapsed": false
      },
      "outputs": [],
      "source": [
        "import skore\n\nmy_project = skore.create(\"my_project\", working_dir=temp_dir_path)"
      ]
    },
    {
      "cell_type": "markdown",
      "metadata": {},
      "source": [
        "This will create a skore project directory named ``my_project.skore`` in your\ncurrent directory.\n\nFrom your shell (in the same directory), start the UI locally:\n\n```bash\npython -m skore launch \"path/to/my_project\"\n```\nThis will automatically open a browser at the UI's location.\n\nNow that the project exists, we can write some Python code (in the same\ndirectory) to add (:func:`~skore.Project.put`) some useful items in it.\n\n"
      ]
    },
    {
      "cell_type": "code",
      "execution_count": null,
      "metadata": {
        "collapsed": false
      },
      "outputs": [],
      "source": [
        "my_project.put(\"my_int\", 3)"
      ]
    },
    {
      "cell_type": "markdown",
      "metadata": {},
      "source": [
        "## Example of machine learning usage: hyperparameter sweep\n\nAs an illustration of skore's usage with a machine learning motivation, let us\nperform a hyperparameter sweep and store relevant information in the skore\nproject.\n\n"
      ]
    },
    {
      "cell_type": "markdown",
      "metadata": {},
      "source": [
        "We search for the ``alpha`` hyperparameter of a Ridge regression on the\nDiabetes dataset:\n\n"
      ]
    },
    {
      "cell_type": "code",
      "execution_count": null,
      "metadata": {
        "collapsed": false
      },
      "outputs": [],
      "source": [
        "import numpy as np\nfrom sklearn.datasets import load_diabetes\nfrom sklearn.linear_model import Ridge\nfrom sklearn.model_selection import GridSearchCV\n\ndiabetes = load_diabetes()\nX = diabetes.data[:150]\ny = diabetes.target[:150]\n\ngs_cv = GridSearchCV(\n    Ridge(),\n    param_grid={\"alpha\": np.logspace(-3, 5, 50)},\n    scoring=\"neg_root_mean_squared_error\",\n)\ngs_cv.fit(X, y)"
      ]
    },
    {
      "cell_type": "markdown",
      "metadata": {},
      "source": [
        "Now, we store the hyperparameter's metrics in a dataframe and make a custom\nplot:\n\n"
      ]
    },
    {
      "cell_type": "code",
      "execution_count": null,
      "metadata": {
        "collapsed": false
      },
      "outputs": [],
      "source": [
        "import pandas as pd\n\ndf = pd.DataFrame(gs_cv.cv_results_)\ndf.insert(len(df.columns), \"rmse\", -df[\"mean_test_score\"].values)\ndf[[\"param_alpha\", \"rmse\"]].head()"
      ]
    },
    {
      "cell_type": "code",
      "execution_count": null,
      "metadata": {
        "collapsed": false
      },
      "outputs": [],
      "source": [
        "import matplotlib.pyplot as plt\n\nfig = plt.figure(layout=\"constrained\", dpi=200)\nplt.plot(df[\"param_alpha\"], df[\"rmse\"])\nplt.xscale(\"log\")\nplt.xlabel(\"Alpha hyperparameter\")\nplt.ylabel(\"RMSE\")\nplt.title(\"Ridge regression\")\nplt.show()"
      ]
    },
    {
      "cell_type": "markdown",
      "metadata": {},
      "source": [
        "|\nFinally, we store some relevant information to our skore project, so that we\ncan visualize them later in the skore UI for example:\n\n"
      ]
    },
    {
      "cell_type": "code",
      "execution_count": null,
      "metadata": {
        "collapsed": false
      },
      "outputs": [],
      "source": [
        "my_project.put(\"my_gs_cv\", gs_cv)\nmy_project.put(\"my_df\", df)\nmy_project.put(\"my_fig\", fig)"
      ]
    },
    {
      "cell_type": "markdown",
      "metadata": {},
      "source": [
        "## Cross-validation with skore\n\nIn order to assist its users when programming, skore has implemented a\n:func:`skore.cross_validate` function that wraps scikit-learn's\n:func:`sklearn.model_selection.cross_validate`, to provide more context and\nfacilitate the analysis.\n\nFor more information on the motivation behind skore's ``cross_validate``,\nsee `example_cross_validate`.\n\nOn the same previous data and a Ridge regressor (with default ``alpha`` value),\nlet us launch skore's cross-validation, which will automatically add\n(:func:`~skore.Project.put`)\na ``cross_validation`` item with a plotly chart in your project.\n\n"
      ]
    },
    {
      "cell_type": "code",
      "execution_count": null,
      "metadata": {
        "collapsed": false
      },
      "outputs": [],
      "source": [
        "from skore import cross_validate\n\ncv_results = cross_validate(Ridge(), X, y, cv=5, project=my_project)\n\nfig_plotly = my_project.get_item(\"cross_validation\").plot\nfig_plotly"
      ]
    },
    {
      "cell_type": "markdown",
      "metadata": {},
      "source": [
        "## Manipulating the skore UI\n\nThe skore UI is a very efficient tool to track and visualize the items in your\nproject, such as grid search or cross-validation results.\n\n#. On the top left, by default, you can observe that you are in a *View* called ``default``. You can rename this view or create another one.\n#. From the *Items* section on the bottom left, you can add stored items to this view, either by clicking on ``+`` or by doing drag-and-drop.\n#. In the skore UI on the right, you can drag-and-drop items to re-order them, remove items, etc.\n\n"
      ]
    },
    {
      "cell_type": "markdown",
      "metadata": {},
      "source": [
        "<img src=\"https://raw.githubusercontent.com/sylvaincom/sylvaincom.github.io/master/files/probabl/skore/2024_10_31_skore_demo_compressed.gif\" alt=\"Getting started with ``skore`` demo\">\n\n"
      ]
    },
    {
      "cell_type": "markdown",
      "metadata": {},
      "source": [
        ".. admonition:: Stay tuned for some new features!\n  Feel free to join our [Discord](https://discord.gg/scBZerAGwW).\n\n"
      ]
    },
    {
      "cell_type": "markdown",
      "metadata": {},
      "source": [
        "### Cleanup the project\n\nRemove the temporary directory:\n\n"
      ]
    },
    {
      "cell_type": "code",
      "execution_count": null,
      "metadata": {
        "collapsed": false
      },
      "outputs": [],
      "source": [
        "temp_dir.cleanup()"
      ]
    }
  ],
  "metadata": {
    "kernelspec": {
      "display_name": "Python 3",
      "language": "python",
      "name": "python3"
    },
    "language_info": {
      "codemirror_mode": {
        "name": "ipython",
        "version": 3
      },
      "file_extension": ".py",
      "mimetype": "text/x-python",
      "name": "python",
      "nbconvert_exporter": "python",
      "pygments_lexer": "ipython3",
      "version": "3.12.7"
    }
  },
  "nbformat": 4,
  "nbformat_minor": 0
}