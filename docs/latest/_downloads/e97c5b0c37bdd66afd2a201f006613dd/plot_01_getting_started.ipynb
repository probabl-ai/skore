{
  "cells": [
    {
      "cell_type": "markdown",
      "metadata": {},
      "source": [
        "\n\n# Getting started with skore\n\nThis getting started guide illustrates how to use skore and why:\n\n#. Track and visualize your ML/DS results using skore's :class:`~skore.Project` and UI.\n#. Get assistance when developing your ML/DS projects.\n\n   - Scikit-learn compatible :func:`~skore.cross_validate` provides insights and checks on cross-validation.\n\n\n## Creating a skore project, loading it, and launching the UI\n"
      ]
    },
    {
      "cell_type": "markdown",
      "metadata": {},
      "source": [
        "From your shell, initialize a skore project, here named ``my_project``:\n\n"
      ]
    },
    {
      "cell_type": "code",
      "execution_count": null,
      "metadata": {
        "collapsed": false
      },
      "outputs": [],
      "source": [
        "import subprocess\n\n# remove the skore project if it already exists\nsubprocess.run(\"rm -rf my_project.skore\".split())\n\n# create the skore project\nsubprocess.run(\"python3 -m skore create my_project\".split())"
      ]
    },
    {
      "cell_type": "markdown",
      "metadata": {},
      "source": [
        "This will create a skore project directory named ``my_project.skore`` in your\ncurrent directory.\n\nFrom your shell (in the same directory), start the UI locally:\n\n```bash\npython -m skore launch \"my_project\"\n```\nThis will automatically open a browser at the UI's location.\n\nNow that the project exists, we can write some Python code (in the same\ndirectory) to add (:func:`~skore.Project.put`) some useful items in it.\nLet us load the project and add an integer to it for example:\n\n"
      ]
    },
    {
      "cell_type": "code",
      "execution_count": null,
      "metadata": {
        "collapsed": false
      },
      "outputs": [],
      "source": [
        "from skore import load\n\nmy_project = load(\"my_project.skore\")\nmy_project.put(\"my_int\", 3)"
      ]
    },
    {
      "cell_type": "markdown",
      "metadata": {},
      "source": [
        "## Example of machine learning usage: hyperparameter sweep\n\nAs an illustration of skore's usage with a machine learning motivation, let us\nperform a hyperparameter sweep and store relevant information in the skore\nproject.\n\n"
      ]
    },
    {
      "cell_type": "markdown",
      "metadata": {},
      "source": [
        "We search for the ``alpha`` hyperparameter of a Ridge regression on the\nDiabetes dataset:\n\n"
      ]
    },
    {
      "cell_type": "code",
      "execution_count": null,
      "metadata": {
        "collapsed": false
      },
      "outputs": [],
      "source": [
        "import numpy as np\nfrom sklearn.datasets import load_diabetes\nfrom sklearn.model_selection import GridSearchCV\nfrom sklearn.linear_model import Ridge\n\ndiabetes = load_diabetes()\nX = diabetes.data[:150]\ny = diabetes.target[:150]\n\ngs_cv = GridSearchCV(\n    Ridge(),\n    param_grid={\"alpha\": np.logspace(-3, 5, 50)},\n    scoring=\"neg_root_mean_squared_error\",\n)\ngs_cv.fit(X, y)"
      ]
    },
    {
      "cell_type": "markdown",
      "metadata": {},
      "source": [
        "Now, we store the hyperparameter's metrics in a dataframe and make a custom\nplot:\n\n"
      ]
    },
    {
      "cell_type": "code",
      "execution_count": null,
      "metadata": {
        "collapsed": false
      },
      "outputs": [],
      "source": [
        "import pandas as pd\n\ndf = pd.DataFrame(gs_cv.cv_results_)\ndf.insert(len(df.columns), \"rmse\", -df[\"mean_test_score\"].values)\ndf[[\"param_alpha\", \"rmse\"]].head()"
      ]
    },
    {
      "cell_type": "code",
      "execution_count": null,
      "metadata": {
        "collapsed": false
      },
      "outputs": [],
      "source": [
        "import matplotlib.pyplot as plt\n\nfig = plt.figure(layout=\"constrained\")\nplt.plot(df[\"param_alpha\"], df[\"rmse\"])\nplt.xscale(\"log\")\nplt.xlabel(\"Alpha hyperparameter\")\nplt.ylabel(\"RMSE\")\nplt.title(\"Ridge regression\")\nplt.show()"
      ]
    },
    {
      "cell_type": "markdown",
      "metadata": {},
      "source": [
        "|\nFinally, we store some relevant information to our skore project, so that we\ncan visualize them later in the skore UI for example:\n\n"
      ]
    },
    {
      "cell_type": "code",
      "execution_count": null,
      "metadata": {
        "collapsed": false
      },
      "outputs": [],
      "source": [
        "my_project.put(\"my_gs_cv\", gs_cv)\nmy_project.put(\"my_df\", df)\nmy_project.put(\"my_fig\", fig)"
      ]
    },
    {
      "cell_type": "markdown",
      "metadata": {},
      "source": [
        "## Cross-validation with skore\n\nIn order to assist its users when programming, skore has implemented a\n:func:`~skore.cross_validate` function that wraps scikit-learn's\n:func:`~sklearn.model_selection.cross_validate`, to provide more context and\nfacilitate the analysis.\n\nFor more information on the motivation behind skore's ``cross_validate``,\nsee `example_cross_validate`.\n\nOn the same previous data and a Ridge regressor (with default ``alpha`` value),\nlet us launch skore's cross-validation, which will automatically add\n(:func:`~skore.Project.put`)\na ``cross_validation`` item with a plotly chart in your project.\n\n"
      ]
    },
    {
      "cell_type": "code",
      "execution_count": null,
      "metadata": {
        "collapsed": false
      },
      "outputs": [],
      "source": [
        "from skore import cross_validate\n\ncv_results = cross_validate(Ridge(), X, y, cv=5, project=my_project)\n\nfig_plotly = my_project.get_item(\"cross_validation\").plot"
      ]
    },
    {
      "cell_type": "markdown",
      "metadata": {},
      "source": [
        "<div class=\"alert alert-info\"><h4>Note</h4><p>Because Plotly graphs currently do not properly render in our Sphinx\n  auto-examples docs engine due to\n  [a bug in Plotly](https://github.com/plotly/plotly.py/issues/4828),\n  we display its static image below.</p></div>\n\n"
      ]
    },
    {
      "cell_type": "code",
      "execution_count": null,
      "metadata": {
        "collapsed": false
      },
      "outputs": [],
      "source": [
        "import matplotlib.pyplot as plt\nimport matplotlib.image as mpimg\n\nfig_plotly.write_image(\"plot_01_cross_validation.png\", scale=2)\n\nimg = mpimg.imread(\"plot_01_cross_validation.png\")\nfig, ax = plt.subplots(layout=\"constrained\")\nax.axis(\"off\")\nax.imshow(img)\nplt.show()"
      ]
    },
    {
      "cell_type": "markdown",
      "metadata": {},
      "source": [
        "## Manipulating the skore UI\n\nThe skore UI is a very efficient tool to track and visualize the items in your\nproject, such as grid search or cross-validation results.\n\n#. On the top left, by default, you can observe that you are in a *View* called ``default``. You can rename this view or create another one.\n#. From the *Items* section on the bottom left, you can add stored items to this view, either by clicking on ``+`` or by doing drag-and-drop.\n#. In the skore UI on the right, you can drag-and-drop items to re-order them, remove items, etc.\n\n"
      ]
    },
    {
      "cell_type": "markdown",
      "metadata": {},
      "source": [
        "<img src=\"https://raw.githubusercontent.com/sylvaincom/sylvaincom.github.io/master/files/probabl/skore/2024_10_31_skore_demo_compressed.gif\" alt=\"Getting started with ``skore`` demo\">\n\n"
      ]
    },
    {
      "cell_type": "markdown",
      "metadata": {},
      "source": [
        ".. admonition:: Stay tuned for some new features!\n  Feel free to join our [Discord](https://discord.gg/scBZerAGwW).\n\n"
      ]
    }
  ],
  "metadata": {
    "kernelspec": {
      "display_name": "Python 3",
      "language": "python",
      "name": "python3"
    },
    "language_info": {
      "codemirror_mode": {
        "name": "ipython",
        "version": 3
      },
      "file_extension": ".py",
      "mimetype": "text/x-python",
      "name": "python",
      "nbconvert_exporter": "python",
      "pygments_lexer": "ipython3",
      "version": "3.12.7"
    }
  },
  "nbformat": 4,
  "nbformat_minor": 0
}