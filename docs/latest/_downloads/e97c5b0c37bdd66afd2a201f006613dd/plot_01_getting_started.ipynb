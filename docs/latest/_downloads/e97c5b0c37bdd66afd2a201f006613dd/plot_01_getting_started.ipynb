{
  "cells": [
    {
      "cell_type": "markdown",
      "metadata": {},
      "source": [
        "\n# 1) Getting started with ``skore``\n\nThis example runs the `getting_started` guide.\n\n## ``skore`` UI\n\nThis section provides a quick start to the ``skore`` UI, an open-source package that aims to enable data scientists to:\n\n#. Store objects of different types from their Python code: python lists, ``scikit-learn`` fitted pipelines, ``plotly`` figures, and more.\n#. Track and visualize these stored objects on a user-friendly dashboard.\n#. Export the dashboard to a HTML file.\n\n### Initialize a Project and launch the UI\n\nFrom your shell, initialize a skore project, here named ``my_project_gs``, that\nwill be in your current working directory:\n"
      ]
    },
    {
      "cell_type": "code",
      "execution_count": null,
      "metadata": {
        "collapsed": false
      },
      "outputs": [],
      "source": [
        "import subprocess\n\n# remove the project if it already exists\nsubprocess.run(\"rm -rf my_project_gs.skore\".split())\n\n# create the project\nsubprocess.run(\"python3 -m skore create my_project_gs\".split())"
      ]
    },
    {
      "cell_type": "markdown",
      "metadata": {},
      "source": [
        "This will create a ``skore`` project directory named ``my_project_gs`` in the\ncurrent directory.\n\nFrom your shell (in the same directory), start the UI locally:\n\n.. code:: console\n\n    python -m skore launch \"my_project_gs\"\n\nThis will automatically open a browser at the UI's location.\n\nNow that the project file exists, we can load it in our notebook so that we can\nread from and write to it:\n\n"
      ]
    },
    {
      "cell_type": "code",
      "execution_count": null,
      "metadata": {
        "collapsed": false
      },
      "outputs": [],
      "source": [
        "from skore import load\n\nmy_project_gs = load(\"my_project_gs.skore\")"
      ]
    },
    {
      "cell_type": "markdown",
      "metadata": {},
      "source": [
        "### Storing some items\n\nStoring an integer:\n\n"
      ]
    },
    {
      "cell_type": "code",
      "execution_count": null,
      "metadata": {
        "collapsed": false
      },
      "outputs": [],
      "source": [
        "my_project_gs.put(\"my_int\", 3)"
      ]
    },
    {
      "cell_type": "markdown",
      "metadata": {},
      "source": [
        "Here, the name of my stored item is ``my_int`` and the integer value is 3.\n\n"
      ]
    },
    {
      "cell_type": "code",
      "execution_count": null,
      "metadata": {
        "collapsed": false
      },
      "outputs": [],
      "source": [
        "my_project_gs.get(\"my_int\")"
      ]
    },
    {
      "cell_type": "markdown",
      "metadata": {},
      "source": [
        "For a ``pandas`` data frame:\n\n"
      ]
    },
    {
      "cell_type": "code",
      "execution_count": null,
      "metadata": {
        "collapsed": false
      },
      "outputs": [],
      "source": [
        "import numpy as np\nimport pandas as pd\n\nmy_df = pd.DataFrame(np.random.randn(3, 3))\n\nmy_project_gs.put(\"my_df\", my_df)"
      ]
    },
    {
      "cell_type": "code",
      "execution_count": null,
      "metadata": {
        "collapsed": false
      },
      "outputs": [],
      "source": [
        "my_project_gs.get(\"my_df\")"
      ]
    },
    {
      "cell_type": "markdown",
      "metadata": {},
      "source": [
        "For a ``matplotlib`` figure:\n\n"
      ]
    },
    {
      "cell_type": "code",
      "execution_count": null,
      "metadata": {
        "collapsed": false
      },
      "outputs": [],
      "source": [
        "import matplotlib.pyplot as plt\n\nx = [0, 1, 2, 3, 4, 5]\nfig, ax = plt.subplots(figsize=(5, 3), layout=\"constrained\")\n_ = ax.plot(x)\n\nmy_project_gs.put(\"my_figure\", fig)"
      ]
    },
    {
      "cell_type": "markdown",
      "metadata": {},
      "source": [
        "For a ``scikit-learn`` fitted pipeline:\n\n"
      ]
    },
    {
      "cell_type": "code",
      "execution_count": null,
      "metadata": {
        "collapsed": false
      },
      "outputs": [],
      "source": [
        "from sklearn.datasets import load_diabetes\nfrom sklearn.linear_model import Lasso\nfrom sklearn.pipeline import Pipeline\nfrom sklearn.preprocessing import StandardScaler\n\ndiabetes = load_diabetes()\nX = diabetes.data[:150]\ny = diabetes.target[:150]\nmy_pipeline = Pipeline(\n    [(\"standard_scaler\", StandardScaler()), (\"lasso\", Lasso(alpha=2))]\n)\nmy_pipeline.fit(X, y)\n\nmy_project_gs.put(\"my_fitted_pipeline\", my_pipeline)"
      ]
    },
    {
      "cell_type": "code",
      "execution_count": null,
      "metadata": {
        "collapsed": false
      },
      "outputs": [],
      "source": [
        "my_project_gs.get(\"my_fitted_pipeline\")"
      ]
    },
    {
      "cell_type": "markdown",
      "metadata": {},
      "source": [
        "### Back to the dashboard\n\n#. On the top left, create a new ``View``.\n#. From the ``Elements`` section on the bottom left, you can add stored items to this view, either by double-cliking on them or by doing drag-and-drop.\n\n<img src=\"https://raw.githubusercontent.com/sylvaincom/sylvaincom.github.io/master/files/probabl/skore/2024_10_14_skore_demo.gif\" alt=\"Getting started with ``skore`` demo\">\n\n"
      ]
    }
  ],
  "metadata": {
    "kernelspec": {
      "display_name": "Python 3",
      "language": "python",
      "name": "python3"
    },
    "language_info": {
      "codemirror_mode": {
        "name": "ipython",
        "version": 3
      },
      "file_extension": ".py",
      "mimetype": "text/x-python",
      "name": "python",
      "nbconvert_exporter": "python",
      "pygments_lexer": "ipython3",
      "version": "3.12.3"
    }
  },
  "nbformat": 4,
  "nbformat_minor": 0
}